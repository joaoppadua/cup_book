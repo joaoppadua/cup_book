{
 "cells": [
  {
   "cell_type": "code",
   "execution_count": 4,
   "metadata": {},
   "outputs": [
    {
     "name": "stdout",
     "output_type": "stream",
     "text": [
      "Collecting en-core-web-sm==3.8.0\n",
      "  Downloading https://github.com/explosion/spacy-models/releases/download/en_core_web_sm-3.8.0/en_core_web_sm-3.8.0-py3-none-any.whl (12.8 MB)\n",
      "\u001b[2K     \u001b[90m━━━━━━━━━━━━━━━━━━━━━━━━━━━━━━━━━━━━━━━━\u001b[0m \u001b[32m12.8/12.8 MB\u001b[0m \u001b[31m4.8 MB/s\u001b[0m eta \u001b[36m0:00:00\u001b[0ma \u001b[36m0:00:01\u001b[0m\n",
      "\u001b[?25hInstalling collected packages: en-core-web-sm\n",
      "Successfully installed en-core-web-sm-3.8.0\n",
      "\u001b[38;5;2m✔ Download and installation successful\u001b[0m\n",
      "You can now load the package via spacy.load('en_core_web_sm')\n"
     ]
    }
   ],
   "source": [
    "import spacy \n",
    "!python -m spacy download en_core_web_sm\n",
    "\n",
    "nlp = spacy.load(\"en_core_web_sm\")\n"
   ]
  },
  {
   "cell_type": "code",
   "execution_count": 5,
   "metadata": {},
   "outputs": [],
   "source": [
    "doc = nlp(\"The cat sat on the mat.\")"
   ]
  },
  {
   "cell_type": "code",
   "execution_count": 7,
   "metadata": {},
   "outputs": [
    {
     "name": "stdout",
     "output_type": "stream",
     "text": [
      "The vector for the word \"cat\" is: [ 0.19139624  0.4636482   0.76218784 -0.60033005 -0.56919485 -0.68975353\n",
      " -0.6356865   0.1565575   0.5258063   0.38306275  1.0586488   1.1239659\n",
      " -0.40809563 -0.9032941  -0.04660868  0.25960088 -0.6296698  -0.4514078\n",
      "  0.7506286   0.3208635  -0.30772424  0.61492926 -0.27321324 -0.3420769\n",
      " -0.6111228  -0.6280246  -0.20313415  0.72393507 -0.6763722  -0.7980095\n",
      " -0.42158404  0.18658891 -0.0152843  -0.21545924 -0.33112627 -0.05074367\n",
      " -0.48358756  0.6380849  -0.3332311  -1.0788169   2.3174975   1.6112143\n",
      "  0.36665124 -1.1233286   0.2696401   0.37218764  0.85868996 -0.67683303\n",
      "  0.5684024   0.43938047 -0.522025   -0.16613254 -0.4988583  -1.1805303\n",
      "  0.15709789 -0.36193004  1.0824492   0.15032619 -0.0542983   0.30495995\n",
      "  0.6668717  -0.24672669 -0.4174874   1.0448953  -0.23839809 -0.9574771\n",
      " -0.33200735 -0.52111375 -0.00374161  0.11947274 -0.38294747 -0.28050506\n",
      "  0.19621894 -0.24249141  0.29626745 -0.22786093 -0.8465544  -0.8006066\n",
      " -0.3889041  -0.57558584  0.26543903 -0.15451269  0.01257264  1.7601283\n",
      "  1.0383203  -0.5522722  -0.2592312  -0.9576942  -0.02971984 -0.65112334\n",
      "  0.17340535 -0.35611787 -0.46937057  0.43433344  0.84786457  1.2064958 ]\n",
      "The dimensions of the vector are: (96,)\n"
     ]
    }
   ],
   "source": [
    "#find the vector for the word \"cat\"\n",
    "cat_vector = doc[2].vector\n",
    "print(f'The vector for the word \"cat\" is: {cat_vector}')\n",
    "print(f'The dimensions of the vector are: {cat_vector.shape}')\n",
    "\n",
    "\n"
   ]
  },
  {
   "cell_type": "code",
   "execution_count": null,
   "metadata": {},
   "outputs": [],
   "source": []
  }
 ],
 "metadata": {
  "kernelspec": {
   "display_name": "cup",
   "language": "python",
   "name": "python3"
  },
  "language_info": {
   "codemirror_mode": {
    "name": "ipython",
    "version": 3
   },
   "file_extension": ".py",
   "mimetype": "text/x-python",
   "name": "python",
   "nbconvert_exporter": "python",
   "pygments_lexer": "ipython3",
   "version": "3.12.7"
  }
 },
 "nbformat": 4,
 "nbformat_minor": 2
}
