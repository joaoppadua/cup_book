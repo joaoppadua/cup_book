{
 "cells": [
  {
   "cell_type": "code",
   "execution_count": 1,
   "metadata": {},
   "outputs": [],
   "source": [
    "import tiktoken\n",
    "\n",
    "encoding = tiktoken.encoding_for_model(\"gpt-4o\")\n"
   ]
  },
  {
   "cell_type": "code",
   "execution_count": 10,
   "metadata": {},
   "outputs": [
    {
     "name": "stderr",
     "output_type": "stream",
     "text": [
      "[nltk_data] Downloading package punkt to\n",
      "[nltk_data]     /Users/joaopedropadua/nltk_data...\n",
      "[nltk_data]   Package punkt is already up-to-date!\n"
     ]
    },
    {
     "data": {
      "text/plain": [
       "True"
      ]
     },
     "execution_count": 10,
     "metadata": {},
     "output_type": "execute_result"
    }
   ],
   "source": [
    "import nltk\n",
    "nltk.download('punkt')"
   ]
  },
  {
   "cell_type": "code",
   "execution_count": 2,
   "metadata": {},
   "outputs": [],
   "source": [
    "#Create a sample sentence using the U.S. Constitution Preamble\n",
    "\n",
    "sentence = \"\"\"\n",
    "We the People of the United States, in Order to form a more perfect Union, establish Justice, \n",
    "insure domestic Tranquility, provide for the common defense, promote the general Welfare, \n",
    "and secure the Blessings of Liberty to ourselves and our Posterity, do ordain and establish this \n",
    "Constitution for the United States of America.\n",
    "\"\"\"\n"
   ]
  },
  {
   "cell_type": "code",
   "execution_count": 3,
   "metadata": {},
   "outputs": [],
   "source": [
    "#tokenize the sentence\n",
    "tokens = encoding.encode(sentence)\n",
    "\n",
    "\n"
   ]
  },
  {
   "cell_type": "code",
   "execution_count": 6,
   "metadata": {},
   "outputs": [
    {
     "name": "stdout",
     "output_type": "stream",
     "text": [
      "[198, 2167, 290, 12598, 328, 290, 5553, 6737, 11, 306, 10735, 316, 1625, 261, 945, 4387, 14746, 11, 12791, 26271, 11, 793, 1564, 627, 21578, 1514, 57764, 1763, 11, 3587, 395, 290, 5355, 18713, 11, 15232, 290, 5985, 109599, 11, 793, 427, 11846, 290, 60325, 963, 328, 51868, 316, 18005, 326, 1039, 75336, 536, 11, 621, 6608, 524, 326, 12791, 495, 793, 909, 20066, 395, 290, 5553, 6737, 328, 8108, 558]\n",
      "71\n"
     ]
    }
   ],
   "source": [
    "#show the ids of the tokens\n",
    "print(tokens)\n",
    "print(len(tokens))\n"
   ]
  },
  {
   "cell_type": "code",
   "execution_count": 9,
   "metadata": {},
   "outputs": [
    {
     "name": "stdout",
     "output_type": "stream",
     "text": [
      "['\\n', 'We', ' the', ' People', ' of', ' the', ' United', ' States', ',', ' in']\n"
     ]
    }
   ],
   "source": [
    "#list the first 10 tokens in a readable format\n",
    "token_l = [encoding.decode([token]) for token in tokens[:10]]\n",
    "print(token_l)\n",
    "\n"
   ]
  },
  {
   "cell_type": "code",
   "execution_count": 13,
   "metadata": {},
   "outputs": [
    {
     "name": "stdout",
     "output_type": "stream",
     "text": [
      "[' America', '.\\n']\n"
     ]
    }
   ],
   "source": [
    "#show the last 2 tokens in a readable format\n",
    "token_l = [encoding.decode([token]) for token in tokens[-2:]]\n",
    "print(token_l)\n"
   ]
  },
  {
   "cell_type": "code",
   "execution_count": null,
   "metadata": {},
   "outputs": [
    {
     "name": "stdout",
     "output_type": "stream",
     "text": [
      "['We', 'the', 'People', 'of', 'the', 'United', 'States', ',', 'in', 'Order', 'to', 'form', 'a', 'more', 'perfect', 'Union', ',', 'establish', 'Justice', ',', 'insure', 'domestic', 'Tranquility', ',', 'provide', 'for', 'the', 'common', 'defense', ',', 'promote', 'the', 'general', 'Welfare', ',', 'and', 'secure', 'the', 'Blessings', 'of', 'Liberty', 'to', 'ourselves', 'and', 'our', 'Posterity', ',', 'do', 'ordain', 'and', 'establish', 'this', 'Constitution', 'for', 'the', 'United', 'States', 'of', 'America', '.']\n",
      "60\n"
     ]
    }
   ],
   "source": [
    "#compare this with word tokenization\n",
    "words = nltk.word_tokenize(sentence)\n",
    "print(words)\n",
    "print(len(words))\n",
    "\n"
   ]
  },
  {
   "cell_type": "code",
   "execution_count": 12,
   "metadata": {},
   "outputs": [
    {
     "name": "stdout",
     "output_type": "stream",
     "text": [
      "['We', 'the', 'People', 'of', 'the', 'United', 'States', ',', 'in', 'Order']\n"
     ]
    }
   ],
   "source": [
    "#Get the first 10 words\n",
    "words_l = [word for word in words[:10]]\n",
    "print(words_l)\n",
    "\n"
   ]
  },
  {
   "cell_type": "code",
   "execution_count": null,
   "metadata": {},
   "outputs": [],
   "source": []
  }
 ],
 "metadata": {
  "kernelspec": {
   "display_name": "cup",
   "language": "python",
   "name": "python3"
  },
  "language_info": {
   "codemirror_mode": {
    "name": "ipython",
    "version": 3
   },
   "file_extension": ".py",
   "mimetype": "text/x-python",
   "name": "python",
   "nbconvert_exporter": "python",
   "pygments_lexer": "ipython3",
   "version": "3.12.7"
  }
 },
 "nbformat": 4,
 "nbformat_minor": 2
}
