{
 "cells": [
  {
   "cell_type": "markdown",
   "metadata": {},
   "source": [
    "# Analyzing authorship of tweets from Rihanna and Katy Perry using Claude"
   ]
  },
  {
   "cell_type": "code",
   "execution_count": 1,
   "metadata": {},
   "outputs": [],
   "source": [
    "import os \n",
    "import sys\n",
    "sys.path.append(os.path.abspath('..'))"
   ]
  },
  {
   "cell_type": "code",
   "execution_count": 2,
   "metadata": {},
   "outputs": [],
   "source": [
    "import pickle\n",
    "import pandas as pd\n",
    "import numpy as np\n",
    "import sklearn"
   ]
  },
  {
   "cell_type": "code",
   "execution_count": 4,
   "metadata": {},
   "outputs": [],
   "source": [
    "from anthropic import Anthropic\n",
    "from credentials import get_credentials_claude\n",
    "\n",
    "API_KEY = get_credentials_claude()\n",
    "\n",
    "client = Anthropic(api_key=API_KEY)\n"
   ]
  },
  {
   "cell_type": "code",
   "execution_count": 5,
   "metadata": {},
   "outputs": [],
   "source": [
    "# Load data\n",
    "\n",
    "# load training data\n",
    "with open('./data/sampled_author_texts.pkl', 'rb') as f:\n",
    "    training_data = pickle.load(f)\n",
    "\n",
    "#load test data\n",
    "with open('./data/twitter_test.pkl', 'rb') as f:\n",
    "    test_data = pickle.load(f)"
   ]
  },
  {
   "cell_type": "code",
   "execution_count": 6,
   "metadata": {},
   "outputs": [
    {
     "name": "stdout",
     "output_type": "stream",
     "text": [
      "It's just beyond the vault. Discover room 7 of the #ANTIdiaRy at https://t.co/uJ0CLlhoaS https://t.co/povYOBn3Fm\n",
      "Author: rihanna\n"
     ]
    }
   ],
   "source": [
    "# Get a random tweet from the test set\n",
    "random_tweet_text = test_data['content'].sample(n=1, random_state=42).values[0]\n",
    "random_tweet_author = test_data.loc[test_data['content'] == random_tweet_text, 'author'].values[0]\n",
    "print(random_tweet_text)\n",
    "print(f\"Author: {random_tweet_author}\")\n"
   ]
  },
  {
   "cell_type": "code",
   "execution_count": 7,
   "metadata": {},
   "outputs": [],
   "source": [
    "# Create the template prompt\n",
    "\n",
    "prompt = f\"\"\"\n",
    "You are an expert in linguistic analysis and authorship attribution. Your task is to analyze authorship--i.e. idiolectal--markers that the \\\n",
    "texts reveal about their authors.\n",
    "\n",
    "\n",
    "You will be provided with:\n",
    "1. Training samples (tweets) from 2 different authors, Rihanna and Katy Perry\n",
    "2. A new text whose author you need to identify between those two authors\n",
    "\n",
    "Guideline for analysis:\n",
    "- Just use state of the art techniques to attribute authorship\n",
    "\n",
    "Rihanna's tweets:\n",
    "{training_data['rihanna']}\n",
    "\n",
    "Katy Perry's tweets:\n",
    "{training_data['katyperry']}\n",
    "\n",
    "New text to analyze:\n",
    "{random_tweet_text}\n",
    "\n",
    "Your answer should contain only the author's name and nothing else.\n",
    "\n",
    "\"\"\""
   ]
  },
  {
   "cell_type": "code",
   "execution_count": 8,
   "metadata": {},
   "outputs": [],
   "source": [
    "# Create a completion function that will be used to query the model\n",
    "def get_completion(prompt: str, max_tokens=5000) -> str:\n",
    "    response = client.messages.create(\n",
    "        model=\"claude-3-5-sonnet-20240620\",\n",
    "        messages=[{\"role\": \"user\", \"content\": prompt}],\n",
    "        max_tokens=max_tokens,\n",
    "        )\n",
    "    return response.content[0].text"
   ]
  },
  {
   "cell_type": "code",
   "execution_count": 9,
   "metadata": {},
   "outputs": [
    {
     "name": "stdout",
     "output_type": "stream",
     "text": [
      "Rihanna\n"
     ]
    }
   ],
   "source": [
    "first_prediction = get_completion(prompt)\n",
    "print(first_prediction)"
   ]
  },
  {
   "cell_type": "code",
   "execution_count": 10,
   "metadata": {},
   "outputs": [
    {
     "name": "stdout",
     "output_type": "stream",
     "text": [
      "Actual author: rihanna\n",
      "Predicted author: rihanna\n",
      "Prediction is correct: True\n",
      "Accuracy: 1\n"
     ]
    }
   ],
   "source": [
    "# Check if the prediction is accurate\n",
    "# Get the actual author of the random tweet\n",
    "actual_author = random_tweet_author.lower()\n",
    "\n",
    "# Get the predicted author from the model's response\n",
    "predicted_author = first_prediction.strip().lower()\n",
    "\n",
    "# Check if the prediction matches the actual author\n",
    "is_correct = predicted_author == actual_author\n",
    "\n",
    "print(f\"Actual author: {actual_author}\")\n",
    "print(f\"Predicted author: {predicted_author}\")\n",
    "print(f\"Prediction is correct: {is_correct}\")\n",
    "\n",
    "# Calculate accuracy (1 for correct, 0 for incorrect)\n",
    "accuracy = 1 if is_correct else 0\n",
    "print(f\"Accuracy: {accuracy}\")\n"
   ]
  },
  {
   "cell_type": "code",
   "execution_count": 20,
   "metadata": {},
   "outputs": [
    {
     "name": "stdout",
     "output_type": "stream",
     "text": [
      "Created sample dataset with 100 tweets\n",
      "\n",
      "Sample distribution:\n",
      "author\n",
      "rihanna      56\n",
      "katyperry    44\n",
      "Name: count, dtype: int64\n"
     ]
    }
   ],
   "source": [
    "# Create sampled dataset\n",
    "n_samples = 100\n",
    "sampled_tweets = test_data.sample(n=n_samples, random_state=42).reset_index(drop=True)\n",
    "\n",
    "print(f\"Created sample dataset with {len(sampled_tweets)} tweets\")\n",
    "print(\"\\nSample distribution:\")\n",
    "print(sampled_tweets['author'].value_counts())"
   ]
  },
  {
   "cell_type": "code",
   "execution_count": 16,
   "metadata": {},
   "outputs": [],
   "source": [
    "# Helper functions\n",
    "\n",
    "# Function to get a subset of training data\n",
    "def get_training_sample(training_data, n_samples=15):\n",
    "    rihanna_tweets = training_data['rihanna'].split('\\n')\n",
    "    katy_tweets = training_data['katyperry'].split('\\n')\n",
    "    \n",
    "    # Filter out empty strings and sample\n",
    "    rihanna_sample = sample([t for t in rihanna_tweets if t.strip()], n_samples)\n",
    "    katy_sample = sample([t for t in katy_tweets if t.strip()], n_samples)\n",
    "    \n",
    "    return {\n",
    "        'rihanna': '\\n'.join(rihanna_sample),\n",
    "        'katyperry': '\\n'.join(katy_sample)\n",
    "    }\n",
    "\n",
    "# Function to normalize author names\n",
    "def normalize_author_name(name):\n",
    "    \"\"\"Normalize author names to handle variations\"\"\"\n",
    "    name = name.lower().strip()\n",
    "    # Handle variations of Katy Perry's name\n",
    "    if name in ['katy perry', 'katyperry', 'katy']:\n",
    "        return 'katyperry'\n",
    "    # Handle variations of Rihanna's name\n",
    "    if name in ['rihanna', 'riri']:\n",
    "        return 'rihanna'\n",
    "    return name"
   ]
  },
  {
   "cell_type": "code",
   "execution_count": 21,
   "metadata": {},
   "outputs": [
    {
     "name": "stdout",
     "output_type": "stream",
     "text": [
      "Starting processing of 100 tweets in 10 batches\n",
      "Completed batch 1/10 (tweets 0-9)\n",
      "  Taking a 30 secondbreak...\n",
      "Completed batch 2/10 (tweets 10-19)\n",
      "  Taking a 30 secondbreak...\n",
      "Completed batch 3/10 (tweets 20-29)\n",
      "  Taking a 30 secondbreak...\n",
      "Completed batch 4/10 (tweets 30-39)\n",
      "  Taking a 30 secondbreak...\n",
      "Completed batch 5/10 (tweets 40-49)\n",
      "  Taking a 30 secondbreak...\n",
      "Completed batch 6/10 (tweets 50-59)\n",
      "  Taking a 30 secondbreak...\n",
      "Completed batch 7/10 (tweets 60-69)\n",
      "  ⚠️  4 errors in this batch\n",
      "  Taking a 30 secondbreak...\n",
      "Completed batch 8/10 (tweets 70-79)\n",
      "  Taking a 30 secondbreak...\n",
      "Completed batch 9/10 (tweets 80-89)\n",
      "  Taking a 30 secondbreak...\n",
      "Completed batch 10/10 (tweets 90-99)\n",
      "\n",
      "Processing complete!\n",
      "Successfully processed: 96 tweets\n",
      "Total errors: 4\n"
     ]
    }
   ],
   "source": [
    "# Process tweets in batches of 10\n",
    "import time\n",
    "from random import sample\n",
    "\n",
    "\n",
    "batch_size = 10\n",
    "total_batches = len(sampled_tweets) // batch_size + (1 if len(sampled_tweets) % batch_size > 0 else 0)\n",
    "\n",
    "# Store results\n",
    "results = []  # tuples of (tweet_idx, tweet_text, actual_author, predicted_author)\n",
    "errors = []   \n",
    "print(f\"Starting processing of {len(sampled_tweets)} tweets in {total_batches} batches\")\n",
    "\n",
    "for batch in range(total_batches):\n",
    "    start_idx = batch * batch_size\n",
    "    end_idx = min((batch + 1) * batch_size, len(sampled_tweets))\n",
    "    \n",
    "    # Get a fresh sample of training data for this batch\n",
    "    batch_training_data = get_training_sample(training_data)\n",
    "    batch_errors = 0\n",
    "    \n",
    "    for idx in range(start_idx, end_idx):\n",
    "        row = sampled_tweets.iloc[idx]\n",
    "        tweet_text = row['content']\n",
    "        actual_author = normalize_author_name(row['author'])\n",
    "        \n",
    "        prompt = f\"\"\"\n",
    "You are an expert in linguistic analysis and authorship attribution. Your task is to analyze authorship--i.e. idiolectal--markers that the \\\n",
    "texts reveal about their authors.\n",
    "\n",
    "You will be provided with:\n",
    "1. Training samples (tweets) from 2 different authors, Rihanna and Katy Perry\n",
    "2. A new text whose author you need to identify between those two authors\n",
    "\n",
    "Guideline for analysis:\n",
    "- Just use state of the art techniques to attribute authorship\n",
    "\n",
    "Rihanna's tweets:\n",
    "{batch_training_data['rihanna']}\n",
    "\n",
    "Katy Perry's tweets:\n",
    "{batch_training_data['katyperry']}\n",
    "\n",
    "New text to analyze:\n",
    "{tweet_text}\n",
    "\n",
    "Your answer should contain only the author's name and nothing else.\n",
    "\"\"\"\n",
    "        max_retries = 3\n",
    "        retry_delay = 120  \n",
    "        \n",
    "        for retry in range(max_retries):\n",
    "            try:\n",
    "                raw_prediction = get_completion(prompt).strip().lower()\n",
    "                prediction = normalize_author_name(raw_prediction)\n",
    "                \n",
    "                 # Only store if it's a valid prediction after normalization\n",
    "                if prediction in ['rihanna', 'katyperry']:\n",
    "                    results.append((idx, tweet_text, actual_author, prediction))\n",
    "                else:\n",
    "                    batch_errors += 1\n",
    "                    errors.append((idx, f\"Invalid prediction: {raw_prediction}\"))\n",
    "                \n",
    "                time.sleep(10)  # 10 second delay between tweets\n",
    "                break  # Success, exit retry loop\n",
    "                \n",
    "            except Exception as e:\n",
    "                if retry < max_retries - 1:\n",
    "                    time.sleep(retry_delay)\n",
    "                else:\n",
    "                    batch_errors += 1\n",
    "                    errors.append((idx, str(e)))\n",
    "                    break\n",
    "    \n",
    "    # Print batch summary\n",
    "    print(f\"Completed batch {batch + 1}/{total_batches} (tweets {start_idx}-{end_idx-1})\")\n",
    "    if batch_errors > 0:\n",
    "        print(f\"  ⚠️  {batch_errors} errors in this batch\")\n",
    "    \n",
    "    # Take a break between batches\n",
    "    if batch < total_batches - 1:  # Don't sleep after the last batch\n",
    "        print(\"  Taking a 30 secondbreak...\")\n",
    "        time.sleep(30)\n",
    "\n",
    "print(\"\\nProcessing complete!\")\n",
    "print(f\"Successfully processed: {len(results)} tweets\")\n",
    "if errors:\n",
    "    print(f\"Total errors: {len(errors)}\")"
   ]
  },
  {
   "cell_type": "code",
   "execution_count": 18,
   "metadata": {},
   "outputs": [
    {
     "name": "stdout",
     "output_type": "stream",
     "text": [
      "Overall accuracy: 94.00% (47/50)\n",
      "\n",
      "Accuracy for rihanna: 95.65% (22/23)\n",
      "\n",
      "Accuracy for katyperry: 92.59% (25/27)\n"
     ]
    },
    {
     "data": {
      "image/png": "[encoded data removed]",
      "text/plain": [
       "<Figure size 800x600 with 2 Axes>"
      ]
     },
     "metadata": {},
     "output_type": "display_data"
    }
   ],
   "source": [
    "# Analyze results\n",
    "if results:\n",
    "    # Extract predictions and actual authors\n",
    "    predicted_authors = [r[3] for r in results]\n",
    "    actual_authors = [r[2] for r in results]\n",
    "    \n",
    "    # Calculate overall accuracy\n",
    "    correct = sum(p == a for p, a in zip(predicted_authors, actual_authors))\n",
    "    final_accuracy = correct / len(predicted_authors)\n",
    "    print(f\"Overall accuracy: {final_accuracy:.2%} ({correct}/{len(predicted_authors)})\")\n",
    "    \n",
    "    # Find invalid predictions\n",
    "    invalid_outputs = [(idx, pred, tweet) for idx, tweet, _, pred in results if pred not in ['rihanna', 'katyperry']]\n",
    "    \n",
    "    if invalid_outputs:\n",
    "        print(f\"\\nNumber of invalid outputs: {len(invalid_outputs)}\")\n",
    "        print(\"Invalid predictions:\")\n",
    "        for idx, pred, tweet in invalid_outputs:\n",
    "            print(f\"Index {idx}: Prediction='{pred}' | Tweet='{tweet[:50]}...'\")\n",
    "            \n",
    "    # Analyze per-author accuracy\n",
    "    for author in ['rihanna', 'katyperry']:\n",
    "        author_cases = [(p == author) for _, _, a, p in results if a == author]\n",
    "        if author_cases:\n",
    "            author_accuracy = sum(author_cases) / len(author_cases)\n",
    "            print(f\"\\nAccuracy for {author}: {author_accuracy:.2%} ({sum(author_cases)}/{len(author_cases)})\")\n",
    "            \n",
    "    # Create confusion matrix\n",
    "    from sklearn.metrics import confusion_matrix\n",
    "    import seaborn as sns\n",
    "    import matplotlib.pyplot as plt\n",
    "    \n",
    "    # Filter out invalid predictions\n",
    "    valid_results = [(a, p) for _, _, a, p in results if p in ['rihanna', 'katyperry']]\n",
    "    if valid_results:\n",
    "        y_true = [r[0] for r in valid_results]\n",
    "        y_pred = [r[1] for r in valid_results]\n",
    "        \n",
    "        cm = confusion_matrix(y_true, y_pred, labels=['rihanna', 'katyperry'])\n",
    "        plt.figure(figsize=(8, 6))\n",
    "        sns.heatmap(cm, annot=True, fmt='d', xticklabels=['rihanna', 'katyperry'], \n",
    "                    yticklabels=['rihanna', 'katyperry'])\n",
    "        plt.title('Confusion Matrix')\n",
    "        plt.xlabel('Predicted')\n",
    "        plt.ylabel('Actual')\n",
    "        plt.show()"
   ]
  }
 ],
 "metadata": {
  "kernelspec": {
   "display_name": "cup",
   "language": "python",
   "name": "python3"
  },
  "language_info": {
   "codemirror_mode": {
    "name": "ipython",
    "version": 3
   },
   "file_extension": ".py",
   "mimetype": "text/x-python",
   "name": "python",
   "nbconvert_exporter": "python",
   "pygments_lexer": "ipython3",
   "version": "3.12.7"
  }
 },
 "nbformat": 4,
 "nbformat_minor": 2
}
