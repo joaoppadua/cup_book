{
 "cells": [
  {
   "cell_type": "markdown",
   "metadata": {},
   "source": [
    "# Analyzing authorship of tweets from Rihanna and Katy Perry using Claude"
   ]
  },
  {
   "cell_type": "code",
   "execution_count": 1,
   "metadata": {},
   "outputs": [],
   "source": [
    "import os \n",
    "import sys\n",
    "sys.path.append(os.path.abspath('..'))"
   ]
  },
  {
   "cell_type": "code",
   "execution_count": 2,
   "metadata": {},
   "outputs": [],
   "source": [
    "import pickle\n",
    "import pandas as pd\n",
    "import numpy as np\n",
    "import sklearn"
   ]
  },
  {
   "cell_type": "code",
   "execution_count": 3,
   "metadata": {},
   "outputs": [],
   "source": [
    "from anthropic import Anthropic\n",
    "from credentials import get_credentials_claude\n",
    "\n",
    "API_KEY = get_credentials_claude()\n",
    "\n",
    "client = Anthropic(api_key=API_KEY)\n"
   ]
  },
  {
   "cell_type": "code",
   "execution_count": 4,
   "metadata": {},
   "outputs": [],
   "source": [
    "# Load data\n",
    "\n",
    "# load training data\n",
    "with open('./data/sampled_author_texts.pkl', 'rb') as f:\n",
    "    training_data = pickle.load(f)\n",
    "\n",
    "#load test data\n",
    "with open('./data/twitter_test.pkl', 'rb') as f:\n",
    "    test_data = pickle.load(f)"
   ]
  },
  {
   "cell_type": "code",
   "execution_count": 5,
   "metadata": {},
   "outputs": [
    {
     "name": "stdout",
     "output_type": "stream",
     "text": [
      "It's just beyond the vault. Discover room 7 of the #ANTIdiaRy at https://t.co/uJ0CLlhoaS https://t.co/povYOBn3Fm\n",
      "Author: rihanna\n"
     ]
    }
   ],
   "source": [
    "# Get a random tweet from the test set\n",
    "random_tweet_text = test_data['content'].sample(n=1, random_state=42).values[0]\n",
    "random_tweet_author = test_data.loc[test_data['content'] == random_tweet_text, 'author'].values[0]\n",
    "print(random_tweet_text)\n",
    "print(f\"Author: {random_tweet_author}\")\n"
   ]
  },
  {
   "cell_type": "code",
   "execution_count": 6,
   "metadata": {},
   "outputs": [],
   "source": [
    "# Create the template prompt\n",
    "\n",
    "prompt = f\"\"\"\n",
    "You are an expert in linguistic analysis and authorship attribution. Your task is to analyze authorship--i.e. idiolectal--markers that the \\\n",
    "texts reveal about their authors.\n",
    "\n",
    "\n",
    "You will be provided with:\n",
    "1. Training samples (tweets) from 2 different authors, Rihanna and Katy Perry\n",
    "2. A new text whose author you need to identify between those two authors\n",
    "\n",
    "Guideline for analysis:\n",
    "- Just use state of the art techniques to attribute authorship\n",
    "\n",
    "Rihanna's tweets:\n",
    "{training_data['rihanna']}\n",
    "\n",
    "Katy Perry's tweets:\n",
    "{training_data['katyperry']}\n",
    "\n",
    "New text to analyze:\n",
    "{random_tweet_text}\n",
    "\n",
    "Your answer should contain only the author's name and nothing else.\n",
    "\n",
    "\"\"\""
   ]
  },
  {
   "cell_type": "code",
   "execution_count": 7,
   "metadata": {},
   "outputs": [],
   "source": [
    "# Create a completion function that will be used to query the model\n",
    "def get_completion(prompt: str, max_tokens=5000) -> str:\n",
    "    response = client.messages.create(\n",
    "        model=\"claude-3-5-sonnet-20240620\",\n",
    "        messages=[{\"role\": \"user\", \"content\": prompt}],\n",
    "        max_tokens=max_tokens,\n",
    "        )\n",
    "    return response.content[0].text"
   ]
  },
  {
   "cell_type": "code",
   "execution_count": 8,
   "metadata": {},
   "outputs": [
    {
     "name": "stdout",
     "output_type": "stream",
     "text": [
      "Rihanna\n"
     ]
    }
   ],
   "source": [
    "first_prediction = get_completion(prompt)\n",
    "print(first_prediction)"
   ]
  },
  {
   "cell_type": "code",
   "execution_count": 9,
   "metadata": {},
   "outputs": [
    {
     "name": "stdout",
     "output_type": "stream",
     "text": [
      "Actual author: rihanna\n",
      "Predicted author: rihanna\n",
      "Prediction is correct: True\n",
      "Accuracy: 1\n"
     ]
    }
   ],
   "source": [
    "# Check if the prediction is accurate\n",
    "# Get the actual author of the random tweet\n",
    "actual_author = random_tweet_author.lower()\n",
    "\n",
    "# Get the predicted author from the model's response\n",
    "predicted_author = first_prediction.strip().lower()\n",
    "\n",
    "# Check if the prediction matches the actual author\n",
    "is_correct = predicted_author == actual_author\n",
    "\n",
    "print(f\"Actual author: {actual_author}\")\n",
    "print(f\"Predicted author: {predicted_author}\")\n",
    "print(f\"Prediction is correct: {is_correct}\")\n",
    "\n",
    "# Calculate accuracy (1 for correct, 0 for incorrect)\n",
    "accuracy = 1 if is_correct else 0\n",
    "print(f\"Accuracy: {accuracy}\")\n"
   ]
  },
  {
   "cell_type": "code",
   "execution_count": 10,
   "metadata": {},
   "outputs": [
    {
     "name": "stdout",
     "output_type": "stream",
     "text": [
      "Created sample dataset with 100 tweets\n",
      "\n",
      "Sample distribution:\n",
      "author\n",
      "rihanna      56\n",
      "katyperry    44\n",
      "Name: count, dtype: int64\n"
     ]
    }
   ],
   "source": [
    "# Create sampled dataset\n",
    "n_samples = 100\n",
    "sampled_tweets = test_data.sample(n=n_samples, random_state=42).reset_index(drop=True)\n",
    "\n",
    "print(f\"Created sample dataset with {len(sampled_tweets)} tweets\")\n",
    "print(\"\\nSample distribution:\")\n",
    "print(sampled_tweets['author'].value_counts())"
   ]
  },
  {
   "cell_type": "code",
   "execution_count": 11,
   "metadata": {},
   "outputs": [],
   "source": [
    "# Helper functions\n",
    "\n",
    "# Function to get a subset of training data\n",
    "def get_training_sample(training_data, n_samples=15):\n",
    "    rihanna_tweets = training_data['rihanna'].split('\\n')\n",
    "    katy_tweets = training_data['katyperry'].split('\\n')\n",
    "    \n",
    "    # Filter out empty strings and sample\n",
    "    rihanna_sample = sample([t for t in rihanna_tweets if t.strip()], n_samples)\n",
    "    katy_sample = sample([t for t in katy_tweets if t.strip()], n_samples)\n",
    "    \n",
    "    return {\n",
    "        'rihanna': '\\n'.join(rihanna_sample),\n",
    "        'katyperry': '\\n'.join(katy_sample)\n",
    "    }\n",
    "\n",
    "# Function to normalize author names\n",
    "def normalize_author_name(name):\n",
    "    \"\"\"Normalize author names to handle variations\"\"\"\n",
    "    name = name.lower().strip()\n",
    "    # Handle variations of Katy Perry's name\n",
    "    if name in ['katy perry', 'katyperry', 'katy']:\n",
    "        return 'katyperry'\n",
    "    # Handle variations of Rihanna's name\n",
    "    if name in ['rihanna', 'riri']:\n",
    "        return 'rihanna'\n",
    "    return name"
   ]
  },
  {
   "cell_type": "code",
   "execution_count": 12,
   "metadata": {},
   "outputs": [
    {
     "name": "stdout",
     "output_type": "stream",
     "text": [
      "Starting processing of 100 tweets in 10 batches\n",
      "Completed batch 1/10 (tweets 0-9)\n",
      "  Taking a 30 secondbreak...\n",
      "Completed batch 2/10 (tweets 10-19)\n",
      "  Taking a 30 secondbreak...\n",
      "Completed batch 3/10 (tweets 20-29)\n",
      "  Taking a 30 secondbreak...\n",
      "Completed batch 4/10 (tweets 30-39)\n",
      "  Taking a 30 secondbreak...\n",
      "Completed batch 5/10 (tweets 40-49)\n",
      "  Taking a 30 secondbreak...\n",
      "Completed batch 6/10 (tweets 50-59)\n",
      "  Taking a 30 secondbreak...\n",
      "Completed batch 7/10 (tweets 60-69)\n",
      "  Taking a 30 secondbreak...\n",
      "Completed batch 8/10 (tweets 70-79)\n",
      "  Taking a 30 secondbreak...\n",
      "Completed batch 9/10 (tweets 80-89)\n",
      "  Taking a 30 secondbreak...\n",
      "Completed batch 10/10 (tweets 90-99)\n",
      "\n",
      "Processing complete!\n",
      "Successfully processed: 100 tweets\n"
     ]
    }
   ],
   "source": [
    "# Process tweets in batches of 10\n",
    "import time\n",
    "from random import sample\n",
    "\n",
    "\n",
    "batch_size = 10\n",
    "total_batches = len(sampled_tweets) // batch_size + (1 if len(sampled_tweets) % batch_size > 0 else 0)\n",
    "\n",
    "# Store results\n",
    "results = []  # tuples of (tweet_idx, tweet_text, actual_author, predicted_author)\n",
    "errors = []   \n",
    "print(f\"Starting processing of {len(sampled_tweets)} tweets in {total_batches} batches\")\n",
    "\n",
    "for batch in range(total_batches):\n",
    "    start_idx = batch * batch_size\n",
    "    end_idx = min((batch + 1) * batch_size, len(sampled_tweets))\n",
    "    \n",
    "    # Get a fresh sample of training data for this batch\n",
    "    batch_training_data = get_training_sample(training_data)\n",
    "    batch_errors = 0\n",
    "    \n",
    "    for idx in range(start_idx, end_idx):\n",
    "        row = sampled_tweets.iloc[idx]\n",
    "        tweet_text = row['content']\n",
    "        actual_author = normalize_author_name(row['author'])\n",
    "        \n",
    "        prompt = f\"\"\"\n",
    "You are an expert in linguistic analysis and authorship attribution. Your task is to analyze authorship--i.e. idiolectal--markers that the \\\n",
    "texts reveal about their authors.\n",
    "\n",
    "You will be provided with:\n",
    "1. Training samples (tweets) from 2 different authors, Rihanna and Katy Perry\n",
    "2. A new text whose author you need to identify between those two authors\n",
    "\n",
    "Guideline for analysis:\n",
    "- Just use state of the art techniques to attribute authorship\n",
    "\n",
    "Rihanna's tweets:\n",
    "{batch_training_data['rihanna']}\n",
    "\n",
    "Katy Perry's tweets:\n",
    "{batch_training_data['katyperry']}\n",
    "\n",
    "New text to analyze:\n",
    "{tweet_text}\n",
    "\n",
    "Your answer should contain only the author's name and nothing else.\n",
    "\"\"\"\n",
    "        max_retries = 3\n",
    "        retry_delay = 120  \n",
    "        \n",
    "        for retry in range(max_retries):\n",
    "            try:\n",
    "                raw_prediction = get_completion(prompt).strip().lower()\n",
    "                prediction = normalize_author_name(raw_prediction)\n",
    "                \n",
    "                 # Only store if it's a valid prediction after normalization\n",
    "                if prediction in ['rihanna', 'katyperry']:\n",
    "                    results.append((idx, tweet_text, actual_author, prediction))\n",
    "                else:\n",
    "                    batch_errors += 1\n",
    "                    errors.append((idx, f\"Invalid prediction: {raw_prediction}\"))\n",
    "                \n",
    "                time.sleep(10)  # 10 second delay between tweets\n",
    "                break  # Success, exit retry loop\n",
    "                \n",
    "            except Exception as e:\n",
    "                if retry < max_retries - 1:\n",
    "                    time.sleep(retry_delay)\n",
    "                else:\n",
    "                    batch_errors += 1\n",
    "                    errors.append((idx, str(e)))\n",
    "                    break\n",
    "    \n",
    "    # Print batch summary\n",
    "    print(f\"Completed batch {batch + 1}/{total_batches} (tweets {start_idx}-{end_idx-1})\")\n",
    "    if batch_errors > 0:\n",
    "        print(f\"  ⚠️  {batch_errors} errors in this batch\")\n",
    "    \n",
    "    # Take a break between batches\n",
    "    if batch < total_batches - 1:  # Don't sleep after the last batch\n",
    "        print(\"  Taking a 30 secondbreak...\")\n",
    "        time.sleep(30)\n",
    "\n",
    "print(\"\\nProcessing complete!\")\n",
    "print(f\"Successfully processed: {len(results)} tweets\")\n",
    "if errors:\n",
    "    print(f\"Total errors: {len(errors)}\")"
   ]
  },
  {
   "cell_type": "code",
   "execution_count": 13,
   "metadata": {},
   "outputs": [
    {
     "name": "stdout",
     "output_type": "stream",
     "text": [
      "Overall accuracy: 90.00% (90/100)\n",
      "\n",
      "Accuracy for rihanna: 89.29% (50/56)\n",
      "\n",
      "Accuracy for katyperry: 90.91% (40/44)\n"
     ]
    },
    {
     "data": {
      "image/png": "[encoded data removed]",
      "text/plain": [
       "<Figure size 800x600 with 2 Axes>"
      ]
     },
     "metadata": {},
     "output_type": "display_data"
    }
   ],
   "source": [
    "# Analyze results\n",
    "if results:\n",
    "    # Extract predictions and actual authors\n",
    "    predicted_authors = [r[3] for r in results]\n",
    "    actual_authors = [r[2] for r in results]\n",
    "    \n",
    "    # Calculate overall accuracy\n",
    "    correct = sum(p == a for p, a in zip(predicted_authors, actual_authors))\n",
    "    final_accuracy = correct / len(predicted_authors)\n",
    "    print(f\"Overall accuracy: {final_accuracy:.2%} ({correct}/{len(predicted_authors)})\")\n",
    "    \n",
    "    # Find invalid predictions\n",
    "    invalid_outputs = [(idx, pred, tweet) for idx, tweet, _, pred in results if pred not in ['rihanna', 'katyperry']]\n",
    "    \n",
    "    if invalid_outputs:\n",
    "        print(f\"\\nNumber of invalid outputs: {len(invalid_outputs)}\")\n",
    "        print(\"Invalid predictions:\")\n",
    "        for idx, pred, tweet in invalid_outputs:\n",
    "            print(f\"Index {idx}: Prediction='{pred}' | Tweet='{tweet[:50]}...'\")\n",
    "            \n",
    "    # Analyze per-author accuracy\n",
    "    for author in ['rihanna', 'katyperry']:\n",
    "        author_cases = [(p == author) for _, _, a, p in results if a == author]\n",
    "        if author_cases:\n",
    "            author_accuracy = sum(author_cases) / len(author_cases)\n",
    "            print(f\"\\nAccuracy for {author}: {author_accuracy:.2%} ({sum(author_cases)}/{len(author_cases)})\")\n",
    "            \n",
    "    # Create confusion matrix\n",
    "    from sklearn.metrics import confusion_matrix\n",
    "    import seaborn as sns\n",
    "    import matplotlib.pyplot as plt\n",
    "    \n",
    "    # Filter out invalid predictions\n",
    "    valid_results = [(a, p) for _, _, a, p in results if p in ['rihanna', 'katyperry']]\n",
    "    if valid_results:\n",
    "        y_true = [r[0] for r in valid_results]\n",
    "        y_pred = [r[1] for r in valid_results]\n",
    "        \n",
    "        cm = confusion_matrix(y_true, y_pred, labels=['rihanna', 'katyperry'])\n",
    "        plt.figure(figsize=(8, 6))\n",
    "        sns.heatmap(cm, annot=True, fmt='d', xticklabels=['rihanna', 'katyperry'], \n",
    "                    yticklabels=['rihanna', 'katyperry'])\n",
    "        plt.title('Confusion Matrix')\n",
    "        plt.xlabel('Predicted')\n",
    "        plt.ylabel('Actual')\n",
    "        plt.show()"
   ]
  },
  {
   "cell_type": "code",
   "execution_count": 15,
   "metadata": {},
   "outputs": [
    {
     "name": "stdout",
     "output_type": "stream",
     "text": [
      "SOME CORRECTLY CLASSIFIED EXAMPLES:\n",
      "\n",
      "Tweet: @cher don't worry, honestly you can get back in the tub if you like, she's got this. ❤️ https://t.co/UqUfQ9OYm8\n",
      "Actual: katyperry | Predicted: katyperry\n",
      "------------------------------------------------------------\n",
      "Tweet: 👼🏻 luminary fairy 👼🏻 @ Burning Man https://t.co/N2ENwLknBt\n",
      "Actual: katyperry | Predicted: katyperry\n",
      "------------------------------------------------------------\n",
      "Tweet: she. + Rodarte http://t.co/9stYd5vest\n",
      "Actual: rihanna | Predicted: rihanna\n",
      "------------------------------------------------------------\n",
      "Tweet: get this nigga @yusefhairnyc da phuck out my hou$e http://t.co/PvrpPPR2sr\n",
      "Actual: rihanna | Predicted: rihanna\n",
      "------------------------------------------------------------\n",
      "Tweet: It's just beyond the vault. Discover room 7 of the #ANTIdiaRy at https://t.co/uJ0CLlhoaS https://t.co/povYOBn3Fm\n",
      "Actual: rihanna | Predicted: rihanna\n",
      "------------------------------------------------------------\n",
      "Tweet: She. x Shoot day x Inez and Vinoodh http://t.co/1lZLyYVzV5\n",
      "Actual: rihanna | Predicted: rihanna\n",
      "------------------------------------------------------------\n",
      "Tweet: She x King http://t.co/E2MxHeTy6U\n",
      "Actual: rihanna | Predicted: rihanna\n",
      "------------------------------------------------------------\n",
      "Tweet: Hey Daddy! @orousteing http://t.co/es58E2BkSI\n",
      "Actual: rihanna | Predicted: rihanna\n",
      "------------------------------------------------------------\n",
      "Tweet: @sofifii ERMAGERD we're ONE day away from pumpkin spice latte's!\n",
      "Actual: katyperry | Predicted: katyperry\n",
      "------------------------------------------------------------\n",
      "Tweet: Watch ---&gt; http://t.co/EPCKaOOZTW\n",
      "Actual: rihanna | Predicted: rihanna\n",
      "------------------------------------------------------------\n",
      "Tweet: thank you @JuliaGillard! Proud to stand for education with you! @GPforEducation @GlblCtzn @ClaraLionelFdn, let's get to work!\n",
      "Actual: rihanna | Predicted: rihanna\n",
      "------------------------------------------------------------\n",
      "Tweet: Also just give me a magic eraser and some slightly scuffed white walls and that's what I call a good time.\n",
      "Actual: katyperry | Predicted: katyperry\n",
      "------------------------------------------------------------\n",
      "\n",
      "SOME INCORRECTLY CLASSIFIED EXAMPLES:\n",
      "\n",
      "Tweet: @Hakimkharbouch bless\n",
      "Actual: katyperry | Predicted: rihanna\n",
      "------------------------------------------------------------\n",
      "Tweet: Bumped into the extraordinary Jennifer Lawrence at dinner! #Paris http://t.co/OUTfMoIoxD\n",
      "Actual: rihanna | Predicted: katyperry\n",
      "------------------------------------------------------------\n",
      "Tweet: Hellooooooo Australia!!!!\n",
      "Actual: rihanna | Predicted: katyperry\n",
      "------------------------------------------------------------\n",
      "Tweet: COME ON WE DONT HAVE TIME TO MISS THIS https://t.co/3ERvxQ29hd\n",
      "Actual: katyperry | Predicted: rihanna\n",
      "------------------------------------------------------------\n",
      "Tweet: This is the saddest news ever!!! #whatsjustice #pray4theMartinFamily\n",
      "Actual: rihanna | Predicted: katyperry\n",
      "------------------------------------------------------------\n",
      "Tweet: @Jes00sica worth it bb\n",
      "Actual: katyperry | Predicted: rihanna\n",
      "------------------------------------------------------------\n",
      "Tweet: Look who came to play at the pool today #ladybird #oxymoron http://t.co/R95COURNGz\n",
      "Actual: rihanna | Predicted: katyperry\n",
      "------------------------------------------------------------\n",
      "Tweet: On the road to destruction #cake http://t.co/RwD17JdkV9\n",
      "Actual: rihanna | Predicted: katyperry\n",
      "------------------------------------------------------------\n",
      "Tweet: http://t.co/fYyazdKXQv \"And if I lose my mental just hold my hand even if you don't understand\"\n",
      "Actual: katyperry | Predicted: rihanna\n",
      "------------------------------------------------------------\n",
      "Tweet: Good question... #nyc #thanksgiving http://t.co/bP2tVzwhRc\n",
      "Actual: rihanna | Predicted: katyperry\n",
      "------------------------------------------------------------\n"
     ]
    }
   ],
   "source": [
    "# Qualitative analysis\n",
    "# Convert results to DataFrame for easier handling\n",
    "results_df = pd.DataFrame(results, columns=['idx', 'tweet_text', 'actual_author', 'predicted_author'])\n",
    "\n",
    "# Find correct and incorrect predictions\n",
    "correct_cases = results_df[results_df['actual_author'] == results_df['predicted_author']]\n",
    "incorrect_cases = results_df[results_df['actual_author'] != results_df['predicted_author']]\n",
    "\n",
    "# Sample a few from each\n",
    "n_samples = 12\n",
    "sampled_correct = correct_cases.sample(n=min(n_samples, len(correct_cases)), random_state=42)\n",
    "sampled_incorrect = incorrect_cases.sample(n=min(n_samples, len(incorrect_cases)), random_state=42)\n",
    "\n",
    "print(\"SOME CORRECTLY CLASSIFIED EXAMPLES:\\n\")\n",
    "for _, row in sampled_correct.iterrows():\n",
    "    print(f\"Tweet: {row['tweet_text']}\\nActual: {row['actual_author']} | Predicted: {row['predicted_author']}\\n{'-'*60}\")\n",
    "\n",
    "print(\"\\nSOME INCORRECTLY CLASSIFIED EXAMPLES:\\n\")\n",
    "for _, row in sampled_incorrect.iterrows():\n",
    "    print(f\"Tweet: {row['tweet_text']}\\nActual: {row['actual_author']} | Predicted: {row['predicted_author']}\\n{'-'*60}\")"
   ]
  },
  {
   "cell_type": "code",
   "execution_count": 16,
   "metadata": {},
   "outputs": [],
   "source": [
    "# Save results as html for qualitative analysis\n",
    "sampled_correct['case'] = 'correct'\n",
    "sampled_incorrect['case'] = 'incorrect'\n",
    "qualitative_df = pd.concat([sampled_correct, sampled_incorrect])\n",
    "# Save to the \"data\" folder\n",
    "qualitative_df.to_html(\"./data/claude_qualitative_inspection.html\", index=False)\n",
    "\n"
   ]
  },
  {
   "cell_type": "code",
   "execution_count": 25,
   "metadata": {},
   "outputs": [],
   "source": [
    "# Ask Claude to explain the results\n",
    "\n",
    "prompt = f\"\"\"\n",
    "A Large Language Model was tasked with attributing authorship to tweets from Rihanna and Katy Perry.\n",
    "Generally, the model performed well, with close to 90% accuracy. However, it made some mistakes.\n",
    "\n",
    "You will be provided with:\n",
    "1. A list of tweets from Rihanna and Katy Perry that were correctly classified by the model\n",
    "2. A list of tweets from Rihanna and Katy Perry that were incorrectly classified by the model\n",
    "\n",
    "Your task and guidelines:\n",
    "Act as a linguistic expert. Your task is to explain the performance of the model. Think globally about the dataset and the discursive patterns that emerge. Give more focus/\n",
    "in trying to understand the mistakes the model made.\n",
    "Do not focus on individual tweets, but rather on the broader discursive patterns. Try, when possible, to use examples to illustrate those patterns.\n",
    "\n",
    "Here are the tweets from Rihanna and Katy Perry that were correctly classified by the model:\n",
    "<correct_cases>\n",
    "{correct_cases['tweet_text'].to_string(index=False)}\n",
    "</correct_cases>\n",
    "\n",
    "Here are the tweets from Rihanna and Katy Perry that were incorrectly classified by the model:\n",
    "<incorrect_cases>\n",
    "{incorrect_cases['tweet_text'].to_string(index=False)}\n",
    "</incorrect_cases>\n",
    "\n",
    "Your answer should be a two to three paragraph explanation about the performance of the model, following the guidelines above.\n",
    "\"\"\""
   ]
  },
  {
   "cell_type": "code",
   "execution_count": 26,
   "metadata": {},
   "outputs": [
    {
     "data": {
      "text/html": [
       "The model's high accuracy in classifying tweets from Rihanna and Katy Perry suggests it has successfully identified distinct linguistic patterns associated with each artist. For Rihanna, the model likely picked up on her frequent use of Caribbean-influenced slang, more casual and sometimes explicit language, and references to her music and fashion projects. Examples include phrases like \"dat,\" \"phuck,\" and hashtags related to her albums or fashion lines. Katy Perry's correctly classified tweets often feature more conventional pop culture references, playful language, and engagement with fans and social causes, as seen in tweets about TV shows, holidays, or political events.\n",
       "\n",
       "However, the model's mistakes reveal some limitations in distinguishing between the artists when their tweets share certain characteristics. The incorrectly classified tweets tend to be shorter, more generic statements that could plausibly come from either artist. These tweets often express excitement (\"Hellooooooo Australia!!!!\"), make brief cultural references, or contain simple emoji reactions. The model may struggle with these cases because they lack the distinctive linguistic markers or topic-specific content that it relies on for classification.\n",
       "\n",
       "Additionally, the errors suggest that the model might overemphasize certain features in its decision-making process. For instance, if it associates emoji use or exclamation marks more strongly with one artist, it might misclassify tweets that deviate from each artist's typical patterns. The challenge for the model lies in balancing the weight given to various linguistic features and contextual cues, especially when dealing with short, ambiguous messages that don't strongly align with either artist's more characteristic tweet style."
      ],
      "text/plain": [
       "<IPython.core.display.HTML object>"
      ]
     },
     "metadata": {},
     "output_type": "display_data"
    }
   ],
   "source": [
    "from IPython.display import display, HTML\n",
    "\n",
    "qualitative_explanation = get_completion(prompt)\n",
    "display(HTML(qualitative_explanation))\n"
   ]
  }
 ],
 "metadata": {
  "kernelspec": {
   "display_name": "cup",
   "language": "python",
   "name": "python3"
  },
  "language_info": {
   "codemirror_mode": {
    "name": "ipython",
    "version": 3
   },
   "file_extension": ".py",
   "mimetype": "text/x-python",
   "name": "python",
   "nbconvert_exporter": "python",
   "pygments_lexer": "ipython3",
   "version": "3.12.7"
  }
 },
 "nbformat": 4,
 "nbformat_minor": 2
}
