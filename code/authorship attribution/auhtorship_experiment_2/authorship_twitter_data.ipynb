{
 "cells": [
  {
   "cell_type": "markdown",
   "metadata": {},
   "source": [
    "# Notebook to organize Twitter data from most followed people (Kaggle)\n",
    "\n",
    "## For testing authorship verification"
   ]
  },
  {
   "cell_type": "code",
   "execution_count": 1,
   "metadata": {},
   "outputs": [
    {
     "name": "stdout",
     "output_type": "stream",
     "text": [
      "Requirement already satisfied: kagglehub in /Users/joaopedropadua/anaconda3/envs/cup/lib/python3.12/site-packages (0.3.10)\n",
      "Requirement already satisfied: packaging in /Users/joaopedropadua/anaconda3/envs/cup/lib/python3.12/site-packages (from kagglehub) (24.1)\n",
      "Requirement already satisfied: pyyaml in /Users/joaopedropadua/anaconda3/envs/cup/lib/python3.12/site-packages (from kagglehub) (6.0.2)\n",
      "Requirement already satisfied: requests in /Users/joaopedropadua/anaconda3/envs/cup/lib/python3.12/site-packages (from kagglehub) (2.32.3)\n",
      "Requirement already satisfied: tqdm in /Users/joaopedropadua/anaconda3/envs/cup/lib/python3.12/site-packages (from kagglehub) (4.66.5)\n",
      "Requirement already satisfied: charset-normalizer<4,>=2 in /Users/joaopedropadua/anaconda3/envs/cup/lib/python3.12/site-packages (from requests->kagglehub) (3.4.0)\n",
      "Requirement already satisfied: idna<4,>=2.5 in /Users/joaopedropadua/anaconda3/envs/cup/lib/python3.12/site-packages (from requests->kagglehub) (3.10)\n",
      "Requirement already satisfied: urllib3<3,>=1.21.1 in /Users/joaopedropadua/anaconda3/envs/cup/lib/python3.12/site-packages (from requests->kagglehub) (2.2.3)\n",
      "Requirement already satisfied: certifi>=2017.4.17 in /Users/joaopedropadua/anaconda3/envs/cup/lib/python3.12/site-packages (from requests->kagglehub) (2024.8.30)\n"
     ]
    }
   ],
   "source": [
    "!pip install kagglehub"
   ]
  },
  {
   "cell_type": "code",
   "execution_count": 2,
   "metadata": {},
   "outputs": [
    {
     "name": "stderr",
     "output_type": "stream",
     "text": [
      "/Users/joaopedropadua/anaconda3/envs/cup/lib/python3.12/site-packages/tqdm/auto.py:21: TqdmWarning: IProgress not found. Please update jupyter and ipywidgets. See https://ipywidgets.readthedocs.io/en/stable/user_install.html\n",
      "  from .autonotebook import tqdm as notebook_tqdm\n"
     ]
    },
    {
     "name": "stdout",
     "output_type": "stream",
     "text": [
      "Warning: Looks like you're using an outdated `kagglehub` version (installed: 0.3.10), please consider upgrading to the latest version (0.3.12).\n",
      "Downloading from https://www.kaggle.com/api/v1/datasets/download/mmmarchetti/tweets-dataset?dataset_version_number=1...\n"
     ]
    },
    {
     "name": "stderr",
     "output_type": "stream",
     "text": [
      "100%|██████████| 2.82M/2.82M [00:01<00:00, 1.78MB/s]"
     ]
    },
    {
     "name": "stdout",
     "output_type": "stream",
     "text": [
      "Extracting files...\n",
      "Path to dataset files: /Users/joaopedropadua/.cache/kagglehub/datasets/mmmarchetti/tweets-dataset/versions/1\n"
     ]
    },
    {
     "name": "stderr",
     "output_type": "stream",
     "text": [
      "\n"
     ]
    }
   ],
   "source": [
    "import kagglehub\n",
    "\n",
    "# Download latest version\n",
    "path = kagglehub.dataset_download(\"mmmarchetti/tweets-dataset\")\n",
    "\n",
    "print(\"Path to dataset files:\", path)"
   ]
  },
  {
   "cell_type": "code",
   "execution_count": 3,
   "metadata": {},
   "outputs": [
    {
     "name": "stdout",
     "output_type": "stream",
     "text": [
      "Files in the dataset:\n",
      "- tweets.csv\n"
     ]
    }
   ],
   "source": [
    "# Let's examine the contents of the downloaded dataset\n",
    "import os\n",
    "import pandas as pd\n",
    "\n",
    "# List the files in the downloaded directory\n",
    "print(\"Files in the dataset:\")\n",
    "for file in os.listdir(path):\n",
    "    print(f\"- {file}\")\n",
    "\n"
   ]
  },
  {
   "cell_type": "code",
   "execution_count": 4,
   "metadata": {},
   "outputs": [
    {
     "name": "stdout",
     "output_type": "stream",
     "text": [
      "\n",
      "Reading the first CSV file:\n",
      "\n",
      "First few rows of the dataset:\n"
     ]
    },
    {
     "data": {
      "text/html": [
       "<div>\n",
       "<style scoped>\n",
       "    .dataframe tbody tr th:only-of-type {\n",
       "        vertical-align: middle;\n",
       "    }\n",
       "\n",
       "    .dataframe tbody tr th {\n",
       "        vertical-align: top;\n",
       "    }\n",
       "\n",
       "    .dataframe thead th {\n",
       "        text-align: right;\n",
       "    }\n",
       "</style>\n",
       "<table border=\"1\" class=\"dataframe\">\n",
       "  <thead>\n",
       "    <tr style=\"text-align: right;\">\n",
       "      <th></th>\n",
       "      <th>author</th>\n",
       "      <th>content</th>\n",
       "      <th>country</th>\n",
       "      <th>date_time</th>\n",
       "      <th>id</th>\n",
       "      <th>language</th>\n",
       "      <th>latitude</th>\n",
       "      <th>longitude</th>\n",
       "      <th>number_of_likes</th>\n",
       "      <th>number_of_shares</th>\n",
       "    </tr>\n",
       "  </thead>\n",
       "  <tbody>\n",
       "    <tr>\n",
       "      <th>0</th>\n",
       "      <td>katyperry</td>\n",
       "      <td>Is history repeating itself...?#DONTNORMALIZEH...</td>\n",
       "      <td>NaN</td>\n",
       "      <td>12/01/2017 19:52</td>\n",
       "      <td>8.196330e+17</td>\n",
       "      <td>en</td>\n",
       "      <td>NaN</td>\n",
       "      <td>NaN</td>\n",
       "      <td>7900</td>\n",
       "      <td>3472</td>\n",
       "    </tr>\n",
       "    <tr>\n",
       "      <th>1</th>\n",
       "      <td>katyperry</td>\n",
       "      <td>@barackobama Thank you for your incredible gra...</td>\n",
       "      <td>NaN</td>\n",
       "      <td>11/01/2017 08:38</td>\n",
       "      <td>8.191010e+17</td>\n",
       "      <td>en</td>\n",
       "      <td>NaN</td>\n",
       "      <td>NaN</td>\n",
       "      <td>3689</td>\n",
       "      <td>1380</td>\n",
       "    </tr>\n",
       "    <tr>\n",
       "      <th>2</th>\n",
       "      <td>katyperry</td>\n",
       "      <td>Life goals. https://t.co/XIn1qKMKQl</td>\n",
       "      <td>NaN</td>\n",
       "      <td>11/01/2017 02:52</td>\n",
       "      <td>8.190140e+17</td>\n",
       "      <td>en</td>\n",
       "      <td>NaN</td>\n",
       "      <td>NaN</td>\n",
       "      <td>10341</td>\n",
       "      <td>2387</td>\n",
       "    </tr>\n",
       "    <tr>\n",
       "      <th>3</th>\n",
       "      <td>katyperry</td>\n",
       "      <td>Me right now 🙏🏻 https://t.co/gW55C1wrwd</td>\n",
       "      <td>NaN</td>\n",
       "      <td>11/01/2017 02:44</td>\n",
       "      <td>8.190120e+17</td>\n",
       "      <td>en</td>\n",
       "      <td>NaN</td>\n",
       "      <td>NaN</td>\n",
       "      <td>10774</td>\n",
       "      <td>2458</td>\n",
       "    </tr>\n",
       "    <tr>\n",
       "      <th>4</th>\n",
       "      <td>katyperry</td>\n",
       "      <td>SISTERS ARE DOIN' IT FOR THEMSELVES! 🙌🏻💪🏻❤️ ht...</td>\n",
       "      <td>NaN</td>\n",
       "      <td>10/01/2017 05:22</td>\n",
       "      <td>8.186890e+17</td>\n",
       "      <td>en</td>\n",
       "      <td>NaN</td>\n",
       "      <td>NaN</td>\n",
       "      <td>17620</td>\n",
       "      <td>4655</td>\n",
       "    </tr>\n",
       "  </tbody>\n",
       "</table>\n",
       "</div>"
      ],
      "text/plain": [
       "      author                                            content country  \\\n",
       "0  katyperry  Is history repeating itself...?#DONTNORMALIZEH...     NaN   \n",
       "1  katyperry  @barackobama Thank you for your incredible gra...     NaN   \n",
       "2  katyperry                Life goals. https://t.co/XIn1qKMKQl     NaN   \n",
       "3  katyperry            Me right now 🙏🏻 https://t.co/gW55C1wrwd     NaN   \n",
       "4  katyperry  SISTERS ARE DOIN' IT FOR THEMSELVES! 🙌🏻💪🏻❤️ ht...     NaN   \n",
       "\n",
       "          date_time            id language  latitude  longitude  \\\n",
       "0  12/01/2017 19:52  8.196330e+17       en       NaN        NaN   \n",
       "1  11/01/2017 08:38  8.191010e+17       en       NaN        NaN   \n",
       "2  11/01/2017 02:52  8.190140e+17       en       NaN        NaN   \n",
       "3  11/01/2017 02:44  8.190120e+17       en       NaN        NaN   \n",
       "4  10/01/2017 05:22  8.186890e+17       en       NaN        NaN   \n",
       "\n",
       "   number_of_likes  number_of_shares  \n",
       "0             7900              3472  \n",
       "1             3689              1380  \n",
       "2            10341              2387  \n",
       "3            10774              2458  \n",
       "4            17620              4655  "
      ]
     },
     "metadata": {},
     "output_type": "display_data"
    },
    {
     "name": "stdout",
     "output_type": "stream",
     "text": [
      "\n",
      "Dataset shape: (52542, 10)\n"
     ]
    }
   ],
   "source": [
    "# If there's a CSV file, let's read it\n",
    "csv_files = [f for f in os.listdir(path) if f.endswith('.csv')]\n",
    "if csv_files:\n",
    "    print(\"\\nReading the first CSV file:\")\n",
    "    df = pd.read_csv(os.path.join(path, csv_files[0]))\n",
    "    print(\"\\nFirst few rows of the dataset:\")\n",
    "    display(df.head())\n",
    "    print(\"\\nDataset shape:\", df.shape)"
   ]
  },
  {
   "cell_type": "code",
   "execution_count": 5,
   "metadata": {},
   "outputs": [
    {
     "name": "stdout",
     "output_type": "stream",
     "text": [
      "Number of tweets per author:\n"
     ]
    },
    {
     "data": {
      "text/plain": [
       "author\n",
       "TheEllenShow     3147\n",
       "jimmyfallon      3123\n",
       "ArianaGrande     3104\n",
       "YouTube          3077\n",
       "KimKardashian    2939\n",
       "katyperry        2924\n",
       "selenagomez      2913\n",
       "rihanna          2877\n",
       "BarackObama      2863\n",
       "britneyspears    2776\n",
       "instagram        2577\n",
       "shakira          2530\n",
       "Cristiano        2507\n",
       "jtimberlake      2478\n",
       "ladygaga         2329\n",
       "Twitter          2290\n",
       "ddlovato         2217\n",
       "taylorswift13    2029\n",
       "justinbieber     2000\n",
       "cnnbrk           1842\n",
       "dtype: int64"
      ]
     },
     "metadata": {},
     "output_type": "display_data"
    },
    {
     "name": "stdout",
     "output_type": "stream",
     "text": [
      "\n",
      "Statistics per author:\n"
     ]
    },
    {
     "data": {
      "text/html": [
       "<div>\n",
       "<style scoped>\n",
       "    .dataframe tbody tr th:only-of-type {\n",
       "        vertical-align: middle;\n",
       "    }\n",
       "\n",
       "    .dataframe tbody tr th {\n",
       "        vertical-align: top;\n",
       "    }\n",
       "\n",
       "    .dataframe thead tr th {\n",
       "        text-align: left;\n",
       "    }\n",
       "\n",
       "    .dataframe thead tr:last-of-type th {\n",
       "        text-align: right;\n",
       "    }\n",
       "</style>\n",
       "<table border=\"1\" class=\"dataframe\">\n",
       "  <thead>\n",
       "    <tr>\n",
       "      <th></th>\n",
       "      <th colspan=\"3\" halign=\"left\">number_of_likes</th>\n",
       "      <th colspan=\"3\" halign=\"left\">number_of_shares</th>\n",
       "    </tr>\n",
       "    <tr>\n",
       "      <th></th>\n",
       "      <th>mean</th>\n",
       "      <th>median</th>\n",
       "      <th>max</th>\n",
       "      <th>mean</th>\n",
       "      <th>median</th>\n",
       "      <th>max</th>\n",
       "    </tr>\n",
       "    <tr>\n",
       "      <th>author</th>\n",
       "      <th></th>\n",
       "      <th></th>\n",
       "      <th></th>\n",
       "      <th></th>\n",
       "      <th></th>\n",
       "      <th></th>\n",
       "    </tr>\n",
       "  </thead>\n",
       "  <tbody>\n",
       "    <tr>\n",
       "      <th>ArianaGrande</th>\n",
       "      <td>25722.893363</td>\n",
       "      <td>21462.5</td>\n",
       "      <td>328838</td>\n",
       "      <td>11557.259665</td>\n",
       "      <td>9183.0</td>\n",
       "      <td>152045</td>\n",
       "    </tr>\n",
       "    <tr>\n",
       "      <th>BarackObama</th>\n",
       "      <td>3489.648970</td>\n",
       "      <td>1830.0</td>\n",
       "      <td>316831</td>\n",
       "      <td>1732.780650</td>\n",
       "      <td>795.0</td>\n",
       "      <td>200747</td>\n",
       "    </tr>\n",
       "    <tr>\n",
       "      <th>Cristiano</th>\n",
       "      <td>6978.824093</td>\n",
       "      <td>1475.0</td>\n",
       "      <td>198375</td>\n",
       "      <td>3726.740726</td>\n",
       "      <td>1546.0</td>\n",
       "      <td>112738</td>\n",
       "    </tr>\n",
       "    <tr>\n",
       "      <th>KimKardashian</th>\n",
       "      <td>11067.932630</td>\n",
       "      <td>5551.0</td>\n",
       "      <td>377769</td>\n",
       "      <td>3172.130316</td>\n",
       "      <td>966.0</td>\n",
       "      <td>219062</td>\n",
       "    </tr>\n",
       "    <tr>\n",
       "      <th>TheEllenShow</th>\n",
       "      <td>7004.186845</td>\n",
       "      <td>4216.0</td>\n",
       "      <td>149534</td>\n",
       "      <td>1830.595170</td>\n",
       "      <td>743.0</td>\n",
       "      <td>114404</td>\n",
       "    </tr>\n",
       "    <tr>\n",
       "      <th>Twitter</th>\n",
       "      <td>1005.248472</td>\n",
       "      <td>356.5</td>\n",
       "      <td>184768</td>\n",
       "      <td>699.413537</td>\n",
       "      <td>257.0</td>\n",
       "      <td>114311</td>\n",
       "    </tr>\n",
       "    <tr>\n",
       "      <th>YouTube</th>\n",
       "      <td>1271.899253</td>\n",
       "      <td>1028.0</td>\n",
       "      <td>51945</td>\n",
       "      <td>283.280143</td>\n",
       "      <td>166.0</td>\n",
       "      <td>28430</td>\n",
       "    </tr>\n",
       "    <tr>\n",
       "      <th>britneyspears</th>\n",
       "      <td>3053.735591</td>\n",
       "      <td>1295.5</td>\n",
       "      <td>46706</td>\n",
       "      <td>1709.209294</td>\n",
       "      <td>1131.5</td>\n",
       "      <td>29983</td>\n",
       "    </tr>\n",
       "    <tr>\n",
       "      <th>cnnbrk</th>\n",
       "      <td>807.735071</td>\n",
       "      <td>498.0</td>\n",
       "      <td>19638</td>\n",
       "      <td>624.132465</td>\n",
       "      <td>428.0</td>\n",
       "      <td>14779</td>\n",
       "    </tr>\n",
       "    <tr>\n",
       "      <th>ddlovato</th>\n",
       "      <td>17461.692377</td>\n",
       "      <td>15174.0</td>\n",
       "      <td>109032</td>\n",
       "      <td>10068.756879</td>\n",
       "      <td>8681.0</td>\n",
       "      <td>84421</td>\n",
       "    </tr>\n",
       "    <tr>\n",
       "      <th>instagram</th>\n",
       "      <td>1193.320140</td>\n",
       "      <td>961.0</td>\n",
       "      <td>54680</td>\n",
       "      <td>297.422972</td>\n",
       "      <td>197.0</td>\n",
       "      <td>45387</td>\n",
       "    </tr>\n",
       "    <tr>\n",
       "      <th>jimmyfallon</th>\n",
       "      <td>2398.182837</td>\n",
       "      <td>1480.0</td>\n",
       "      <td>160697</td>\n",
       "      <td>775.252321</td>\n",
       "      <td>340.0</td>\n",
       "      <td>82050</td>\n",
       "    </tr>\n",
       "    <tr>\n",
       "      <th>jtimberlake</th>\n",
       "      <td>2413.992333</td>\n",
       "      <td>1169.0</td>\n",
       "      <td>64364</td>\n",
       "      <td>1256.834948</td>\n",
       "      <td>602.5</td>\n",
       "      <td>46543</td>\n",
       "    </tr>\n",
       "    <tr>\n",
       "      <th>justinbieber</th>\n",
       "      <td>65380.954000</td>\n",
       "      <td>57306.0</td>\n",
       "      <td>397426</td>\n",
       "      <td>45376.249500</td>\n",
       "      <td>41588.5</td>\n",
       "      <td>199229</td>\n",
       "    </tr>\n",
       "    <tr>\n",
       "      <th>katyperry</th>\n",
       "      <td>8505.729822</td>\n",
       "      <td>6557.0</td>\n",
       "      <td>119302</td>\n",
       "      <td>4957.971272</td>\n",
       "      <td>3760.5</td>\n",
       "      <td>134271</td>\n",
       "    </tr>\n",
       "    <tr>\n",
       "      <th>ladygaga</th>\n",
       "      <td>8598.205238</td>\n",
       "      <td>5360.0</td>\n",
       "      <td>132372</td>\n",
       "      <td>4406.359382</td>\n",
       "      <td>2926.0</td>\n",
       "      <td>131287</td>\n",
       "    </tr>\n",
       "    <tr>\n",
       "      <th>rihanna</th>\n",
       "      <td>6372.209941</td>\n",
       "      <td>1727.0</td>\n",
       "      <td>288738</td>\n",
       "      <td>4781.668405</td>\n",
       "      <td>2070.0</td>\n",
       "      <td>179556</td>\n",
       "    </tr>\n",
       "    <tr>\n",
       "      <th>selenagomez</th>\n",
       "      <td>9898.408514</td>\n",
       "      <td>5145.0</td>\n",
       "      <td>429159</td>\n",
       "      <td>8140.468589</td>\n",
       "      <td>6244.0</td>\n",
       "      <td>163071</td>\n",
       "    </tr>\n",
       "    <tr>\n",
       "      <th>shakira</th>\n",
       "      <td>1945.451383</td>\n",
       "      <td>1021.5</td>\n",
       "      <td>56308</td>\n",
       "      <td>998.160870</td>\n",
       "      <td>606.0</td>\n",
       "      <td>27840</td>\n",
       "    </tr>\n",
       "    <tr>\n",
       "      <th>taylorswift13</th>\n",
       "      <td>22327.856580</td>\n",
       "      <td>12863.0</td>\n",
       "      <td>371255</td>\n",
       "      <td>12457.622474</td>\n",
       "      <td>9067.0</td>\n",
       "      <td>131382</td>\n",
       "    </tr>\n",
       "  </tbody>\n",
       "</table>\n",
       "</div>"
      ],
      "text/plain": [
       "              number_of_likes                  number_of_shares           \\\n",
       "                         mean   median     max             mean   median   \n",
       "author                                                                     \n",
       "ArianaGrande     25722.893363  21462.5  328838     11557.259665   9183.0   \n",
       "BarackObama       3489.648970   1830.0  316831      1732.780650    795.0   \n",
       "Cristiano         6978.824093   1475.0  198375      3726.740726   1546.0   \n",
       "KimKardashian    11067.932630   5551.0  377769      3172.130316    966.0   \n",
       "TheEllenShow      7004.186845   4216.0  149534      1830.595170    743.0   \n",
       "Twitter           1005.248472    356.5  184768       699.413537    257.0   \n",
       "YouTube           1271.899253   1028.0   51945       283.280143    166.0   \n",
       "britneyspears     3053.735591   1295.5   46706      1709.209294   1131.5   \n",
       "cnnbrk             807.735071    498.0   19638       624.132465    428.0   \n",
       "ddlovato         17461.692377  15174.0  109032     10068.756879   8681.0   \n",
       "instagram         1193.320140    961.0   54680       297.422972    197.0   \n",
       "jimmyfallon       2398.182837   1480.0  160697       775.252321    340.0   \n",
       "jtimberlake       2413.992333   1169.0   64364      1256.834948    602.5   \n",
       "justinbieber     65380.954000  57306.0  397426     45376.249500  41588.5   \n",
       "katyperry         8505.729822   6557.0  119302      4957.971272   3760.5   \n",
       "ladygaga          8598.205238   5360.0  132372      4406.359382   2926.0   \n",
       "rihanna           6372.209941   1727.0  288738      4781.668405   2070.0   \n",
       "selenagomez       9898.408514   5145.0  429159      8140.468589   6244.0   \n",
       "shakira           1945.451383   1021.5   56308       998.160870    606.0   \n",
       "taylorswift13    22327.856580  12863.0  371255     12457.622474   9067.0   \n",
       "\n",
       "                       \n",
       "                  max  \n",
       "author                 \n",
       "ArianaGrande   152045  \n",
       "BarackObama    200747  \n",
       "Cristiano      112738  \n",
       "KimKardashian  219062  \n",
       "TheEllenShow   114404  \n",
       "Twitter        114311  \n",
       "YouTube         28430  \n",
       "britneyspears   29983  \n",
       "cnnbrk          14779  \n",
       "ddlovato        84421  \n",
       "instagram       45387  \n",
       "jimmyfallon     82050  \n",
       "jtimberlake     46543  \n",
       "justinbieber   199229  \n",
       "katyperry      134271  \n",
       "ladygaga       131287  \n",
       "rihanna        179556  \n",
       "selenagomez    163071  \n",
       "shakira         27840  \n",
       "taylorswift13  131382  "
      ]
     },
     "metadata": {},
     "output_type": "display_data"
    },
    {
     "name": "stdout",
     "output_type": "stream",
     "text": [
      "\n",
      "Total number of unique authors: 20\n"
     ]
    }
   ],
   "source": [
    "# Group the data by author and count the number of tweets per author\n",
    "author_counts = df.groupby('author').size().sort_values(ascending=False)\n",
    "\n",
    "# Display the number of tweets per author\n",
    "print(\"Number of tweets per author:\")\n",
    "display(author_counts)\n",
    "\n",
    "# Get basic statistics for each author\n",
    "author_stats = df.groupby('author').agg({\n",
    "    'number_of_likes': ['mean', 'median', 'max'],\n",
    "    'number_of_shares': ['mean', 'median', 'max']\n",
    "})\n",
    "\n",
    "print(\"\\nStatistics per author:\")\n",
    "display(author_stats)\n",
    "\n",
    "# Count the total number of unique authors\n",
    "print(f\"\\nTotal number of unique authors: {len(author_counts)}\")\n"
   ]
  },
  {
   "cell_type": "code",
   "execution_count": 6,
   "metadata": {},
   "outputs": [
    {
     "name": "stdout",
     "output_type": "stream",
     "text": [
      "Shape of the Katy Perry and Rihanna dataframe: (5801, 10)\n",
      "\n",
      "First few rows of the Katy Perry and Rihanna dataframe:\n"
     ]
    },
    {
     "data": {
      "text/html": [
       "<div>\n",
       "<style scoped>\n",
       "    .dataframe tbody tr th:only-of-type {\n",
       "        vertical-align: middle;\n",
       "    }\n",
       "\n",
       "    .dataframe tbody tr th {\n",
       "        vertical-align: top;\n",
       "    }\n",
       "\n",
       "    .dataframe thead th {\n",
       "        text-align: right;\n",
       "    }\n",
       "</style>\n",
       "<table border=\"1\" class=\"dataframe\">\n",
       "  <thead>\n",
       "    <tr style=\"text-align: right;\">\n",
       "      <th></th>\n",
       "      <th>author</th>\n",
       "      <th>content</th>\n",
       "      <th>country</th>\n",
       "      <th>date_time</th>\n",
       "      <th>id</th>\n",
       "      <th>language</th>\n",
       "      <th>latitude</th>\n",
       "      <th>longitude</th>\n",
       "      <th>number_of_likes</th>\n",
       "      <th>number_of_shares</th>\n",
       "    </tr>\n",
       "  </thead>\n",
       "  <tbody>\n",
       "    <tr>\n",
       "      <th>0</th>\n",
       "      <td>katyperry</td>\n",
       "      <td>Is history repeating itself...?#DONTNORMALIZEH...</td>\n",
       "      <td>NaN</td>\n",
       "      <td>12/01/2017 19:52</td>\n",
       "      <td>8.196330e+17</td>\n",
       "      <td>en</td>\n",
       "      <td>NaN</td>\n",
       "      <td>NaN</td>\n",
       "      <td>7900</td>\n",
       "      <td>3472</td>\n",
       "    </tr>\n",
       "    <tr>\n",
       "      <th>1</th>\n",
       "      <td>katyperry</td>\n",
       "      <td>@barackobama Thank you for your incredible gra...</td>\n",
       "      <td>NaN</td>\n",
       "      <td>11/01/2017 08:38</td>\n",
       "      <td>8.191010e+17</td>\n",
       "      <td>en</td>\n",
       "      <td>NaN</td>\n",
       "      <td>NaN</td>\n",
       "      <td>3689</td>\n",
       "      <td>1380</td>\n",
       "    </tr>\n",
       "    <tr>\n",
       "      <th>2</th>\n",
       "      <td>katyperry</td>\n",
       "      <td>Life goals. https://t.co/XIn1qKMKQl</td>\n",
       "      <td>NaN</td>\n",
       "      <td>11/01/2017 02:52</td>\n",
       "      <td>8.190140e+17</td>\n",
       "      <td>en</td>\n",
       "      <td>NaN</td>\n",
       "      <td>NaN</td>\n",
       "      <td>10341</td>\n",
       "      <td>2387</td>\n",
       "    </tr>\n",
       "    <tr>\n",
       "      <th>3</th>\n",
       "      <td>katyperry</td>\n",
       "      <td>Me right now 🙏🏻 https://t.co/gW55C1wrwd</td>\n",
       "      <td>NaN</td>\n",
       "      <td>11/01/2017 02:44</td>\n",
       "      <td>8.190120e+17</td>\n",
       "      <td>en</td>\n",
       "      <td>NaN</td>\n",
       "      <td>NaN</td>\n",
       "      <td>10774</td>\n",
       "      <td>2458</td>\n",
       "    </tr>\n",
       "    <tr>\n",
       "      <th>4</th>\n",
       "      <td>katyperry</td>\n",
       "      <td>SISTERS ARE DOIN' IT FOR THEMSELVES! 🙌🏻💪🏻❤️ ht...</td>\n",
       "      <td>NaN</td>\n",
       "      <td>10/01/2017 05:22</td>\n",
       "      <td>8.186890e+17</td>\n",
       "      <td>en</td>\n",
       "      <td>NaN</td>\n",
       "      <td>NaN</td>\n",
       "      <td>17620</td>\n",
       "      <td>4655</td>\n",
       "    </tr>\n",
       "  </tbody>\n",
       "</table>\n",
       "</div>"
      ],
      "text/plain": [
       "      author                                            content country  \\\n",
       "0  katyperry  Is history repeating itself...?#DONTNORMALIZEH...     NaN   \n",
       "1  katyperry  @barackobama Thank you for your incredible gra...     NaN   \n",
       "2  katyperry                Life goals. https://t.co/XIn1qKMKQl     NaN   \n",
       "3  katyperry            Me right now 🙏🏻 https://t.co/gW55C1wrwd     NaN   \n",
       "4  katyperry  SISTERS ARE DOIN' IT FOR THEMSELVES! 🙌🏻💪🏻❤️ ht...     NaN   \n",
       "\n",
       "          date_time            id language  latitude  longitude  \\\n",
       "0  12/01/2017 19:52  8.196330e+17       en       NaN        NaN   \n",
       "1  11/01/2017 08:38  8.191010e+17       en       NaN        NaN   \n",
       "2  11/01/2017 02:52  8.190140e+17       en       NaN        NaN   \n",
       "3  11/01/2017 02:44  8.190120e+17       en       NaN        NaN   \n",
       "4  10/01/2017 05:22  8.186890e+17       en       NaN        NaN   \n",
       "\n",
       "   number_of_likes  number_of_shares  \n",
       "0             7900              3472  \n",
       "1             3689              1380  \n",
       "2            10341              2387  \n",
       "3            10774              2458  \n",
       "4            17620              4655  "
      ]
     },
     "metadata": {},
     "output_type": "display_data"
    },
    {
     "name": "stdout",
     "output_type": "stream",
     "text": [
      "\n",
      "Number of tweets per author in the filtered dataframe:\n"
     ]
    },
    {
     "data": {
      "text/plain": [
       "author\n",
       "katyperry    2924\n",
       "rihanna      2877\n",
       "Name: count, dtype: int64"
      ]
     },
     "metadata": {},
     "output_type": "display_data"
    }
   ],
   "source": [
    "# Filter the dataframe to include only tweets by Katy Perry and Rihanna\n",
    "katy_rihanna_df = df[df['author'].isin(['katyperry', 'rihanna'])]\n",
    "\n",
    "# Display the shape of the new dataframe\n",
    "print(f\"Shape of the Katy Perry and Rihanna dataframe: {katy_rihanna_df.shape}\")\n",
    "\n",
    "# Display the first few rows of the new dataframe\n",
    "print(\"\\nFirst few rows of the Katy Perry and Rihanna dataframe:\")\n",
    "display(katy_rihanna_df.head())\n",
    "\n",
    "# Count the number of tweets for each author in the new dataframe\n",
    "print(\"\\nNumber of tweets per author in the filtered dataframe:\")\n",
    "display(katy_rihanna_df['author'].value_counts())\n"
   ]
  },
  {
   "cell_type": "code",
   "execution_count": 8,
   "metadata": {},
   "outputs": [
    {
     "name": "stdout",
     "output_type": "stream",
     "text": [
      "Training set shape: (4640, 10)\n",
      "Test set shape: (1161, 10)\n",
      "\n",
      "Author distribution in training set:\n"
     ]
    },
    {
     "data": {
      "text/plain": [
       "author\n",
       "katyperry    2339\n",
       "rihanna      2301\n",
       "Name: count, dtype: int64"
      ]
     },
     "metadata": {},
     "output_type": "display_data"
    },
    {
     "name": "stdout",
     "output_type": "stream",
     "text": [
      "\n",
      "Author distribution in test set:\n"
     ]
    },
    {
     "data": {
      "text/plain": [
       "author\n",
       "katyperry    585\n",
       "rihanna      576\n",
       "Name: count, dtype: int64"
      ]
     },
     "metadata": {},
     "output_type": "display_data"
    }
   ],
   "source": [
    "import numpy as np\n",
    "\n",
    "# Set a random seed for reproducibility\n",
    "np.random.seed(42)\n",
    "\n",
    "# Create empty dataframes for training and test sets\n",
    "train_df = pd.DataFrame()\n",
    "test_df = pd.DataFrame()\n",
    "\n",
    "# Get unique authors\n",
    "unique_authors = katy_rihanna_df['author'].unique()\n",
    "\n",
    "# For each author, split their tweets into training (80%) and test (20%) sets\n",
    "for author in unique_authors:\n",
    "    # Get all tweets by this author\n",
    "    author_tweets = katy_rihanna_df[katy_rihanna_df['author'] == author]\n",
    "    \n",
    "    # Shuffle the tweets\n",
    "    author_tweets = author_tweets.sample(frac=1)\n",
    "    \n",
    "    # Calculate the split index\n",
    "    split_idx = int(len(author_tweets) * 0.8)\n",
    "    \n",
    "    # Split into training and test sets\n",
    "    author_train = author_tweets.iloc[:split_idx]\n",
    "    author_test = author_tweets.iloc[split_idx:]\n",
    "    \n",
    "    # Add to the overall training and test dataframes\n",
    "    train_df = pd.concat([train_df, author_train])\n",
    "    test_df = pd.concat([test_df, author_test])\n",
    "\n",
    "# Shuffle the training and test sets\n",
    "train_df = train_df.sample(frac=1).reset_index(drop=True)\n",
    "test_df = test_df.sample(frac=1).reset_index(drop=True)\n",
    "\n",
    "# Display the shapes of the training and test sets\n",
    "print(f\"Training set shape: {train_df.shape}\")\n",
    "print(f\"Test set shape: {test_df.shape}\")\n",
    "\n",
    "# Verify the distribution of authors in both sets\n",
    "print(\"\\nAuthor distribution in training set:\")\n",
    "display(train_df['author'].value_counts())\n",
    "\n",
    "print(\"\\nAuthor distribution in test set:\")\n",
    "display(test_df['author'].value_counts())\n",
    "\n"
   ]
  },
  {
   "cell_type": "code",
   "execution_count": 14,
   "metadata": {},
   "outputs": [
    {
     "name": "stdout",
     "output_type": "stream",
     "text": [
      "Total number of tweets in the data set:\n"
     ]
    },
    {
     "data": {
      "text/plain": [
       "author\n",
       "katyperry    2924\n",
       "rihanna      2877\n",
       "Name: count, dtype: int64"
      ]
     },
     "metadata": {},
     "output_type": "display_data"
    },
    {
     "name": "stdout",
     "output_type": "stream",
     "text": [
      "\n",
      "Is the number of tweets in the data set after splitting equal to before splitting?\n"
     ]
    },
    {
     "data": {
      "text/plain": [
       "author\n",
       "katyperry    True\n",
       "rihanna      True\n",
       "Name: count, dtype: bool"
      ]
     },
     "metadata": {},
     "output_type": "display_data"
    }
   ],
   "source": [
    "# Check if sum of training and test sets are equal to the whole number of tweets\n",
    "total_counts = train_df['author'].value_counts() + test_df['author'].value_counts()\n",
    "print(\"Total number of tweets in the data set:\")\n",
    "display(total_counts)\n",
    "\n",
    "print(\"\\nIs the number of tweets in the data set after splitting equal to before splitting?\")\n",
    "display(total_counts == katy_rihanna_df['author'].value_counts())"
   ]
  },
  {
   "cell_type": "code",
   "execution_count": 15,
   "metadata": {},
   "outputs": [
    {
     "name": "stdout",
     "output_type": "stream",
     "text": [
      "Saved training set to data/twitter_train.pkl\n",
      "Saved test set to data/twitter_test.pkl\n"
     ]
    }
   ],
   "source": [
    "# Create a directory for the data if it doesn't exist\n",
    "os.makedirs('data', exist_ok=True)\n",
    "\n",
    "# Save the dataframes to pickle files\n",
    "train_df.to_pickle('data/twitter_train.pkl')\n",
    "test_df.to_pickle('data/twitter_test.pkl')\n",
    "\n",
    "print(\"Saved training set to data/twitter_train.pkl\")\n",
    "print(\"Saved test set to data/twitter_test.pkl\")\n"
   ]
  }
 ],
 "metadata": {
  "kernelspec": {
   "display_name": "cup",
   "language": "python",
   "name": "python3"
  },
  "language_info": {
   "codemirror_mode": {
    "name": "ipython",
    "version": 3
   },
   "file_extension": ".py",
   "mimetype": "text/x-python",
   "name": "python",
   "nbconvert_exporter": "python",
   "pygments_lexer": "ipython3",
   "version": "3.12.7"
  }
 },
 "nbformat": 4,
 "nbformat_minor": 2
}
