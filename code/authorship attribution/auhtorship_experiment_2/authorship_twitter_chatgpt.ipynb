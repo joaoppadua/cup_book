{
 "cells": [
  {
   "cell_type": "markdown",
   "metadata": {},
   "source": [
    "# Analyzing authorship of tweets from Rihanna and Katy Perry using ChatGPT"
   ]
  },
  {
   "cell_type": "code",
   "execution_count": 3,
   "metadata": {},
   "outputs": [],
   "source": [
    "import os\n",
    "import sys\n",
    "sys.path.append(os.path.abspath('..'))\n",
    "import pickle\n",
    "import pandas as pd\n",
    "import numpy as np\n",
    "import time\n",
    "from random import sample\n",
    "\n",
    "\n",
    "from credentials import get_credentials_openai\n",
    "API_KEY = get_credentials_openai()\n",
    "os.environ[\"OPENAI_API_KEY\"] = API_KEY\n",
    "\n",
    "from openai import OpenAI\n",
    "\n",
    "\n",
    "openai.api_key = os.getenv(\"OPENAI_API_KEY\")\n",
    "client = OpenAI(api_key=API_KEY)"
   ]
  },
  {
   "cell_type": "code",
   "execution_count": 4,
   "metadata": {},
   "outputs": [],
   "source": [
    "# Load training data\n",
    "with open('./data/sampled_author_texts.pkl', 'rb') as f:\n",
    "    training_data = pickle.load(f)\n",
    "\n",
    "# Load test data\n",
    "with open('./data/twitter_test.pkl', 'rb') as f:\n",
    "    test_data = pickle.load(f)"
   ]
  },
  {
   "cell_type": "code",
   "execution_count": 5,
   "metadata": {},
   "outputs": [],
   "source": [
    "# Helper functions\n",
    "\n",
    "def get_training_sample(training_data, n_samples=15):\n",
    "    rihanna_tweets = training_data['rihanna'].split('\\n')\n",
    "    katy_tweets = training_data['katyperry'].split('\\n')\n",
    "    rihanna_sample = sample([t for t in rihanna_tweets if t.strip()], n_samples)\n",
    "    katy_sample = sample([t for t in katy_tweets if t.strip()], n_samples)\n",
    "    return {\n",
    "        'rihanna': '\\n'.join(rihanna_sample),\n",
    "        'katyperry': '\\n'.join(katy_sample)\n",
    "    }\n",
    "\n",
    "def normalize_author_name(name):\n",
    "    name = name.lower().strip()\n",
    "    if name in ['katy perry', 'katyperry', 'katy']:\n",
    "        return 'katyperry'\n",
    "    if name in ['rihanna', 'riri']:\n",
    "        return 'rihanna'\n",
    "    return name\n",
    "\n",
    "def get_completion(prompt: str) -> str:\n",
    "    '''\n",
    "    This function is used to get the completion of a prompt using the OpenAI API.\n",
    "    Parameters:\n",
    "        prompt: The prompt to be used in the completion.\n",
    "    Returns:\n",
    "        The completion of the prompt.\n",
    "    '''\n",
    "    response = client.chat.completions.create(\n",
    "        model=\"gpt-4o\",\n",
    "        messages=[{\"role\": \"user\", \"content\": prompt}],\n",
    "    )\n",
    "    return response.choices[0].message.content"
   ]
  },
  {
   "cell_type": "code",
   "execution_count": 6,
   "metadata": {},
   "outputs": [
    {
     "name": "stdout",
     "output_type": "stream",
     "text": [
      "Created sample dataset with 100 tweets\n",
      "\n",
      "Sample distribution:\n",
      "author\n",
      "rihanna      56\n",
      "katyperry    44\n",
      "Name: count, dtype: int64\n"
     ]
    }
   ],
   "source": [
    "n_samples = 100\n",
    "sampled_tweets = test_data.sample(n=n_samples, random_state=42).reset_index(drop=True)\n",
    "print(f\"Created sample dataset with {len(sampled_tweets)} tweets\")\n",
    "print(\"\\nSample distribution:\")\n",
    "print(sampled_tweets['author'].value_counts())"
   ]
  },
  {
   "cell_type": "code",
   "execution_count": 8,
   "metadata": {},
   "outputs": [
    {
     "name": "stdout",
     "output_type": "stream",
     "text": [
      "Starting processing of 100 tweets in 10 batches\n",
      "Completed batch 1/10 (tweets 0-9)\n",
      "  Taking a 30 second break...\n",
      "Completed batch 2/10 (tweets 10-19)\n",
      "  Taking a 30 second break...\n",
      "Completed batch 3/10 (tweets 20-29)\n",
      "  Taking a 30 second break...\n",
      "Completed batch 4/10 (tweets 30-39)\n",
      "  Taking a 30 second break...\n",
      "Completed batch 5/10 (tweets 40-49)\n",
      "  Taking a 30 second break...\n",
      "Completed batch 6/10 (tweets 50-59)\n",
      "  Taking a 30 second break...\n",
      "Completed batch 7/10 (tweets 60-69)\n",
      "  Taking a 30 second break...\n",
      "Completed batch 8/10 (tweets 70-79)\n",
      "  Taking a 30 second break...\n",
      "Completed batch 9/10 (tweets 80-89)\n",
      "  Taking a 30 second break...\n",
      "Completed batch 10/10 (tweets 90-99)\n",
      "\n",
      "Processing complete!\n",
      "Successfully processed: 100 tweets\n"
     ]
    }
   ],
   "source": [
    "# Run predictions \n",
    "\n",
    "batch_size = 10\n",
    "total_batches = len(sampled_tweets) // batch_size + (1 if len(sampled_tweets) % batch_size > 0 else 0)\n",
    "results = []\n",
    "errors = []\n",
    "\n",
    "print(f\"Starting processing of {len(sampled_tweets)} tweets in {total_batches} batches\")\n",
    "\n",
    "for batch in range(total_batches):\n",
    "    start_idx = batch * batch_size\n",
    "    end_idx = min((batch + 1) * batch_size, len(sampled_tweets))\n",
    "    batch_training_data = get_training_sample(training_data)\n",
    "    batch_errors = 0\n",
    "\n",
    "    for idx in range(start_idx, end_idx):\n",
    "        row = sampled_tweets.iloc[idx]\n",
    "        tweet_text = row['content']\n",
    "        actual_author = normalize_author_name(row['author'])\n",
    "\n",
    "        prompt = f\"\"\"\n",
    "You are an expert in linguistic analysis and authorship attribution. Your task is to analyze authorship--i.e. idiolectal--markers that the texts reveal about their authors.\n",
    "\n",
    "You will be provided with:\n",
    "1. Training samples (tweets) from 2 different authors, Rihanna and Katy Perry\n",
    "2. A new text whose author you need to identify between those two authors\n",
    "\n",
    "Guideline for analysis:\n",
    "- Just use state of the art techniques to attribute authorship\n",
    "\n",
    "Rihanna's tweets:\n",
    "{batch_training_data['rihanna']}\n",
    "\n",
    "Katy Perry's tweets:\n",
    "{batch_training_data['katyperry']}\n",
    "\n",
    "New text to analyze:\n",
    "{tweet_text}\n",
    "\n",
    "Your answer should contain only the author's name and nothing else.\n",
    "\"\"\"\n",
    "        max_retries = 3\n",
    "        retry_delay = 60 \n",
    "\n",
    "        for retry in range(max_retries):\n",
    "            try:\n",
    "                raw_prediction = get_completion(prompt).strip()\n",
    "                prediction = normalize_author_name(raw_prediction)\n",
    "                if prediction in ['rihanna', 'katyperry']:\n",
    "                    results.append((idx, tweet_text, actual_author, prediction))\n",
    "                else:\n",
    "                    batch_errors += 1\n",
    "                    errors.append((idx, f\"Invalid prediction: {raw_prediction}\"))\n",
    "                time.sleep(5)  # 5 second delay between tweets\n",
    "                break\n",
    "            except Exception as e:\n",
    "                if retry < max_retries - 1:\n",
    "                    time.sleep(retry_delay)\n",
    "                else:\n",
    "                    batch_errors += 1\n",
    "                    errors.append((idx, str(e)))\n",
    "                    break\n",
    "\n",
    "    print(f\"Completed batch {batch + 1}/{total_batches} (tweets {start_idx}-{end_idx-1})\")\n",
    "    if batch_errors > 0:\n",
    "        print(f\"  ⚠️  {batch_errors} errors in this batch\")\n",
    "    if batch < total_batches - 1:\n",
    "        print(\"  Taking a 30 second break...\")\n",
    "        time.sleep(30)\n",
    "\n",
    "print(\"\\nProcessing complete!\")\n",
    "print(f\"Successfully processed: {len(results)} tweets\")\n",
    "if errors:\n",
    "    print(f\"Total errors: {len(errors)}\")"
   ]
  },
  {
   "cell_type": "code",
   "execution_count": 9,
   "metadata": {},
   "outputs": [
    {
     "name": "stdout",
     "output_type": "stream",
     "text": [
      "Overall accuracy: 85.00% (85/100)\n",
      "Accuracy for rihanna: 94.64% (53/56)\n",
      "Accuracy for katyperry: 72.73% (32/44)\n"
     ]
    },
    {
     "data": {
      "image/png": "[encoded data removed]",
      "text/plain": [
       "<Figure size 800x600 with 2 Axes>"
      ]
     },
     "metadata": {},
     "output_type": "display_data"
    }
   ],
   "source": [
    "# Analyze results\n",
    "\n",
    "import matplotlib.pyplot as plt\n",
    "import seaborn as sns\n",
    "from sklearn.metrics import confusion_matrix\n",
    "\n",
    "results_df = pd.DataFrame(results, columns=['idx', 'tweet_text', 'actual_author', 'predicted_author'])\n",
    "\n",
    "# Accuracy\n",
    "correct = (results_df['actual_author'] == results_df['predicted_author']).sum()\n",
    "total = len(results_df)\n",
    "print(f\"Overall accuracy: {correct/total:.2%} ({correct}/{total})\")\n",
    "\n",
    "# Per-author accuracy\n",
    "for author in ['rihanna', 'katyperry']:\n",
    "    author_cases = results_df[results_df['actual_author'] == author]\n",
    "    if not author_cases.empty:\n",
    "        acc = (author_cases['actual_author'] == author_cases['predicted_author']).mean()\n",
    "        print(f\"Accuracy for {author}: {acc:.2%} ({(author_cases['actual_author'] == author_cases['predicted_author']).sum()}/{len(author_cases)})\")\n",
    "\n",
    "# Confusion matrix\n",
    "cm = confusion_matrix(results_df['actual_author'], results_df['predicted_author'], labels=['rihanna', 'katyperry'])\n",
    "plt.figure(figsize=(8, 6))\n",
    "sns.heatmap(cm, annot=True, fmt='d', xticklabels=['rihanna', 'katyperry'], yticklabels=['rihanna', 'katyperry'])\n",
    "plt.title('Confusion Matrix')\n",
    "plt.xlabel('Predicted')\n",
    "plt.ylabel('Actual')\n",
    "plt.show()"
   ]
  },
  {
   "cell_type": "code",
   "execution_count": 10,
   "metadata": {},
   "outputs": [
    {
     "name": "stdout",
     "output_type": "stream",
     "text": [
      "SOME CORRECTLY CLASSIFIED EXAMPLES:\n",
      "\n",
      "Tweet: #NAVY be like..... http://t.co/N49KIm7waR\n",
      "Actual: rihanna | Predicted: rihanna\n",
      "------------------------------------------------------------\n",
      "Tweet: It's just beyond the vault. Discover room 7 of the #ANTIdiaRy at https://t.co/uJ0CLlhoaS https://t.co/povYOBn3Fm\n",
      "Actual: rihanna | Predicted: rihanna\n",
      "------------------------------------------------------------\n",
      "Tweet: #CoCo #vintage #rare http://t.co/6PBqE5T5WO\n",
      "Actual: rihanna | Predicted: rihanna\n",
      "------------------------------------------------------------\n",
      "Tweet: And yea I like to phuck I got a phuckin pro'lem\n",
      "Actual: rihanna | Predicted: rihanna\n",
      "------------------------------------------------------------\n",
      "Tweet: Bumped into the extraordinary Jennifer Lawrence at dinner! #Paris http://t.co/OUTfMoIoxD\n",
      "Actual: rihanna | Predicted: rihanna\n",
      "------------------------------------------------------------\n",
      "\n",
      "SOME INCORRECTLY CLASSIFIED EXAMPLES:\n",
      "\n",
      "Tweet: Show #129 tonight in Stockholm...Last show of Europe leg...Can't believe how far we've come...due for a nap but before I do Imma drop some 🔥\n",
      "Actual: katyperry | Predicted: rihanna\n",
      "------------------------------------------------------------\n",
      "Tweet: Thank you Vevo and to all the fans and viewers of my music videos! #ToGodBeTheGlory http://t.co/J38jtU3TKW\n",
      "Actual: rihanna | Predicted: katyperry\n",
      "------------------------------------------------------------\n",
      "Tweet: COME ON WE DONT HAVE TIME TO MISS THIS https://t.co/3ERvxQ29hd\n",
      "Actual: katyperry | Predicted: rihanna\n",
      "------------------------------------------------------------\n",
      "Tweet: HAPPY 30TH BIRTHDAY to my angel &amp; warden of a sister, Angela. I love you.\n",
      "Actual: katyperry | Predicted: rihanna\n",
      "------------------------------------------------------------\n",
      "Tweet: Me rn: https://t.co/TXnP3hubAy\n",
      "Actual: katyperry | Predicted: rihanna\n",
      "------------------------------------------------------------\n"
     ]
    }
   ],
   "source": [
    "# Find correct and incorrect predictions\n",
    "correct_cases = results_df[results_df['actual_author'] == results_df['predicted_author']]\n",
    "incorrect_cases = results_df[results_df['actual_author'] != results_df['predicted_author']]\n",
    "\n",
    "# Sample a few from each\n",
    "n_samples = 5\n",
    "sampled_correct = correct_cases.sample(n=min(n_samples, len(correct_cases)), random_state=42)\n",
    "sampled_incorrect = incorrect_cases.sample(n=min(n_samples, len(incorrect_cases)), random_state=42)\n",
    "\n",
    "print(\"SOME CORRECTLY CLASSIFIED EXAMPLES:\\n\")\n",
    "for _, row in sampled_correct.iterrows():\n",
    "    print(f\"Tweet: {row['tweet_text']}\\nActual: {row['actual_author']} | Predicted: {row['predicted_author']}\\n{'-'*60}\")\n",
    "\n",
    "print(\"\\nSOME INCORRECTLY CLASSIFIED EXAMPLES:\\n\")\n",
    "for _, row in sampled_incorrect.iterrows():\n",
    "    print(f\"Tweet: {row['tweet_text']}\\nActual: {row['actual_author']} | Predicted: {row['predicted_author']}\\n{'-'*60}\")"
   ]
  },
  {
   "cell_type": "code",
   "execution_count": 12,
   "metadata": {},
   "outputs": [
    {
     "name": "stdout",
     "output_type": "stream",
     "text": [
      "Saved qualitative inspection to qualitative_inspection_chatgpt.html\n"
     ]
    }
   ],
   "source": [
    "# Save as HTML for easy human reading\n",
    "qualitative_df = pd.concat([\n",
    "    sampled_correct.assign(case='correct'),\n",
    "    sampled_incorrect.assign(case='incorrect')\n",
    "])\n",
    "qualitative_df.to_html(\"./data/chatgpt_qualitative_analysis.html\", index=False)\n",
    "print(\"Saved qualitative inspection to chatgpt_qualitative_analysis.html\")"
   ]
  },
  {
   "cell_type": "code",
   "execution_count": 13,
   "metadata": {},
   "outputs": [],
   "source": [
    "# Ask ChatGPT to explain the results\n",
    "\n",
    "prompt = f\"\"\"\n",
    "A Large Language Model was tasked with attributing authorship to tweets from Rihanna and Katy Perry.\n",
    "Generally, the model performed well, with close to 90% accuracy. However, it made some mistakes.\n",
    "\n",
    "You will be provided with:\n",
    "1. A list of tweets from Rihanna and Katy Perry that were correctly classified by the model\n",
    "2. A list of tweets from Rihanna and Katy Perry that were incorrectly classified by the model\n",
    "\n",
    "Your task and guidelines:\n",
    "Act as a linguistic expert. Your task is to explain the performance of the model. Think globally about the dataset and the discursive patterns that emerge. Give more focus/\n",
    "in trying to understand the mistakes the model made.\n",
    "Do not focus on individual tweets, but rather on the broader discursive patterns. Try, when possible, to use examples to illustrate those patterns.\n",
    "\n",
    "Here are the tweets from Rihanna and Katy Perry that were correctly classified by the model:\n",
    "<correct_cases>\n",
    "{correct_cases['tweet_text'].to_string(index=False)}\n",
    "</correct_cases>\n",
    "\n",
    "Here are the tweets from Rihanna and Katy Perry that were incorrectly classified by the model:\n",
    "<incorrect_cases>\n",
    "{incorrect_cases['tweet_text'].to_string(index=False)}\n",
    "</incorrect_cases>\n",
    "\n",
    "Your answer should be a two to three paragraph explanation about the performance of the model, following the guidelines above.\n",
    "\"\"\""
   ]
  },
  {
   "cell_type": "code",
   "execution_count": 14,
   "metadata": {},
   "outputs": [
    {
     "data": {
      "text/html": [
       "The Large Language Model tasked with attributing authorship between Rihanna and Katy Perry tweets performed with nearly 90% accuracy, a solid achievement indicative of distinct stylistic differences in each artist's online presence. Many of the tweets correctly classified by the model include language patterns and thematic elements characteristic of each artist. For instance, Rihanna often uses hashtags, slang, and casual language that reflect her bold personality and engagement with her fans (#Navy, #diamondsworldtour), along with posts about fashion collaborations and social justice issues. Katy Perry's tweets that were correctly classified often contain enthusiastic language and references to her music or public media events (e.g., \"TODAY'S THE DAY! Take home an even BIGGER #Part...\"), confirming distinct branding and thematic choices that help the model differentiate between the two artists.\n",
       "\n",
       "However, the tweets that the model misclassified provide insights into the more subtle challenges of authorship attribution. Katy Perry, despite her often bubbly and upbeat social media presence, can also address serious topics or display a more earnest tone, which might overlap with Rihanna's more direct and serious posts. Misclassifications may arise when Perry's content takes on a more somber or reflective tone, as observed in the tweet, \"Remember that book I tweeted bout a while ago?\", or when she engages in conversations about current issues, aligning with content that could be mistaken for Rihanna's posts about social awareness. Additionally, tweets that lack explicit stylistic markers, such as simple replies or expressions (\"@Hakimkharbouch bless\"), can create ambiguity for the model as they do not strongly align with the distinctive linguistic patterns typically associated with either artist.\n",
       "\n",
       "Misclassifications can also occur due to the tweets' reliance on universal internet language, emojis, or brevity, which might not exhibit enough unique stylistic elements. For instance, short interjections or enthusiastic expressions (\"Hellooooooo Australia!!!!\") can be generic enough to fit the unique narratives of either artist, complicating clear classification. The model's performance, while strong, illustrates the challenges posed by the nuanced overlap in linguistic styles, especially when both artists share similar thematic concerns or use the same digital vernacular. Understanding these subtleties is crucial for further refining authorship attribution models, ensuring better differentiation even when distinctive stylistic cues are minimally present."
      ],
      "text/plain": [
       "<IPython.core.display.HTML object>"
      ]
     },
     "metadata": {},
     "output_type": "display_data"
    }
   ],
   "source": [
    "from IPython.display import display, HTML\n",
    "\n",
    "qualitative_explanation = get_completion(prompt)\n",
    "display(HTML(qualitative_explanation))\n"
   ]
  }
 ],
 "metadata": {
  "kernelspec": {
   "display_name": "cup",
   "language": "python",
   "name": "python3"
  },
  "language_info": {
   "codemirror_mode": {
    "name": "ipython",
    "version": 3
   },
   "file_extension": ".py",
   "mimetype": "text/x-python",
   "name": "python",
   "nbconvert_exporter": "python",
   "pygments_lexer": "ipython3",
   "version": "3.12.7"
  }
 },
 "nbformat": 4,
 "nbformat_minor": 2
}
