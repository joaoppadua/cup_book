{
 "cells": [
  {
   "cell_type": "markdown",
   "metadata": {},
   "source": [
    "## Blog Authorship Corpus Exercise (Part 4)\n",
    "\n",
    "This notebook will use the Kaggle blog dataset prepared in other notebook to assess whether Gemini can identify authorship"
   ]
  },
  {
   "cell_type": "code",
   "execution_count": 1,
   "metadata": {},
   "outputs": [],
   "source": [
    "!pip install -q -U google-generativeai"
   ]
  },
  {
   "cell_type": "code",
   "execution_count": 1,
   "metadata": {},
   "outputs": [
    {
     "name": "stderr",
     "output_type": "stream",
     "text": [
      "/Users/joaopedropadua/anaconda3/envs/cup/lib/python3.12/site-packages/tqdm/auto.py:21: TqdmWarning: IProgress not found. Please update jupyter and ipywidgets. See https://ipywidgets.readthedocs.io/en/stable/user_install.html\n",
      "  from .autonotebook import tqdm as notebook_tqdm\n"
     ]
    }
   ],
   "source": [
    "import os\n",
    "from credentials import get_credentials_gemini\n",
    "import google.generativeai as genai\n",
    "import pickle\n",
    "import pandas as pd"
   ]
  },
  {
   "cell_type": "code",
   "execution_count": 2,
   "metadata": {},
   "outputs": [],
   "source": [
    "API_KEY = get_credentials_gemini()\n",
    "genai.configure(api_key=API_KEY)"
   ]
  },
  {
   "cell_type": "code",
   "execution_count": 3,
   "metadata": {},
   "outputs": [],
   "source": [
    "def get_completion(prompt: str, model: str = \"gemini-2.0-flash\") -> str:\n",
    "    '''\n",
    "    Generate a completion for a given prompt using the Gemini API\n",
    "    Args:\n",
    "        prompt: The prompt to generate a completion for\n",
    "        model: The model to use for the completion\n",
    "    Returns:\n",
    "        The completion for the prompt\n",
    "    '''\n",
    "    model = genai.GenerativeModel(model)\n",
    "    response = model.generate_content(prompt)\n",
    "    return response.text"
   ]
  },
  {
   "cell_type": "code",
   "execution_count": 4,
   "metadata": {},
   "outputs": [],
   "source": [
    "#Load the data\n",
    "with open('train_set.pkl', 'rb') as f:\n",
    "    train_set = pickle.load(f)\n",
    "\n",
    "with open('test_set.pkl', 'rb') as f:\n",
    "    test_set = pickle.load(f)\n",
    "\n"
   ]
  },
  {
   "cell_type": "code",
   "execution_count": 5,
   "metadata": {},
   "outputs": [
    {
     "data": {
      "text/html": [
       "<div>\n",
       "<style scoped>\n",
       "    .dataframe tbody tr th:only-of-type {\n",
       "        vertical-align: middle;\n",
       "    }\n",
       "\n",
       "    .dataframe tbody tr th {\n",
       "        vertical-align: top;\n",
       "    }\n",
       "\n",
       "    .dataframe thead th {\n",
       "        text-align: right;\n",
       "    }\n",
       "</style>\n",
       "<table border=\"1\" class=\"dataframe\">\n",
       "  <thead>\n",
       "    <tr style=\"text-align: right;\">\n",
       "      <th></th>\n",
       "      <th>id</th>\n",
       "      <th>gender</th>\n",
       "      <th>age</th>\n",
       "      <th>topic</th>\n",
       "      <th>sign</th>\n",
       "      <th>date</th>\n",
       "      <th>text</th>\n",
       "      <th>text_count</th>\n",
       "    </tr>\n",
       "  </thead>\n",
       "  <tbody>\n",
       "    <tr>\n",
       "      <th>0</th>\n",
       "      <td>589736</td>\n",
       "      <td>male</td>\n",
       "      <td>35</td>\n",
       "      <td>Technology</td>\n",
       "      <td>Aries</td>\n",
       "      <td>05,August,2004</td>\n",
       "      <td>dude, i have no idea where that notebook is...</td>\n",
       "      <td>2294</td>\n",
       "    </tr>\n",
       "    <tr>\n",
       "      <th>1</th>\n",
       "      <td>589736</td>\n",
       "      <td>male</td>\n",
       "      <td>35</td>\n",
       "      <td>Technology</td>\n",
       "      <td>Aries</td>\n",
       "      <td>05,August,2004</td>\n",
       "      <td>[ Mon Oct 06, 12:11:48 PM | hot chocolate ]...</td>\n",
       "      <td>2294</td>\n",
       "    </tr>\n",
       "    <tr>\n",
       "      <th>2</th>\n",
       "      <td>589736</td>\n",
       "      <td>male</td>\n",
       "      <td>35</td>\n",
       "      <td>Technology</td>\n",
       "      <td>Aries</td>\n",
       "      <td>05,August,2004</td>\n",
       "      <td>Perhaps you can make notes to yourself duri...</td>\n",
       "      <td>2294</td>\n",
       "    </tr>\n",
       "    <tr>\n",
       "      <th>3</th>\n",
       "      <td>589736</td>\n",
       "      <td>male</td>\n",
       "      <td>35</td>\n",
       "      <td>Technology</td>\n",
       "      <td>Aries</td>\n",
       "      <td>05,August,2004</td>\n",
       "      <td>very interesting but hard to keep in head a...</td>\n",
       "      <td>2294</td>\n",
       "    </tr>\n",
       "    <tr>\n",
       "      <th>4</th>\n",
       "      <td>589736</td>\n",
       "      <td>male</td>\n",
       "      <td>35</td>\n",
       "      <td>Technology</td>\n",
       "      <td>Aries</td>\n",
       "      <td>05,August,2004</td>\n",
       "      <td>Small Picture   - murder rap - lack of ide...</td>\n",
       "      <td>2294</td>\n",
       "    </tr>\n",
       "  </tbody>\n",
       "</table>\n",
       "</div>"
      ],
      "text/plain": [
       "       id gender  age       topic   sign            date  \\\n",
       "0  589736   male   35  Technology  Aries  05,August,2004   \n",
       "1  589736   male   35  Technology  Aries  05,August,2004   \n",
       "2  589736   male   35  Technology  Aries  05,August,2004   \n",
       "3  589736   male   35  Technology  Aries  05,August,2004   \n",
       "4  589736   male   35  Technology  Aries  05,August,2004   \n",
       "\n",
       "                                                text  text_count  \n",
       "0     dude, i have no idea where that notebook is...        2294  \n",
       "1     [ Mon Oct 06, 12:11:48 PM | hot chocolate ]...        2294  \n",
       "2     Perhaps you can make notes to yourself duri...        2294  \n",
       "3     very interesting but hard to keep in head a...        2294  \n",
       "4      Small Picture   - murder rap - lack of ide...        2294  "
      ]
     },
     "execution_count": 5,
     "metadata": {},
     "output_type": "execute_result"
    }
   ],
   "source": [
    "test_set.head()"
   ]
  },
  {
   "cell_type": "code",
   "execution_count": 6,
   "metadata": {},
   "outputs": [
    {
     "data": {
      "text/plain": [
       "10"
      ]
     },
     "execution_count": 6,
     "metadata": {},
     "output_type": "execute_result"
    }
   ],
   "source": [
    "# Get pairs or ids and texts to use them as variables in the prompt\n",
    "train_pairs = train_set[['id', 'text']].to_dict(orient='records')\n",
    "\n",
    "#get a list of author ids\n",
    "author_ids = train_set['id'].unique()\n",
    "len(author_ids)\n"
   ]
  },
  {
   "cell_type": "code",
   "execution_count": 7,
   "metadata": {},
   "outputs": [],
   "source": [
    "# First select a random row from test_set\n",
    "random_row = test_set.sample(n=1, random_state=42)  # random_state for reproducibility\n",
    "random_text = random_row['text'].iloc[0]\n",
    "random_id = random_row['id'].iloc[0]  # keep this to check if the model's prediction is correct"
   ]
  },
  {
   "cell_type": "code",
   "execution_count": 8,
   "metadata": {},
   "outputs": [],
   "source": [
    "#Improved version (with LLM help)\n",
    "\n",
    "prompt = f\"\"\"\n",
    "You are an expert in linguistic analysis and authorship attribution. Your task is to analyze authorship--i.e. idiolectal--markers that the \\\n",
    "texts reveal about their authors.\n",
    "\n",
    "\n",
    "You will be provided with:\n",
    "1. Training samples from 10 different authors (2 texts per author)\n",
    "2. A new text whose author you need to identify\n",
    "\n",
    "Guideline for analysis:\n",
    "- Just use state of the art techniques to attribute authorship\n",
    "\n",
    "\n",
    "Here are the training samples:\n",
    "\n",
    "<author_samples>\n",
    "<author_id>\n",
    "{train_pairs[0]['id']}\n",
    "</author_id>\n",
    "<texts>\n",
    "{train_pairs[0]['text']}\n",
    "{train_pairs[1]['text']}\n",
    "</text>\n",
    "\n",
    "<author_id>\n",
    "{train_pairs[2]['id']}\n",
    "</author_id>\n",
    "<texts>\n",
    "{train_pairs[2]['text']}\n",
    "{train_pairs[3]['text']}\n",
    "</texts>\n",
    "\n",
    "<author_id>\n",
    "{train_pairs[4]['id']}\n",
    "</author_id>\n",
    "<texts>\n",
    "{train_pairs[4]['text']}\n",
    "{train_pairs[5]['text']}\n",
    "</texts>\n",
    "\n",
    "<author_id>\n",
    "{train_pairs[6]['id']}\n",
    "</author_id>\n",
    "<texts>\n",
    "{train_pairs[6]['text']}\n",
    "{train_pairs[7]['text']}\n",
    "</texts>\n",
    "\n",
    "<author_id>\n",
    "{train_pairs[8]['id']}\n",
    "</author_id>\n",
    "<texts>\n",
    "{train_pairs[8]['text']}\n",
    "{train_pairs[9]['text']}\n",
    "</texts>\n",
    "\n",
    "<author_id>\n",
    "{train_pairs[10]['id']}\n",
    "</author_id>\n",
    "<texts>\n",
    "{train_pairs[10]['text']}\n",
    "{train_pairs[11]['text']}\n",
    "</texts>\n",
    "\n",
    "<author_id>\n",
    "{train_pairs[12]['id']}\n",
    "</author_id>\n",
    "<texts>\n",
    "{train_pairs[12]['text']}\n",
    "{train_pairs[13]['text']}\n",
    "</texts>\n",
    "\n",
    "<author_id>\n",
    "{train_pairs[14]['id']}\n",
    "</author_id>\n",
    "<texts>\n",
    "{train_pairs[14]['text']}\n",
    "{train_pairs[15]['text']}\n",
    "</texts>\n",
    "\n",
    "<author_id>\n",
    "{train_pairs[16]['id']}\n",
    "</author_id>\n",
    "<texts>\n",
    "{train_pairs[16]['text']}\n",
    "{train_pairs[17]['text']}\n",
    "</texts>\n",
    "\n",
    "<author_id>\n",
    "{train_pairs[18]['id']}\n",
    "</author_id>\n",
    "<texts>\n",
    "{train_pairs[18]['text']}\n",
    "{train_pairs[19]['text']}\n",
    "</texts>\n",
    "</author_samples>\n",
    "\n",
    "Now, analyze this new text and identify which author it most likely belongs to.\n",
    "\n",
    "<new_text>\n",
    "{random_text}\n",
    "</new_text>\n",
    "\n",
    "\n",
    "As an answer, give only the predicted id, no other text.\n",
    "\"\"\""
   ]
  },
  {
   "cell_type": "code",
   "execution_count": 9,
   "metadata": {},
   "outputs": [
    {
     "name": "stdout",
     "output_type": "stream",
     "text": [
      "The predicted author id is: 1784456\n",
      "\n",
      "--------------------------------\n",
      "The predicted author id 1784456 exists in the training set.\n",
      "--------------------------------\n",
      "The model's prediction is incorrect.\n"
     ]
    }
   ],
   "source": [
    "# Testing\n",
    "first_prediction = get_completion(prompt)\n",
    "print(f'The predicted author id is: {first_prediction}')\n",
    "print('--------------------------------')\n",
    "\n",
    "# Check if the model's predicted author id exsists\n",
    "author_ids = train_set['id'].unique()\n",
    "\n",
    "# Try to convert the prediction directly to integer\n",
    "try:\n",
    "    predicted_id = int(first_prediction.strip())\n",
    "except ValueError:\n",
    "    print(f\"Invalid prediction format: {first_prediction}\")\n",
    "    predicted_id = None\n",
    "\n",
    "if predicted_id in author_ids:\n",
    "    print(f\"The predicted author id {predicted_id} exists in the training set.\")\n",
    "else:\n",
    "    print(f\"The predicted author id {predicted_id} does not exist in the training set.\")\n",
    "\n",
    "print('--------------------------------')\n",
    "# Assess the accuracy of the model's prediction\n",
    "\n",
    "if predicted_id == random_id:\n",
    "    print(\"The model's prediction is correct.\")\n",
    "else:\n",
    "    print(\"The model's prediction is incorrect.\")\n"
   ]
  },
  {
   "cell_type": "code",
   "execution_count": null,
   "metadata": {},
   "outputs": [
    {
     "name": "stdout",
     "output_type": "stream",
     "text": [
      "Completed 10 iterations\n",
      "Completed 20 iterations\n",
      "Completed 30 iterations\n",
      "Completed 40 iterations\n",
      "Completed 50 iterations\n",
      "Completed 60 iterations\n",
      "Completed 70 iterations\n",
      "Completed 80 iterations\n",
      "Completed 90 iterations\n",
      "Completed 100 iterations\n"
     ]
    }
   ],
   "source": [
    "# Fixed the quota problem using Gemini 2.0 flash\n",
    "\n",
    "# Create an experiment with 100 predictions\n",
    "\n",
    "# Initialize an empty list to store all predictions\n",
    "all_predictions = []\n",
    "\n",
    "# Loop through 100 iterations\n",
    "for i in range(100):\n",
    "    try:\n",
    "        # Select a random row from test_set\n",
    "        random_row = test_set.sample(n=1, random_state=i)  # Using i as random_state for reproducibility\n",
    "        random_text = random_row['text'].iloc[0]\n",
    "        random_id = random_row['id'].iloc[0]\n",
    "        \n",
    "        # Get the prediction from the model\n",
    "        prediction = get_completion(prompt)\n",
    "        \n",
    "        # Check if prediction is empty\n",
    "        if not prediction:\n",
    "            print(f\"Iteration {i}: Empty prediction received\")\n",
    "            continue\n",
    "            \n",
    "        # Try to convert the prediction to integer\n",
    "        try:\n",
    "            predicted_id = int(prediction)\n",
    "        except ValueError:\n",
    "            print(f\"Iteration {i}: Invalid prediction format: {prediction}\")\n",
    "            continue\n",
    "            \n",
    "        # Store the results\n",
    "        all_predictions.append({\n",
    "            'actual_id': random_id,\n",
    "            'predicted_id': predicted_id,\n",
    "            'is_correct': random_id == predicted_id\n",
    "        })\n",
    "        \n",
    "        # Print progress every 10 iterations\n",
    "        if (i + 1) % 10 == 0:\n",
    "            print(f\"Completed {i + 1} iterations\")\n",
    "            \n",
    "    except Exception as e:\n",
    "        print(f\"Iteration {i}: Error occurred - {str(e)}\")\n",
    "        continue\n",
    "\n"
   ]
  },
  {
   "cell_type": "code",
   "execution_count": 11,
   "metadata": {},
   "outputs": [
    {
     "name": "stdout",
     "output_type": "stream",
     "text": [
      "\n",
      "Overall accuracy: 8.00%\n",
      "Total predictions: 100\n",
      "Correct predictions: 8\n"
     ]
    }
   ],
   "source": [
    "# Check if we have any predictions\n",
    "if not all_predictions:\n",
    "    print(\"No valid predictions were collected\")\n",
    "else:\n",
    "    # Convert the list of predictions to a DataFrame\n",
    "    predictions_df = pd.DataFrame(all_predictions)\n",
    "    \n",
    "    # Calculate and print overall accuracy\n",
    "    accuracy = predictions_df['is_correct'].mean()\n",
    "    print(f\"\\nOverall accuracy: {accuracy:.2%}\")\n",
    "    print(f\"Total predictions: {len(predictions_df)}\")\n",
    "    print(f\"Correct predictions: {predictions_df['is_correct'].sum()}\")"
   ]
  },
  {
   "cell_type": "markdown",
   "metadata": {},
   "source": [
    "## Expected results from random guessing:\n",
    "**Guessing any author**: 10.00%\n",
    "\n",
    "**Guessing the modal author**: 17.95%\n"
   ]
  }
 ],
 "metadata": {
  "kernelspec": {
   "display_name": "cup",
   "language": "python",
   "name": "python3"
  },
  "language_info": {
   "codemirror_mode": {
    "name": "ipython",
    "version": 3
   },
   "file_extension": ".py",
   "mimetype": "text/x-python",
   "name": "python",
   "nbconvert_exporter": "python",
   "pygments_lexer": "ipython3",
   "version": "3.12.7"
  }
 },
 "nbformat": 4,
 "nbformat_minor": 2
}
