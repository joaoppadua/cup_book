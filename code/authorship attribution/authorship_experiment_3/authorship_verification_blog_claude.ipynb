{
 "cells": [
  {
   "cell_type": "markdown",
   "metadata": {},
   "source": [
    "# Authorship verification experiment using the Kaggle Blog Corpus with Claude"
   ]
  },
  {
   "cell_type": "code",
   "execution_count": 1,
   "metadata": {},
   "outputs": [],
   "source": [
    "import os \n",
    "import sys\n",
    "sys.path.append(os.path.abspath('..'))"
   ]
  },
  {
   "cell_type": "code",
   "execution_count": 2,
   "metadata": {},
   "outputs": [],
   "source": [
    "import pandas as pd\n",
    "import numpy as np"
   ]
  },
  {
   "cell_type": "code",
   "execution_count": 3,
   "metadata": {},
   "outputs": [],
   "source": [
    "from anthropic import Anthropic\n",
    "from credentials import get_credentials_claude\n",
    "\n",
    "API_KEY = get_credentials_claude()\n",
    "\n",
    "client = Anthropic(api_key=API_KEY)\n"
   ]
  },
  {
   "cell_type": "code",
   "execution_count": 4,
   "metadata": {},
   "outputs": [],
   "source": [
    "# Load the training and test sets\n",
    "train_path = \"./data/authorship_verification_kaggle_data_2_train.pkl\"\n",
    "test_path = \"./data/authorship_verification_kaggle_data_2_test.pkl\"\n",
    "\n",
    "df_train = pd.read_pickle(train_path)\n",
    "df_test = pd.read_pickle(test_path)"
   ]
  },
  {
   "cell_type": "code",
   "execution_count": 5,
   "metadata": {},
   "outputs": [],
   "source": [
    "#Create training string\n",
    "\n",
    "# Set random seed for reproducibility\n",
    "np.random.seed(42)\n",
    "\n",
    "# Get unique author IDs\n",
    "author_ids = df_train['id'].unique()\n",
    "\n",
    "# Dictionary to store concatenated texts\n",
    "author_samples = {}\n",
    "\n",
    "for author_id in author_ids:\n",
    "    # Sample 30 texts for this author\n",
    "    sample_texts = df_train[df_train['id'] == author_id]['text'].sample(n=35, random_state=42)\n",
    "    # Concatenate into a single string (separated by newlines or spaces)\n",
    "    concatenated = \"\\n\\n\".join(sample_texts)\n",
    "    author_samples[author_id] = concatenated\n",
    "\n",
    "\n"
   ]
  },
  {
   "cell_type": "code",
   "execution_count": 6,
   "metadata": {},
   "outputs": [
    {
     "name": "stdout",
     "output_type": "stream",
     "text": [
      "Author: 734562\n",
      "           nah, he's still has that huge ass poster in his bedroom.   and 'orthographical'?  wow, big word.          \n",
      "\n",
      "           when downloading porn just isn't enough anymore:  urlLink imaginarygirlfriends.com          \n",
      "\n",
      "           33% MORE!         \n",
      "\n",
      "           You must all think of me on Sunday, October 27th. It is my 29th birthday. I will probably be unable to attend the Blog-a-bration but will keep you, um, posted.         \n",
      "\n",
      "           Bless your heart, Mir...first Clark, now Edwards...no\n",
      "Author: 449628\n",
      "        Letters of Recommendation   Letters of recommendation are something that you could put in a professional portfolio, for example.  They are often requested in academic settings.  I found some links that hopefully will help  Michael Ernst, an Assistant Professor at MIT, offers his advice:   urlLink Requesting a letter of recommendation   urlLink Writing a letter of recommendation   Monster.com also has some advice:  urlLink Writing a Letter of Recommendation   As an employer, coworker, or \n"
     ]
    }
   ],
   "source": [
    "# Inspect the data\n",
    "\n",
    "for id in author_ids:\n",
    "    print(f\"Author: {id}\")\n",
    "    print(author_samples[id][:500])\n"
   ]
  },
  {
   "cell_type": "code",
   "execution_count": 7,
   "metadata": {},
   "outputs": [],
   "source": [
    "# Pick a random text from the test sample and get its author id\n",
    "test_text = df_test['text'].sample(n=1, random_state=42).values[0]\n",
    "test_author_id = df_test[df_test['text'] == test_text]['id'].values[0]\n"
   ]
  },
  {
   "cell_type": "code",
   "execution_count": 8,
   "metadata": {},
   "outputs": [
    {
     "name": "stdout",
     "output_type": "stream",
     "text": [
      "           Well, you could practice both at the same time...... Provided that the one you are dating is the one you are married to as well.          \n",
      "734562\n"
     ]
    }
   ],
   "source": [
    "print(test_text)\n",
    "print(test_author_id)"
   ]
  },
  {
   "cell_type": "code",
   "execution_count": 9,
   "metadata": {},
   "outputs": [],
   "source": [
    "# Create the template prompt\n",
    "\n",
    "prompt = f\"\"\"\n",
    "You are an expert in linguistic analysis and authorship attribution. Your task is to analyze authorship--i.e. idiolectal--markers that the \\\n",
    "texts reveal about their authors.\n",
    "\n",
    "\n",
    "You will be provided with:\n",
    "1. Training samples from 2 different authors, identified only by an unique id number (734562 and 449628);\n",
    "2. A new text whose author you need to identify between those two authors\n",
    "\n",
    "Guideline for analysis:\n",
    "- Just use state of the art techniques to attribute authorship\n",
    "\n",
    "Author's id 734562 samples:\n",
    "{author_samples[author_ids[0]]}\n",
    "\n",
    "Author's id 449628 samples:\n",
    "{author_samples[author_ids[1]]}\n",
    "\n",
    "New text to analyze:\n",
    "{test_text}\n",
    "\n",
    "Give as your answer only the author's id number and nothing else, like so: NNNNNN. Do not include any other text.\n",
    "\n",
    "\"\"\""
   ]
  },
  {
   "cell_type": "code",
   "execution_count": 10,
   "metadata": {},
   "outputs": [],
   "source": [
    "# Create a completion function that will be used to query the model\n",
    "def get_completion(prompt: str, max_tokens=5000) -> str:\n",
    "    response = client.messages.create(\n",
    "        model=\"claude-3-5-sonnet-20240620\",\n",
    "        messages=[{\"role\": \"user\", \"content\": prompt}],\n",
    "        max_tokens=max_tokens,\n",
    "        )\n",
    "    return response.content[0].text"
   ]
  },
  {
   "cell_type": "code",
   "execution_count": 11,
   "metadata": {},
   "outputs": [
    {
     "name": "stdout",
     "output_type": "stream",
     "text": [
      "734562\n"
     ]
    }
   ],
   "source": [
    "first_prediction = get_completion(prompt)\n",
    "print(first_prediction)"
   ]
  },
  {
   "cell_type": "code",
   "execution_count": 12,
   "metadata": {},
   "outputs": [
    {
     "name": "stdout",
     "output_type": "stream",
     "text": [
      "Actual author: 734562\n",
      "Predicted author: 734562\n",
      "Prediction is correct: True\n",
      "Accuracy: 1\n"
     ]
    }
   ],
   "source": [
    "# Check if the prediction is accurate\n",
    "# Get the actual author of the random tweet\n",
    "actual_author = str(test_author_id).lower()\n",
    "\n",
    "# Get the predicted author from the model's response\n",
    "predicted_author = first_prediction.strip().lower()\n",
    "\n",
    "# Check if the prediction matches the actual author\n",
    "is_correct = predicted_author == actual_author\n",
    "\n",
    "print(f\"Actual author: {actual_author}\")\n",
    "print(f\"Predicted author: {predicted_author}\")\n",
    "print(f\"Prediction is correct: {is_correct}\")\n",
    "\n",
    "# Calculate accuracy (1 for correct, 0 for incorrect)\n",
    "accuracy = 1 if is_correct else 0\n",
    "print(f\"Accuracy: {accuracy}\")\n",
    "\n"
   ]
  },
  {
   "cell_type": "code",
   "execution_count": 13,
   "metadata": {},
   "outputs": [
    {
     "name": "stdout",
     "output_type": "stream",
     "text": [
      "Created sample dataset with 100 blog posts\n",
      "Sample distribution:\n",
      "id\n",
      "449628    60\n",
      "734562    40\n",
      "Name: count, dtype: int64\n"
     ]
    }
   ],
   "source": [
    "# Sample 100 test blog posts for evaluation\n",
    "n_samples = 100\n",
    "sampled_posts = df_test.sample(n=n_samples, random_state=42).reset_index(drop=True)\n",
    "print(f'Created sample dataset with {len(sampled_posts)} blog posts')\n",
    "print('Sample distribution:')\n",
    "print(sampled_posts['id'].value_counts())"
   ]
  },
  {
   "cell_type": "code",
   "execution_count": 14,
   "metadata": {},
   "outputs": [],
   "source": [
    "def normalize_author_id(author_id):\n",
    "    return str(author_id).strip()"
   ]
  },
  {
   "cell_type": "code",
   "execution_count": 15,
   "metadata": {},
   "outputs": [
    {
     "name": "stdout",
     "output_type": "stream",
     "text": [
      "Starting processing of 100 blog posts in 10 batches\n",
      "Completed batch 1/10 (posts 0-9)\n",
      "  Taking a 30 second break...\n",
      "Completed batch 2/10 (posts 10-19)\n",
      "  Taking a 30 second break...\n",
      "Completed batch 3/10 (posts 20-29)\n",
      "  Taking a 30 second break...\n",
      "Completed batch 4/10 (posts 30-39)\n",
      "  Taking a 30 second break...\n",
      "Completed batch 5/10 (posts 40-49)\n",
      "  Taking a 30 second break...\n",
      "Completed batch 6/10 (posts 50-59)\n",
      "  Taking a 30 second break...\n",
      "Completed batch 7/10 (posts 60-69)\n",
      "  Taking a 30 second break...\n",
      "Completed batch 8/10 (posts 70-79)\n",
      "  Taking a 30 second break...\n",
      "Completed batch 9/10 (posts 80-89)\n",
      "  Taking a 30 second break...\n",
      "Completed batch 10/10 (posts 90-99)\n",
      "\n",
      "Processing complete!\n",
      "Successfully processed: 100 blog posts\n"
     ]
    }
   ],
   "source": [
    "import time\n",
    "\n",
    "batch_size = 10\n",
    "total_batches = len(sampled_posts) // batch_size + (1 if len(sampled_posts) % batch_size > 0 else 0)\n",
    "\n",
    "results = []  # (idx, text, actual_author, predicted_author)\n",
    "errors = []\n",
    "print(f'Starting processing of {len(sampled_posts)} blog posts in {total_batches} batches')\n",
    "\n",
    "for batch in range(total_batches):\n",
    "    start_idx = batch * batch_size\n",
    "    end_idx = min((batch + 1) * batch_size, len(sampled_posts))\n",
    "    batch_errors = 0\n",
    "    for idx in range(start_idx, end_idx):\n",
    "        row = sampled_posts.iloc[idx]\n",
    "        blog_text = row['text']\n",
    "        actual_author = normalize_author_id(row['id'])\n",
    "        prompt = f\"\"\"\n",
    "You are an expert in linguistic analysis and authorship attribution. Your task is to analyze authorship--i.e. idiolectal--markers that the texts reveal about their authors.\n",
    "\n",
    "You will be provided with:\n",
    "1. Training samples from 2 different authors, identified only by an unique id number (734562 and 449628);\n",
    "2. A new text whose author you need to identify between those two authors\n",
    "\n",
    "Guideline for analysis:\n",
    "- Just use state of the art techniques to attribute authorship\n",
    "\n",
    "Author's id 734562 samples:\n",
    "{author_samples[author_ids[0]]}\n",
    "\n",
    "Author's id 449628 samples:\n",
    "{author_samples[author_ids[1]]}\n",
    "\n",
    "New text to analyze:\n",
    "{blog_text}\n",
    "\n",
    "Give as your answer only the author's id number and nothing else, like so: NNNNNN. Do not include any other text.\n",
    "\"\"\"\n",
    "        max_retries = 3\n",
    "        retry_delay = 120\n",
    "        for retry in range(max_retries):\n",
    "            try:\n",
    "                raw_prediction = get_completion(prompt).strip()\n",
    "                prediction = normalize_author_id(raw_prediction)\n",
    "                if prediction in [normalize_author_id(author_ids[0]), normalize_author_id(author_ids[1])]:\n",
    "                    results.append((idx, blog_text, actual_author, prediction))\n",
    "                else:\n",
    "                    batch_errors += 1\n",
    "                    errors.append((idx, f'Invalid prediction: {raw_prediction}'))\n",
    "                time.sleep(10)\n",
    "                break\n",
    "            except Exception as e:\n",
    "                if retry < max_retries - 1:\n",
    "                    time.sleep(retry_delay)\n",
    "                else:\n",
    "                    batch_errors += 1\n",
    "                    errors.append((idx, str(e)))\n",
    "                    break\n",
    "    print(f'Completed batch {batch + 1}/{total_batches} (posts {start_idx}-{end_idx-1})')\n",
    "    if batch_errors > 0:\n",
    "        print(f'  ⚠️  {batch_errors} errors in this batch')\n",
    "    if batch < total_batches - 1:\n",
    "        print('  Taking a 30 second break...')\n",
    "        time.sleep(30)\n",
    "\n",
    "print('\\nProcessing complete!')\n",
    "print(f'Successfully processed: {len(results)} blog posts')\n",
    "if errors:\n",
    "    print(f'Total errors: {len(errors)}')"
   ]
  },
  {
   "cell_type": "code",
   "execution_count": 17,
   "metadata": {},
   "outputs": [
    {
     "name": "stdout",
     "output_type": "stream",
     "text": [
      "Overall accuracy: 77.00% (77/100)\n",
      "Accuracy for 734562: 100.00% (40/40)\n",
      "Accuracy for 449628: 61.67% (37/60)\n"
     ]
    },
    {
     "data": {
      "image/png": "[encoded data removed]",
      "text/plain": [
       "<Figure size 800x600 with 2 Axes>"
      ]
     },
     "metadata": {},
     "output_type": "display_data"
    },
    {
     "name": "stdout",
     "output_type": "stream",
     "text": [
      "SOME CORRECTLY CLASSIFIED EXAMPLES:\\n\n",
      "Blog:            I read the rest of them too.  I never had an Atari to know about the suckiness that was a...\\nActual: 734562 | Predicted: 734562\\n------------------------------------------------------------\n",
      "Blog:            is chris 40 now?         ...\\nActual: 734562 | Predicted: 734562\\n------------------------------------------------------------\n",
      "Blog:            A glimpse of the Capital One intranet website:  Featured Value of the week: Integrity How...\\nActual: 734562 | Predicted: 734562\\n------------------------------------------------------------\n",
      "Blog:            Well, you could practice both at the same time...... Provided that the one you are dating...\\nActual: 734562 | Predicted: 734562\\n------------------------------------------------------------\n",
      "Blog:            From CNN...that M.R.I. is a lively girl indeed!  Quite giving.  'Bush visits troops, has ...\\nActual: 734562 | Predicted: 734562\\n------------------------------------------------------------\n",
      "Blog:            Castillion was rescued during the collapse by unnamed friends, and is now alive and well ...\\nActual: 734562 | Predicted: 734562\\n------------------------------------------------------------\n",
      "Blog:             'Start your own revolution and cut out the middleman.'  -- Billy Bragg, 'The Great Leap ...\\nActual: 449628 | Predicted: 449628\\n------------------------------------------------------------\n",
      "Blog:            ben had just made out with ethan hawke and i was getting ready to watch uma thurman strip...\\nActual: 734562 | Predicted: 734562\\n------------------------------------------------------------\n",
      "Blog:          urlLink Find your local Chamber of Commerce    Whether traveling or relocating, Chambers ar...\\nActual: 449628 | Predicted: 449628\\n------------------------------------------------------------\n",
      "Blog:                urlLink Slate.com | Google's Memory Upgrade - How Blogger could do more than improve ...\\nActual: 449628 | Predicted: 449628\\n------------------------------------------------------------\n",
      "\\nSOME INCORRECTLY CLASSIFIED EXAMPLES:\\n\n",
      "Blog:             'Do good and you will never regret it.'  - R.E. Littlejohn         ...\\nActual: 449628 | Predicted: 734562\\n------------------------------------------------------------\n",
      "Blog:             'Give me one friend, just one, who meets The needs of all my varying moods.'  -- Esther ...\\nActual: 449628 | Predicted: 734562\\n------------------------------------------------------------\n",
      "Blog:             I'm staying in an old hotel.  They send me a wake-up letter.'  -- Steven Wright         ...\\nActual: 449628 | Predicted: 734562\\n------------------------------------------------------------\n",
      "Blog:                urlLink How Some Spammers Get Your E-mail Address    Like I've often said, 'Friends d...\\nActual: 449628 | Predicted: 734562\\n------------------------------------------------------------\n",
      "Blog:               Staying True to My Tagline    'My dreams are weirder than yours'   Yesterday I dreamt ...\\nActual: 449628 | Predicted: 734562\\n------------------------------------------------------------\n",
      "Blog:               2001 Darwin Awards - Honorable Mention | TIED TO HIS WORK   January 2001, Florida | A ...\\nActual: 449628 | Predicted: 734562\\n------------------------------------------------------------\n",
      "Blog:               Needlephobia    urlLink Carla  talks about the changes to her family's life now that h...\\nActual: 449628 | Predicted: 734562\\n------------------------------------------------------------\n",
      "Blog:               From My Yahoo! - Dummies eTips  How many hours of your life have you lost looking for ...\\nActual: 449628 | Predicted: 734562\\n------------------------------------------------------------\n",
      "Blog:             'We propose a five-word constitutional amendment: There shall be open borders. People ar...\\nActual: 449628 | Predicted: 734562\\n------------------------------------------------------------\n",
      "Blog:                urlLink Charlie's Soapbox    Charlie Daniels has stepped up to the soapbox, ladies an...\\nActual: 449628 | Predicted: 734562\\n------------------------------------------------------------\n"
     ]
    }
   ],
   "source": [
    "import pandas as pd\n",
    "from sklearn.metrics import confusion_matrix\n",
    "import seaborn as sns\n",
    "import matplotlib.pyplot as plt\n",
    "\n",
    "if results:\n",
    "    predicted_authors = [r[3] for r in results]\n",
    "    actual_authors = [r[2] for r in results]\n",
    "    correct = sum(p == a for p, a in zip(predicted_authors, actual_authors))\n",
    "    final_accuracy = correct / len(predicted_authors)\n",
    "    print(f'Overall accuracy: {final_accuracy:.2%} ({correct}/{len(predicted_authors)})')\n",
    "    # Per-author accuracy\n",
    "    for author in [normalize_author_id(author_ids[0]), normalize_author_id(author_ids[1])]:\n",
    "        author_cases = [(p == author) for _, _, a, p in results if a == author]\n",
    "        if author_cases:\n",
    "            author_accuracy = sum(author_cases) / len(author_cases)\n",
    "            print(f'Accuracy for {author}: {author_accuracy:.2%} ({sum(author_cases)}/{len(author_cases)})')\n",
    "    # Confusion matrix\n",
    "    valid_results = [(a, p) for _, _, a, p in results if p in [normalize_author_id(author_ids[0]), normalize_author_id(author_ids[1])]]\n",
    "    if valid_results:\n",
    "        y_true = [r[0] for r in valid_results]\n",
    "        y_pred = [r[1] for r in valid_results]\n",
    "        cm = confusion_matrix(y_true, y_pred, labels=[normalize_author_id(author_ids[0]), normalize_author_id(author_ids[1])])\n",
    "        plt.figure(figsize=(8, 6))\n",
    "        sns.heatmap(cm, annot=True, fmt='d', xticklabels=[str(author_ids[0]), str(author_ids[1])], yticklabels=[str(author_ids[0]), str(author_ids[1])])\n",
    "        plt.title('Confusion Matrix')\n",
    "        plt.xlabel('Predicted')\n",
    "        plt.ylabel('Actual')\n",
    "        plt.show()\n",
    "    # Qualitative examples\n",
    "    results_df = pd.DataFrame(results, columns=['idx', 'text', 'actual_author', 'predicted_author'])\n",
    "    correct_cases = results_df[results_df['actual_author'] == results_df['predicted_author']]\n",
    "    incorrect_cases = results_df[results_df['actual_author'] != results_df['predicted_author']]\n",
    "    n_samples = 10\n",
    "    sampled_correct = correct_cases.sample(n=min(n_samples, len(correct_cases)), random_state=42)\n",
    "    sampled_incorrect = incorrect_cases.sample(n=min(n_samples, len(incorrect_cases)), random_state=42)\n",
    "    print('SOME CORRECTLY CLASSIFIED EXAMPLES:\\\\n')\n",
    "    for _, row in sampled_correct.iterrows():\n",
    "        print(f'Blog: {row[\"text\"][:100]}...\\\\nActual: {row[\"actual_author\"]} | Predicted: {row[\"predicted_author\"]}\\\\n{\"-\"*60}')\n",
    "    print('\\\\nSOME INCORRECTLY CLASSIFIED EXAMPLES:\\\\n')\n",
    "    for _, row in sampled_incorrect.iterrows():\n",
    "        print(f'Blog: {row[\"text\"][:100]}...\\\\nActual: {row[\"actual_author\"]} | Predicted: {row[\"predicted_author\"]}\\\\n{\"-\"*60}')"
   ]
  },
  {
   "cell_type": "code",
   "execution_count": 19,
   "metadata": {},
   "outputs": [],
   "source": [
    "# Save results as html for qualitative analysis\n",
    "sampled_correct['case'] = 'correct'\n",
    "sampled_incorrect['case'] = 'incorrect'\n",
    "qualitative_df = pd.concat([sampled_correct, sampled_incorrect])\n",
    "# Save to the \"data\" folder\n",
    "qualitative_df.to_html(\"./data/claude_qualitative_inspection.html\", index=False)\n",
    "\n"
   ]
  },
  {
   "cell_type": "code",
   "execution_count": 20,
   "metadata": {},
   "outputs": [],
   "source": [
    "# Ask Claude to explain the results\n",
    "\n",
    "prompt = f\"\"\"\n",
    "A Large Language Model was tasked with attributing authorship to blog posts from two authors, identified only by an unique id number (734562 and 449628).\n",
    "Generally, the model performed well, with close to 80% accuracy. However, it made some mistakes.\n",
    "\n",
    "You will be provided with:\n",
    "1. A list of texts that were correctly classified by the model\n",
    "2. A list of texts that were incorrectly classified by the model\n",
    "\n",
    "Your task and guidelines:\n",
    "Act as a linguistic expert. Your task is to explain the performance of the model. Think globally about the dataset and the discursive patterns that emerge. Give more focus/\n",
    "in trying to understand the mistakes the model made.\n",
    "Do not focus on individual tweets, but rather on the broader discursive patterns. Try, when possible, to use examples to illustrate those patterns.\n",
    "\n",
    "Here are the texts that were correctly classified by the model:\n",
    "<correct_cases>\n",
    "{sampled_correct['text'].to_string(index=False)}\n",
    "</correct_cases>\n",
    "\n",
    "Here are the texts that were incorrectly classified by the model:\n",
    "<incorrect_cases>\n",
    "{sampled_incorrect['text'].to_string(index=False)}\n",
    "</incorrect_cases>\n",
    "\n",
    "Your answer should be a two to three paragraph explanation about the performance of the model, following the guidelines above.\n",
    "\"\"\""
   ]
  },
  {
   "cell_type": "code",
   "execution_count": 21,
   "metadata": {},
   "outputs": [
    {
     "data": {
      "text/html": [
       "Based on the provided data, it appears the Large Language Model was generally successful in distinguishing between the two authors' writing styles, but encountered some challenges with certain types of content.\n",
       "\n",
       "The correctly classified texts showcase a mix of casual, conversational language (e.g., \"is chris 40 now?\") and more formal, informative content (e.g., references to CNN, Chamber of Commerce). These texts often contain personal observations, references to current events or media, and links to external content. The model seems adept at recognizing these patterns as characteristic of one author or the other.\n",
       "\n",
       "However, the incorrectly classified texts reveal some interesting patterns that likely confused the model. Many of these misclassified examples contain quotations or aphorisms (e.g., \"Do good and you will never regret it,\" \"Give me one friend, just one, who will...\"). There's also a prevalence of titles or headings followed by links (e.g., \"Charlie's Soapbox,\" \"2001 Darwin Awards - Honorable Mentions\"). This suggests the model may have difficulty when an author is sharing content that isn't in their typical voice, such as quotes or curated content from other sources. Additionally, the presence of more formal or structured content, like the \"Dummies eTips\" reference, might have thrown off the model's understanding of the author's usual style. These misclassifications indicate that the model might be overly reliant on casual language cues and struggle when an author adopts a different tone or shares third-party content."
      ],
      "text/plain": [
       "<IPython.core.display.HTML object>"
      ]
     },
     "metadata": {},
     "output_type": "display_data"
    }
   ],
   "source": [
    "from IPython.display import display, HTML\n",
    "\n",
    "qualitative_explanation = get_completion(prompt)\n",
    "display(HTML(qualitative_explanation))\n"
   ]
  }
 ],
 "metadata": {
  "kernelspec": {
   "display_name": "cup",
   "language": "python",
   "name": "python3"
  },
  "language_info": {
   "codemirror_mode": {
    "name": "ipython",
    "version": 3
   },
   "file_extension": ".py",
   "mimetype": "text/x-python",
   "name": "python",
   "nbconvert_exporter": "python",
   "pygments_lexer": "ipython3",
   "version": "3.12.7"
  }
 },
 "nbformat": 4,
 "nbformat_minor": 2
}
