{
 "cells": [
  {
   "cell_type": "markdown",
   "metadata": {},
   "source": [
    "# Authorship verification experiment usint the Kaggle Blog Corpus with Claude"
   ]
  },
  {
   "cell_type": "code",
   "execution_count": 1,
   "metadata": {},
   "outputs": [],
   "source": [
    "import os \n",
    "import sys\n",
    "sys.path.append(os.path.abspath('..'))"
   ]
  },
  {
   "cell_type": "code",
   "execution_count": 2,
   "metadata": {},
   "outputs": [],
   "source": [
    "import pandas as pd\n",
    "import numpy as np"
   ]
  },
  {
   "cell_type": "code",
   "execution_count": 3,
   "metadata": {},
   "outputs": [],
   "source": [
    "from anthropic import Anthropic\n",
    "from credentials import get_credentials_claude\n",
    "\n",
    "API_KEY = get_credentials_claude()\n",
    "\n",
    "client = Anthropic(api_key=API_KEY)\n"
   ]
  },
  {
   "cell_type": "code",
   "execution_count": 5,
   "metadata": {},
   "outputs": [],
   "source": [
    "# Load the training and test sets\n",
    "train_path = \"./data/authorship_verification_kaggle_data_2_train.pkl\"\n",
    "test_path = \"./data/authorship_verification_kaggle_data_2_test.pkl\"\n",
    "\n",
    "df_train = pd.read_pickle(train_path)\n",
    "df_test = pd.read_pickle(test_path)"
   ]
  },
  {
   "cell_type": "code",
   "execution_count": 8,
   "metadata": {},
   "outputs": [],
   "source": [
    "#Create training string\n",
    "\n",
    "# Set random seed for reproducibility\n",
    "np.random.seed(42)\n",
    "\n",
    "# Get unique author IDs\n",
    "author_ids = df_train['id'].unique()\n",
    "\n",
    "# Dictionary to store concatenated texts\n",
    "author_samples = {}\n",
    "\n",
    "for author_id in author_ids:\n",
    "    # Sample 30 texts for this author\n",
    "    sample_texts = df_train[df_train['id'] == author_id]['text'].sample(n=30, random_state=42)\n",
    "    # Concatenate into a single string (separated by newlines or spaces)\n",
    "    concatenated = \"\\n\\n\".join(sample_texts)\n",
    "    author_samples[author_id] = concatenated\n",
    "\n",
    "\n"
   ]
  },
  {
   "cell_type": "code",
   "execution_count": 9,
   "metadata": {},
   "outputs": [
    {
     "name": "stdout",
     "output_type": "stream",
     "text": [
      "Author: 734562\n",
      "           nah, he's still has that huge ass poster in his bedroom.   and 'orthographical'?  wow, big word.          \n",
      "\n",
      "           when downloading porn just isn't enough anymore:  urlLink imaginarygirlfriends.com          \n",
      "\n",
      "           33% MORE!         \n",
      "\n",
      "           You must all think of me on Sunday, October 27th. It is my 29th birthday. I will probably be unable to attend the Blog-a-bration but will keep you, um, posted.         \n",
      "\n",
      "           Bless your heart, Mir...first Clark, now Edwards...no\n",
      "Author: 449628\n",
      "        Letters of Recommendation   Letters of recommendation are something that you could put in a professional portfolio, for example.  They are often requested in academic settings.  I found some links that hopefully will help  Michael Ernst, an Assistant Professor at MIT, offers his advice:   urlLink Requesting a letter of recommendation   urlLink Writing a letter of recommendation   Monster.com also has some advice:  urlLink Writing a Letter of Recommendation   As an employer, coworker, or \n"
     ]
    }
   ],
   "source": [
    "# Inspect the data\n",
    "\n",
    "for id in author_ids:\n",
    "    print(f\"Author: {id}\")\n",
    "    print(author_samples[id][:500])\n"
   ]
  },
  {
   "cell_type": "code",
   "execution_count": null,
   "metadata": {},
   "outputs": [],
   "source": []
  }
 ],
 "metadata": {
  "kernelspec": {
   "display_name": "cup",
   "language": "python",
   "name": "python3"
  },
  "language_info": {
   "codemirror_mode": {
    "name": "ipython",
    "version": 3
   },
   "file_extension": ".py",
   "mimetype": "text/x-python",
   "name": "python",
   "nbconvert_exporter": "python",
   "pygments_lexer": "ipython3",
   "version": "3.12.7"
  }
 },
 "nbformat": 4,
 "nbformat_minor": 2
}
