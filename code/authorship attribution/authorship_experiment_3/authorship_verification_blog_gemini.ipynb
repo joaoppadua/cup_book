{
 "cells": [
  {
   "cell_type": "markdown",
   "metadata": {},
   "source": [
    "# Authorship verification experiment using the Kaggle Blog Corpus with Gemini"
   ]
  },
  {
   "cell_type": "code",
   "execution_count": 1,
   "metadata": {},
   "outputs": [],
   "source": [
    "import os \n",
    "import sys\n",
    "sys.path.append(os.path.abspath('..'))"
   ]
  },
  {
   "cell_type": "code",
   "execution_count": 2,
   "metadata": {},
   "outputs": [],
   "source": [
    "import pandas as pd\n",
    "import numpy as np"
   ]
  },
  {
   "cell_type": "code",
   "execution_count": 3,
   "metadata": {},
   "outputs": [],
   "source": [
    "from credentials import get_credentials_gemini\n",
    "API_KEY = get_credentials_gemini()\n",
    "os.environ[\"GEMINI_API_KEY\"] = API_KEY\n",
    "\n",
    "import google.generativeai as genai\n",
    "\n",
    "\n",
    "genai.configure(api_key=os.getenv(\"GEMINI_API_KEY\"))\n"
   ]
  },
  {
   "cell_type": "code",
   "execution_count": 4,
   "metadata": {},
   "outputs": [],
   "source": [
    "# Load the training and test sets\n",
    "train_path = \"./data/authorship_verification_kaggle_data_2_train.pkl\"\n",
    "test_path = \"./data/authorship_verification_kaggle_data_2_test.pkl\"\n",
    "\n",
    "df_train = pd.read_pickle(train_path)\n",
    "df_test = pd.read_pickle(test_path)"
   ]
  },
  {
   "cell_type": "code",
   "execution_count": 5,
   "metadata": {},
   "outputs": [],
   "source": [
    "#Create training string\n",
    "\n",
    "# Set random seed for reproducibility\n",
    "np.random.seed(42)\n",
    "\n",
    "# Get unique author IDs\n",
    "author_ids = df_train['id'].unique()\n",
    "\n",
    "# Dictionary to store concatenated texts\n",
    "author_samples = {}\n",
    "\n",
    "for author_id in author_ids:\n",
    "    # Sample 30 texts for this author\n",
    "    sample_texts = df_train[df_train['id'] == author_id]['text'].sample(n=35, random_state=42)\n",
    "    # Concatenate into a single string (separated by newlines or spaces)\n",
    "    concatenated = \"\\n\\n\".join(sample_texts)\n",
    "    author_samples[author_id] = concatenated\n"
   ]
  },
  {
   "cell_type": "code",
   "execution_count": 6,
   "metadata": {},
   "outputs": [],
   "source": [
    "# Pick a random text from the test sample and get its author id\n",
    "test_text = df_test['text'].sample(n=1, random_state=42).values[0]\n",
    "test_author_id = df_test[df_test['text'] == test_text]['id'].values[0]\n"
   ]
  },
  {
   "cell_type": "code",
   "execution_count": 7,
   "metadata": {},
   "outputs": [],
   "source": [
    "# Create the template prompt\n",
    "\n",
    "prompt = f\"\"\"\n",
    "You are an expert in linguistic analysis and authorship attribution. Your task is to analyze authorship--i.e. idiolectal--markers that the \\\n",
    "texts reveal about their authors.\n",
    "\n",
    "\n",
    "You will be provided with:\n",
    "1. Training samples from 2 different authors, identified only by an unique id number (734562 and 449628);\n",
    "2. A new text whose author you need to identify between those two authors\n",
    "\n",
    "Guideline for analysis:\n",
    "- Just use state of the art techniques to attribute authorship\n",
    "\n",
    "Author's id 734562 samples:\n",
    "{author_samples[author_ids[0]]}\n",
    "\n",
    "Author's id 449628 samples:\n",
    "{author_samples[author_ids[1]]}\n",
    "\n",
    "New text to analyze:\n",
    "{test_text}\n",
    "\n",
    "Give as your answer only the author's id number and nothing else, like so: NNNNNN. Do not include any other text.\n",
    "\n",
    "\"\"\""
   ]
  },
  {
   "cell_type": "code",
   "execution_count": 8,
   "metadata": {},
   "outputs": [],
   "source": [
    "def get_completion(prompt: str, model: str = \"gemini-2.0-flash\") -> str:\n",
    "    '''\n",
    "    Generate a completion for a given prompt using the Gemini API\n",
    "    Args:\n",
    "        prompt: The prompt to generate a completion for\n",
    "        model: The model to use for the completion\n",
    "    Returns:\n",
    "        The completion for the prompt\n",
    "    '''\n",
    "    model = genai.GenerativeModel(model)\n",
    "    response = model.generate_content(prompt)\n",
    "    return response.text"
   ]
  },
  {
   "cell_type": "code",
   "execution_count": 9,
   "metadata": {},
   "outputs": [
    {
     "name": "stdout",
     "output_type": "stream",
     "text": [
      "734562\n",
      "\n"
     ]
    }
   ],
   "source": [
    "first_prediction = get_completion(prompt)\n",
    "print(first_prediction)"
   ]
  },
  {
   "cell_type": "code",
   "execution_count": 10,
   "metadata": {},
   "outputs": [
    {
     "name": "stdout",
     "output_type": "stream",
     "text": [
      "Actual author: 734562\n",
      "Predicted author: 734562\n",
      "Prediction is correct: True\n",
      "Accuracy: 1\n"
     ]
    }
   ],
   "source": [
    "# Check if the prediction is accurate\n",
    "# Get the actual author of the random tweet\n",
    "actual_author = str(test_author_id).lower()\n",
    "\n",
    "# Get the predicted author from the model's response\n",
    "predicted_author = first_prediction.strip().lower()\n",
    "\n",
    "# Check if the prediction matches the actual author\n",
    "is_correct = predicted_author == actual_author\n",
    "\n",
    "print(f\"Actual author: {actual_author}\")\n",
    "print(f\"Predicted author: {predicted_author}\")\n",
    "print(f\"Prediction is correct: {is_correct}\")\n",
    "\n",
    "# Calculate accuracy (1 for correct, 0 for incorrect)\n",
    "accuracy = 1 if is_correct else 0\n",
    "print(f\"Accuracy: {accuracy}\")"
   ]
  },
  {
   "cell_type": "code",
   "execution_count": 11,
   "metadata": {},
   "outputs": [
    {
     "name": "stdout",
     "output_type": "stream",
     "text": [
      "Created sample dataset with 100 blog posts\n",
      "Sample distribution:\n",
      "id\n",
      "449628    60\n",
      "734562    40\n",
      "Name: count, dtype: int64\n"
     ]
    }
   ],
   "source": [
    "# Sample 100 test blog posts for evaluation\n",
    "n_samples = 100\n",
    "sampled_posts = df_test.sample(n=n_samples, random_state=42).reset_index(drop=True)\n",
    "print(f'Created sample dataset with {len(sampled_posts)} blog posts')\n",
    "print('Sample distribution:')\n",
    "print(sampled_posts['id'].value_counts())"
   ]
  },
  {
   "cell_type": "code",
   "execution_count": 12,
   "metadata": {},
   "outputs": [],
   "source": [
    "def normalize_author_id(author_id):\n",
    "    return str(author_id).strip()"
   ]
  },
  {
   "cell_type": "code",
   "execution_count": 13,
   "metadata": {},
   "outputs": [
    {
     "name": "stdout",
     "output_type": "stream",
     "text": [
      "Starting processing of 100 blog posts in 10 batches\n",
      "Completed batch 1/10 (posts 0-9)\n",
      "  Taking a 30 second break...\n",
      "Completed batch 2/10 (posts 10-19)\n",
      "  Taking a 30 second break...\n",
      "Completed batch 3/10 (posts 20-29)\n",
      "  Taking a 30 second break...\n",
      "Completed batch 4/10 (posts 30-39)\n",
      "  Taking a 30 second break...\n",
      "Completed batch 5/10 (posts 40-49)\n",
      "  Taking a 30 second break...\n",
      "Completed batch 6/10 (posts 50-59)\n",
      "  Taking a 30 second break...\n",
      "Completed batch 7/10 (posts 60-69)\n",
      "  Taking a 30 second break...\n",
      "Completed batch 8/10 (posts 70-79)\n",
      "  Taking a 30 second break...\n",
      "Completed batch 9/10 (posts 80-89)\n",
      "  Taking a 30 second break...\n",
      "Completed batch 10/10 (posts 90-99)\n",
      "\n",
      "Processing complete!\n",
      "Successfully processed: 100 blog posts\n"
     ]
    }
   ],
   "source": [
    "import time\n",
    "\n",
    "batch_size = 10\n",
    "total_batches = len(sampled_posts) // batch_size + (1 if len(sampled_posts) % batch_size > 0 else 0)\n",
    "\n",
    "results = []  # (idx, text, actual_author, predicted_author)\n",
    "errors = []\n",
    "print(f'Starting processing of {len(sampled_posts)} blog posts in {total_batches} batches')\n",
    "\n",
    "for batch in range(total_batches):\n",
    "    start_idx = batch * batch_size\n",
    "    end_idx = min((batch + 1) * batch_size, len(sampled_posts))\n",
    "    batch_errors = 0\n",
    "    for idx in range(start_idx, end_idx):\n",
    "        row = sampled_posts.iloc[idx]\n",
    "        blog_text = row['text']\n",
    "        actual_author = normalize_author_id(row['id'])\n",
    "        prompt = f\"\"\"\n",
    "You are an expert in linguistic analysis and authorship attribution. Your task is to analyze authorship--i.e. idiolectal--markers that the texts reveal about their authors.\n",
    "\n",
    "You will be provided with:\n",
    "1. Training samples from 2 different authors, identified only by an unique id number (734562 and 449628);\n",
    "2. A new text whose author you need to identify between those two authors\n",
    "\n",
    "Guideline for analysis:\n",
    "- Just use state of the art techniques to attribute authorship\n",
    "\n",
    "Author's id 734562 samples:\n",
    "{author_samples[author_ids[0]]}\n",
    "\n",
    "Author's id 449628 samples:\n",
    "{author_samples[author_ids[1]]}\n",
    "\n",
    "New text to analyze:\n",
    "{blog_text}\n",
    "\n",
    "Give as your answer only the author's id number and nothing else, like so: NNNNNN. Do not include any other text.\n",
    "\"\"\"\n",
    "        max_retries = 3\n",
    "        retry_delay = 120\n",
    "        for retry in range(max_retries):\n",
    "            try:\n",
    "                raw_prediction = get_completion(prompt).strip()\n",
    "                prediction = normalize_author_id(raw_prediction)\n",
    "                if prediction in [normalize_author_id(author_ids[0]), normalize_author_id(author_ids[1])]:\n",
    "                    results.append((idx, blog_text, actual_author, prediction))\n",
    "                else:\n",
    "                    batch_errors += 1\n",
    "                    errors.append((idx, f'Invalid prediction: {raw_prediction}'))\n",
    "                time.sleep(10)\n",
    "                break\n",
    "            except Exception as e:\n",
    "                if retry < max_retries - 1:\n",
    "                    time.sleep(retry_delay)\n",
    "                else:\n",
    "                    batch_errors += 1\n",
    "                    errors.append((idx, str(e)))\n",
    "                    break\n",
    "    print(f'Completed batch {batch + 1}/{total_batches} (posts {start_idx}-{end_idx-1})')\n",
    "    if batch_errors > 0:\n",
    "        print(f'  ⚠️  {batch_errors} errors in this batch')\n",
    "    if batch < total_batches - 1:\n",
    "        print('  Taking a 30 second break...')\n",
    "        time.sleep(30)\n",
    "\n",
    "print('\\nProcessing complete!')\n",
    "print(f'Successfully processed: {len(results)} blog posts')\n",
    "if errors:\n",
    "    print(f'Total errors: {len(errors)}')"
   ]
  },
  {
   "cell_type": "code",
   "execution_count": 14,
   "metadata": {},
   "outputs": [
    {
     "name": "stdout",
     "output_type": "stream",
     "text": [
      "Overall accuracy: 94.00% (94/100)\n",
      "Accuracy for 734562: 87.50% (35/40)\n",
      "Accuracy for 449628: 98.33% (59/60)\n"
     ]
    },
    {
     "data": {
      "image/png": "[encoded data removed]",
      "text/plain": [
       "<Figure size 800x600 with 2 Axes>"
      ]
     },
     "metadata": {},
     "output_type": "display_data"
    },
    {
     "name": "stdout",
     "output_type": "stream",
     "text": [
      "SOME CORRECTLY CLASSIFIED EXAMPLES:\\n\n",
      "Blog:            oh stop it yel.  hardly anyone blogs here - let the ones who will be here, be here. shees...\\nActual: 734562 | Predicted: 734562\\n------------------------------------------------------------\n",
      "Blog:          urlLink Nine Things You Should Never Say In An Interview    Avoid the interview pitfalls as...\\nActual: 449628 | Predicted: 449628\\n------------------------------------------------------------\n",
      "Blog:            I had the same though when I read it.         ...\\nActual: 734562 | Predicted: 734562\\n------------------------------------------------------------\n",
      "Blog:             'Every generation has underestimated the potential for finding new ideas...Possibilities...\\nActual: 449628 | Predicted: 449628\\n------------------------------------------------------------\n",
      "Blog:            Well, you could practice both at the same time...... Provided that the one you are dating...\\nActual: 734562 | Predicted: 734562\\n------------------------------------------------------------\n",
      "Blog:            Neal - I think Jennifer was meaning to ask me that question.  Julie is doing fine (except...\\nActual: 734562 | Predicted: 734562\\n------------------------------------------------------------\n",
      "Blog:                urlLink YesterdayLand | Your Childhood is Here    From the  urlLink Founder's Forum :...\\nActual: 449628 | Predicted: 449628\\n------------------------------------------------------------\n",
      "Blog:          urlLink Jobs Are Coming    So saith a story published by Christian Science Monitor via ABC ...\\nActual: 449628 | Predicted: 449628\\n------------------------------------------------------------\n",
      "Blog:          urlLink A Nightmare on the Job    'When is a company responsible for a shooting?'  The July...\\nActual: 449628 | Predicted: 449628\\n------------------------------------------------------------\n",
      "Blog:          urlLink The Best Companies to Work for in Europe    According to this article from Forbes, ...\\nActual: 449628 | Predicted: 449628\\n------------------------------------------------------------\n",
      "\\nSOME INCORRECTLY CLASSIFIED EXAMPLES:\\n\n",
      "Blog:            In 'Star Trek: First Contact,' the Borg's 'eye flashes are actually Morse code, spelling ...\\nActual: 734562 | Predicted: 449628\\n------------------------------------------------------------\n",
      "Blog:            A glimpse of the Capital One intranet website:  Featured Value of the week: Integrity How...\\nActual: 734562 | Predicted: 449628\\n------------------------------------------------------------\n",
      "Blog:               Staying True to My Tagline    'My dreams are weirder than yours'   Yesterday I dreamt ...\\nActual: 449628 | Predicted: 734562\\n------------------------------------------------------------\n",
      "Blog:            from mr. fitzgerald: The test of a first-rate intelligence is the ability to hold two opp...\\nActual: 734562 | Predicted: 449628\\n------------------------------------------------------------\n",
      "Blog:            Okay, I guess from now on, my humorous remarks will come after the serious ones.  My comm...\\nActual: 734562 | Predicted: 449628\\n------------------------------------------------------------\n",
      "Blog:            From CNN...that M.R.I. is a lively girl indeed!  Quite giving.  'Bush visits troops, has ...\\nActual: 734562 | Predicted: 449628\\n------------------------------------------------------------\n"
     ]
    }
   ],
   "source": [
    "import pandas as pd\n",
    "from sklearn.metrics import confusion_matrix\n",
    "import seaborn as sns\n",
    "import matplotlib.pyplot as plt\n",
    "\n",
    "if results:\n",
    "    predicted_authors = [r[3] for r in results]\n",
    "    actual_authors = [r[2] for r in results]\n",
    "    correct = sum(p == a for p, a in zip(predicted_authors, actual_authors))\n",
    "    final_accuracy = correct / len(predicted_authors)\n",
    "    print(f'Overall accuracy: {final_accuracy:.2%} ({correct}/{len(predicted_authors)})')\n",
    "    # Per-author accuracy\n",
    "    for author in [normalize_author_id(author_ids[0]), normalize_author_id(author_ids[1])]:\n",
    "        author_cases = [(p == author) for _, _, a, p in results if a == author]\n",
    "        if author_cases:\n",
    "            author_accuracy = sum(author_cases) / len(author_cases)\n",
    "            print(f'Accuracy for {author}: {author_accuracy:.2%} ({sum(author_cases)}/{len(author_cases)})')\n",
    "    # Confusion matrix\n",
    "    valid_results = [(a, p) for _, _, a, p in results if p in [normalize_author_id(author_ids[0]), normalize_author_id(author_ids[1])]]\n",
    "    if valid_results:\n",
    "        y_true = [r[0] for r in valid_results]\n",
    "        y_pred = [r[1] for r in valid_results]\n",
    "        cm = confusion_matrix(y_true, y_pred, labels=[normalize_author_id(author_ids[0]), normalize_author_id(author_ids[1])])\n",
    "        plt.figure(figsize=(8, 6))\n",
    "        sns.heatmap(cm, annot=True, fmt='d', xticklabels=[str(author_ids[0]), str(author_ids[1])], yticklabels=[str(author_ids[0]), str(author_ids[1])])\n",
    "        plt.title('Confusion Matrix')\n",
    "        plt.xlabel('Predicted')\n",
    "        plt.ylabel('Actual')\n",
    "        plt.show()\n",
    "    # Qualitative examples\n",
    "    results_df = pd.DataFrame(results, columns=['idx', 'text', 'actual_author', 'predicted_author'])\n",
    "    correct_cases = results_df[results_df['actual_author'] == results_df['predicted_author']]\n",
    "    incorrect_cases = results_df[results_df['actual_author'] != results_df['predicted_author']]\n",
    "    n_samples = 10\n",
    "    sampled_correct = correct_cases.sample(n=min(n_samples, len(correct_cases)), random_state=42)\n",
    "    sampled_incorrect = incorrect_cases.sample(n=min(n_samples, len(incorrect_cases)), random_state=42)\n",
    "    print('SOME CORRECTLY CLASSIFIED EXAMPLES:\\\\n')\n",
    "    for _, row in sampled_correct.iterrows():\n",
    "        print(f'Blog: {row[\"text\"][:100]}...\\\\nActual: {row[\"actual_author\"]} | Predicted: {row[\"predicted_author\"]}\\\\n{\"-\"*60}')\n",
    "    print('\\\\nSOME INCORRECTLY CLASSIFIED EXAMPLES:\\\\n')\n",
    "    for _, row in sampled_incorrect.iterrows():\n",
    "        print(f'Blog: {row[\"text\"][:100]}...\\\\nActual: {row[\"actual_author\"]} | Predicted: {row[\"predicted_author\"]}\\\\n{\"-\"*60}')"
   ]
  },
  {
   "cell_type": "code",
   "execution_count": 15,
   "metadata": {},
   "outputs": [],
   "source": [
    "# Save results as html for qualitative analysis\n",
    "sampled_correct['case'] = 'correct'\n",
    "sampled_incorrect['case'] = 'incorrect'\n",
    "qualitative_df = pd.concat([sampled_correct, sampled_incorrect])\n",
    "# Save to the \"data\" folder\n",
    "qualitative_df.to_html(\"./data/gemini_qualitative_inspection.html\", index=False)\n",
    "\n"
   ]
  },
  {
   "cell_type": "code",
   "execution_count": 16,
   "metadata": {},
   "outputs": [],
   "source": [
    "# Ask Gemini to explain the results\n",
    "\n",
    "prompt = f\"\"\"\n",
    "A Large Language Model was tasked with attributing authorship to blog posts from two authors, identified only by an unique id number (734562 and 449628).\n",
    "Generally, the model performed well, with about 90% accuracy. However, it made some mistakes.\n",
    "\n",
    "You will be provided with:\n",
    "1. A list of texts that were correctly classified by the model\n",
    "2. A list of texts that were incorrectly classified by the model\n",
    "\n",
    "Your task and guidelines:\n",
    "Act as a linguistic expert. Your task is to explain the performance of the model. Think globally about the dataset and the discursive patterns that emerge. Give more focus/\n",
    "in trying to understand the mistakes the model made.\n",
    "Do not focus on individual tweets, but rather on the broader discursive patterns. Try, when possible, to use examples to illustrate those patterns.\n",
    "\n",
    "Here are the texts that were correctly classified by the model:\n",
    "<correct_cases>\n",
    "{sampled_correct['text'].to_string(index=False)}\n",
    "</correct_cases>\n",
    "\n",
    "Here are the texts that were incorrectly classified by the model:\n",
    "<incorrect_cases>\n",
    "{sampled_incorrect['text'].to_string(index=False)}\n",
    "</incorrect_cases>\n",
    "\n",
    "Your answer should be a two to three paragraph explanation about the performance of the model, following the guidelines above.\n",
    "\"\"\""
   ]
  },
  {
   "cell_type": "code",
   "execution_count": 17,
   "metadata": {},
   "outputs": [
    {
     "data": {
      "text/html": [
       "The model's high overall accuracy suggests it effectively learned stylistic differences between the two authors, likely focusing on vocabulary, sentence structure, topic preferences, and maybe even sentiment markers within their blog posts. The correctly classified texts point towards a possible understanding of author 734562 using more casual, conversational language (\"oh stop it yel,\" \"I had the same though\"), engaging in direct dialogue (\"Neal - I think Jennifer was meaning\"), and frequently sharing links to external resources, possibly with brief, informal commentary. Author 449628, based on the correct classifications, seems to focus more on job-related and career-oriented topics, signaled by the titles of shared links like \"Jobs Are Coming\" and \"The Best Companies to Work for\".\n",
       "\n",
       "The misclassifications, however, reveal the model's limitations. A key observation is the presence of direct quotations and references to external sources in the incorrectly classified texts. Phrases like \"In 'Star Trek: First Contact',\" \"From CNN,\" and \"from mr. fitzgerald\" suggest the model struggled to differentiate between the authors' typical writing style and their use of quoted material. The model may have been trained to associate certain phrases or vocabulary with one author, but failed to recognize when those elements were being presented within a different context (e.g., a quotation) by the other author. It is possible that author 449628 frequently quoted from external sources, leading the model to incorrectly attribute posts containing quotations to them, regardless of the actual author.\n",
       "\n",
       "Finally, the title-like sentence \"Staying True to My Tagline\" has a more 'corporate' sound, and might be mistakenly attributed to Author 449628, since the model was able to infer that this author focused on job-related and career-oriented topics. A similar pattern might apply to \"A glimpse of the Capital One Intranet\", since it seems related to the corporate world. The model may also struggle with changes in tone, as seen in \"Okay, I guess from now on, my humorous...\" where the shift to a more reflective or self-aware tone might confuse the classification. Essentially, the model relies heavily on recognizable patterns and struggles when authors deviate from their established stylistic norms or incorporate external voices into their posts.\n"
      ],
      "text/plain": [
       "<IPython.core.display.HTML object>"
      ]
     },
     "metadata": {},
     "output_type": "display_data"
    }
   ],
   "source": [
    "from IPython.display import display, HTML\n",
    "\n",
    "qualitative_explanation = get_completion(prompt)\n",
    "display(HTML(qualitative_explanation))\n"
   ]
  }
 ],
 "metadata": {
  "kernelspec": {
   "display_name": "cup",
   "language": "python",
   "name": "python3"
  },
  "language_info": {
   "codemirror_mode": {
    "name": "ipython",
    "version": 3
   },
   "file_extension": ".py",
   "mimetype": "text/x-python",
   "name": "python",
   "nbconvert_exporter": "python",
   "pygments_lexer": "ipython3",
   "version": "3.12.7"
  }
 },
 "nbformat": 4,
 "nbformat_minor": 2
}
