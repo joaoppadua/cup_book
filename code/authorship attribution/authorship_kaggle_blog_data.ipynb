{
 "cells": [
  {
   "cell_type": "markdown",
   "metadata": {},
   "source": [
    "# Blog Authorship Corpus Exercise\n",
    "\n",
    "This notebook work with the Blog Authorship Corpus dataset from Kaggle to experiment with LLMs and their potential for authorship attribution."
   ]
  },
  {
   "cell_type": "code",
   "execution_count": 1,
   "metadata": {},
   "outputs": [
    {
     "name": "stdout",
     "output_type": "stream",
     "text": [
      "Requirement already satisfied: kaggle in /Users/joaopedropadua/anaconda3/envs/cup/lib/python3.12/site-packages (1.7.4.2)\n",
      "Requirement already satisfied: bleach in /Users/joaopedropadua/anaconda3/envs/cup/lib/python3.12/site-packages (from kaggle) (6.2.0)\n",
      "Requirement already satisfied: certifi>=14.05.14 in /Users/joaopedropadua/anaconda3/envs/cup/lib/python3.12/site-packages (from kaggle) (2024.8.30)\n",
      "Requirement already satisfied: charset-normalizer in /Users/joaopedropadua/anaconda3/envs/cup/lib/python3.12/site-packages (from kaggle) (3.4.0)\n",
      "Requirement already satisfied: idna in /Users/joaopedropadua/anaconda3/envs/cup/lib/python3.12/site-packages (from kaggle) (3.10)\n",
      "Requirement already satisfied: protobuf in /Users/joaopedropadua/anaconda3/envs/cup/lib/python3.12/site-packages (from kaggle) (6.30.1)\n",
      "Requirement already satisfied: python-dateutil>=2.5.3 in /Users/joaopedropadua/anaconda3/envs/cup/lib/python3.12/site-packages (from kaggle) (2.9.0)\n",
      "Requirement already satisfied: python-slugify in /Users/joaopedropadua/anaconda3/envs/cup/lib/python3.12/site-packages (from kaggle) (8.0.4)\n",
      "Requirement already satisfied: requests in /Users/joaopedropadua/anaconda3/envs/cup/lib/python3.12/site-packages (from kaggle) (2.32.3)\n",
      "Requirement already satisfied: setuptools>=21.0.0 in /Users/joaopedropadua/anaconda3/envs/cup/lib/python3.12/site-packages (from kaggle) (75.1.0)\n",
      "Requirement already satisfied: six>=1.10 in /Users/joaopedropadua/anaconda3/envs/cup/lib/python3.12/site-packages (from kaggle) (1.16.0)\n",
      "Requirement already satisfied: text-unidecode in /Users/joaopedropadua/anaconda3/envs/cup/lib/python3.12/site-packages (from kaggle) (1.3)\n",
      "Requirement already satisfied: tqdm in /Users/joaopedropadua/anaconda3/envs/cup/lib/python3.12/site-packages (from kaggle) (4.66.5)\n",
      "Requirement already satisfied: urllib3>=1.15.1 in /Users/joaopedropadua/anaconda3/envs/cup/lib/python3.12/site-packages (from kaggle) (2.2.3)\n",
      "Requirement already satisfied: webencodings in /Users/joaopedropadua/anaconda3/envs/cup/lib/python3.12/site-packages (from kaggle) (0.5.1)\n"
     ]
    }
   ],
   "source": [
    "!pip install kaggle"
   ]
  },
  {
   "cell_type": "code",
   "execution_count": 2,
   "metadata": {},
   "outputs": [
    {
     "name": "stdout",
     "output_type": "stream",
     "text": [
      "Collecting kagglehub\n",
      "  Downloading kagglehub-0.3.10-py3-none-any.whl.metadata (31 kB)\n",
      "Requirement already satisfied: packaging in /Users/joaopedropadua/anaconda3/envs/cup/lib/python3.12/site-packages (from kagglehub) (24.1)\n",
      "Collecting pyyaml (from kagglehub)\n",
      "  Downloading PyYAML-6.0.2-cp312-cp312-macosx_10_9_x86_64.whl.metadata (2.1 kB)\n",
      "Requirement already satisfied: requests in /Users/joaopedropadua/anaconda3/envs/cup/lib/python3.12/site-packages (from kagglehub) (2.32.3)\n",
      "Requirement already satisfied: tqdm in /Users/joaopedropadua/anaconda3/envs/cup/lib/python3.12/site-packages (from kagglehub) (4.66.5)\n",
      "Requirement already satisfied: charset-normalizer<4,>=2 in /Users/joaopedropadua/anaconda3/envs/cup/lib/python3.12/site-packages (from requests->kagglehub) (3.4.0)\n",
      "Requirement already satisfied: idna<4,>=2.5 in /Users/joaopedropadua/anaconda3/envs/cup/lib/python3.12/site-packages (from requests->kagglehub) (3.10)\n",
      "Requirement already satisfied: urllib3<3,>=1.21.1 in /Users/joaopedropadua/anaconda3/envs/cup/lib/python3.12/site-packages (from requests->kagglehub) (2.2.3)\n",
      "Requirement already satisfied: certifi>=2017.4.17 in /Users/joaopedropadua/anaconda3/envs/cup/lib/python3.12/site-packages (from requests->kagglehub) (2024.8.30)\n",
      "Downloading kagglehub-0.3.10-py3-none-any.whl (63 kB)\n",
      "Downloading PyYAML-6.0.2-cp312-cp312-macosx_10_9_x86_64.whl (183 kB)\n",
      "Installing collected packages: pyyaml, kagglehub\n",
      "Successfully installed kagglehub-0.3.10 pyyaml-6.0.2\n"
     ]
    }
   ],
   "source": [
    "!pip install kagglehub"
   ]
  },
  {
   "cell_type": "code",
   "execution_count": 2,
   "metadata": {},
   "outputs": [
    {
     "name": "stderr",
     "output_type": "stream",
     "text": [
      "/Users/joaopedropadua/anaconda3/envs/cup/lib/python3.12/site-packages/tqdm/auto.py:21: TqdmWarning: IProgress not found. Please update jupyter and ipywidgets. See https://ipywidgets.readthedocs.io/en/stable/user_install.html\n",
      "  from .autonotebook import tqdm as notebook_tqdm\n"
     ]
    },
    {
     "name": "stdout",
     "output_type": "stream",
     "text": [
      "Path to dataset files: /Users/joaopedropadua/.cache/kagglehub/datasets/rtatman/blog-authorship-corpus/versions/2\n"
     ]
    }
   ],
   "source": [
    "import kagglehub\n",
    "\n",
    "# Download latest version\n",
    "path = kagglehub.dataset_download(\"rtatman/blog-authorship-corpus\")\n",
    "\n",
    "print(\"Path to dataset files:\", path)"
   ]
  },
  {
   "cell_type": "code",
   "execution_count": 3,
   "metadata": {},
   "outputs": [
    {
     "name": "stdout",
     "output_type": "stream",
     "text": [
      "Files in the dataset:\n",
      "- blogtext.csv\n"
     ]
    }
   ],
   "source": [
    "# Let's examine the contents of the downloaded dataset\n",
    "import os\n",
    "import pandas as pd\n",
    "\n",
    "# List the files in the downloaded directory\n",
    "print(\"Files in the dataset:\")\n",
    "for file in os.listdir(path):\n",
    "    print(f\"- {file}\")\n",
    "\n"
   ]
  },
  {
   "cell_type": "code",
   "execution_count": 4,
   "metadata": {},
   "outputs": [
    {
     "name": "stdout",
     "output_type": "stream",
     "text": [
      "\n",
      "Reading the first CSV file:\n",
      "\n",
      "First few rows of the dataset:\n"
     ]
    },
    {
     "data": {
      "text/html": [
       "<div>\n",
       "<style scoped>\n",
       "    .dataframe tbody tr th:only-of-type {\n",
       "        vertical-align: middle;\n",
       "    }\n",
       "\n",
       "    .dataframe tbody tr th {\n",
       "        vertical-align: top;\n",
       "    }\n",
       "\n",
       "    .dataframe thead th {\n",
       "        text-align: right;\n",
       "    }\n",
       "</style>\n",
       "<table border=\"1\" class=\"dataframe\">\n",
       "  <thead>\n",
       "    <tr style=\"text-align: right;\">\n",
       "      <th></th>\n",
       "      <th>id</th>\n",
       "      <th>gender</th>\n",
       "      <th>age</th>\n",
       "      <th>topic</th>\n",
       "      <th>sign</th>\n",
       "      <th>date</th>\n",
       "      <th>text</th>\n",
       "    </tr>\n",
       "  </thead>\n",
       "  <tbody>\n",
       "    <tr>\n",
       "      <th>0</th>\n",
       "      <td>2059027</td>\n",
       "      <td>male</td>\n",
       "      <td>15</td>\n",
       "      <td>Student</td>\n",
       "      <td>Leo</td>\n",
       "      <td>14,May,2004</td>\n",
       "      <td>Info has been found (+/- 100 pages,...</td>\n",
       "    </tr>\n",
       "    <tr>\n",
       "      <th>1</th>\n",
       "      <td>2059027</td>\n",
       "      <td>male</td>\n",
       "      <td>15</td>\n",
       "      <td>Student</td>\n",
       "      <td>Leo</td>\n",
       "      <td>13,May,2004</td>\n",
       "      <td>These are the team members:   Drewe...</td>\n",
       "    </tr>\n",
       "    <tr>\n",
       "      <th>2</th>\n",
       "      <td>2059027</td>\n",
       "      <td>male</td>\n",
       "      <td>15</td>\n",
       "      <td>Student</td>\n",
       "      <td>Leo</td>\n",
       "      <td>12,May,2004</td>\n",
       "      <td>In het kader van kernfusie op aarde...</td>\n",
       "    </tr>\n",
       "    <tr>\n",
       "      <th>3</th>\n",
       "      <td>2059027</td>\n",
       "      <td>male</td>\n",
       "      <td>15</td>\n",
       "      <td>Student</td>\n",
       "      <td>Leo</td>\n",
       "      <td>12,May,2004</td>\n",
       "      <td>testing!!!  testing!!!</td>\n",
       "    </tr>\n",
       "    <tr>\n",
       "      <th>4</th>\n",
       "      <td>3581210</td>\n",
       "      <td>male</td>\n",
       "      <td>33</td>\n",
       "      <td>InvestmentBanking</td>\n",
       "      <td>Aquarius</td>\n",
       "      <td>11,June,2004</td>\n",
       "      <td>Thanks to Yahoo!'s Toolbar I can ...</td>\n",
       "    </tr>\n",
       "  </tbody>\n",
       "</table>\n",
       "</div>"
      ],
      "text/plain": [
       "        id gender  age              topic      sign          date  \\\n",
       "0  2059027   male   15            Student       Leo   14,May,2004   \n",
       "1  2059027   male   15            Student       Leo   13,May,2004   \n",
       "2  2059027   male   15            Student       Leo   12,May,2004   \n",
       "3  2059027   male   15            Student       Leo   12,May,2004   \n",
       "4  3581210   male   33  InvestmentBanking  Aquarius  11,June,2004   \n",
       "\n",
       "                                                text  \n",
       "0             Info has been found (+/- 100 pages,...  \n",
       "1             These are the team members:   Drewe...  \n",
       "2             In het kader van kernfusie op aarde...  \n",
       "3                   testing!!!  testing!!!            \n",
       "4               Thanks to Yahoo!'s Toolbar I can ...  "
      ]
     },
     "metadata": {},
     "output_type": "display_data"
    },
    {
     "name": "stdout",
     "output_type": "stream",
     "text": [
      "\n",
      "Dataset shape: (681284, 7)\n"
     ]
    }
   ],
   "source": [
    "# If there's a CSV file, let's read it\n",
    "csv_files = [f for f in os.listdir(path) if f.endswith('.csv')]\n",
    "if csv_files:\n",
    "    print(\"\\nReading the first CSV file:\")\n",
    "    df = pd.read_csv(os.path.join(path, csv_files[0]))\n",
    "    print(\"\\nFirst few rows of the dataset:\")\n",
    "    display(df.head())\n",
    "    print(\"\\nDataset shape:\", df.shape)"
   ]
  },
  {
   "cell_type": "code",
   "execution_count": 5,
   "metadata": {},
   "outputs": [],
   "source": [
    "# Group the data by id  and count the number of texts per author\n",
    "author_counts = df.groupby('id').size().reset_index(name='text_count')\n",
    "\n",
    "# Sort the authors by the number of texts in descending order\n",
    "author_counts = author_counts.sort_values(by='text_count', ascending=False)\n",
    "\n"
   ]
  },
  {
   "cell_type": "code",
   "execution_count": 6,
   "metadata": {},
   "outputs": [
    {
     "data": {
      "text/html": [
       "<div>\n",
       "<style scoped>\n",
       "    .dataframe tbody tr th:only-of-type {\n",
       "        vertical-align: middle;\n",
       "    }\n",
       "\n",
       "    .dataframe tbody tr th {\n",
       "        vertical-align: top;\n",
       "    }\n",
       "\n",
       "    .dataframe thead th {\n",
       "        text-align: right;\n",
       "    }\n",
       "</style>\n",
       "<table border=\"1\" class=\"dataframe\">\n",
       "  <thead>\n",
       "    <tr style=\"text-align: right;\">\n",
       "      <th></th>\n",
       "      <th>id</th>\n",
       "      <th>text_count</th>\n",
       "    </tr>\n",
       "  </thead>\n",
       "  <tbody>\n",
       "    <tr>\n",
       "      <th>180</th>\n",
       "      <td>449628</td>\n",
       "      <td>4221</td>\n",
       "    </tr>\n",
       "    <tr>\n",
       "      <th>410</th>\n",
       "      <td>734562</td>\n",
       "      <td>2301</td>\n",
       "    </tr>\n",
       "    <tr>\n",
       "      <th>280</th>\n",
       "      <td>589736</td>\n",
       "      <td>2294</td>\n",
       "    </tr>\n",
       "    <tr>\n",
       "      <th>1872</th>\n",
       "      <td>1975546</td>\n",
       "      <td>2261</td>\n",
       "    </tr>\n",
       "    <tr>\n",
       "      <th>635</th>\n",
       "      <td>958176</td>\n",
       "      <td>2244</td>\n",
       "    </tr>\n",
       "    <tr>\n",
       "      <th>784</th>\n",
       "      <td>1107146</td>\n",
       "      <td>2237</td>\n",
       "    </tr>\n",
       "    <tr>\n",
       "      <th>145</th>\n",
       "      <td>303162</td>\n",
       "      <td>2114</td>\n",
       "    </tr>\n",
       "    <tr>\n",
       "      <th>618</th>\n",
       "      <td>942828</td>\n",
       "      <td>2068</td>\n",
       "    </tr>\n",
       "    <tr>\n",
       "      <th>971</th>\n",
       "      <td>1270648</td>\n",
       "      <td>1951</td>\n",
       "    </tr>\n",
       "    <tr>\n",
       "      <th>1601</th>\n",
       "      <td>1784456</td>\n",
       "      <td>1843</td>\n",
       "    </tr>\n",
       "  </tbody>\n",
       "</table>\n",
       "</div>"
      ],
      "text/plain": [
       "           id  text_count\n",
       "180    449628        4221\n",
       "410    734562        2301\n",
       "280    589736        2294\n",
       "1872  1975546        2261\n",
       "635    958176        2244\n",
       "784   1107146        2237\n",
       "145    303162        2114\n",
       "618    942828        2068\n",
       "971   1270648        1951\n",
       "1601  1784456        1843"
      ]
     },
     "execution_count": 6,
     "metadata": {},
     "output_type": "execute_result"
    }
   ],
   "source": [
    "author_counts.head(10)"
   ]
  },
  {
   "cell_type": "code",
   "execution_count": 7,
   "metadata": {},
   "outputs": [
    {
     "data": {
      "text/html": [
       "<div>\n",
       "<style scoped>\n",
       "    .dataframe tbody tr th:only-of-type {\n",
       "        vertical-align: middle;\n",
       "    }\n",
       "\n",
       "    .dataframe tbody tr th {\n",
       "        vertical-align: top;\n",
       "    }\n",
       "\n",
       "    .dataframe thead th {\n",
       "        text-align: right;\n",
       "    }\n",
       "</style>\n",
       "<table border=\"1\" class=\"dataframe\">\n",
       "  <thead>\n",
       "    <tr style=\"text-align: right;\">\n",
       "      <th></th>\n",
       "      <th>id</th>\n",
       "      <th>gender</th>\n",
       "      <th>age</th>\n",
       "      <th>topic</th>\n",
       "      <th>sign</th>\n",
       "      <th>date</th>\n",
       "      <th>text</th>\n",
       "      <th>text_count</th>\n",
       "    </tr>\n",
       "  </thead>\n",
       "  <tbody>\n",
       "    <tr>\n",
       "      <th>0</th>\n",
       "      <td>589736</td>\n",
       "      <td>male</td>\n",
       "      <td>35</td>\n",
       "      <td>Technology</td>\n",
       "      <td>Aries</td>\n",
       "      <td>05,August,2004</td>\n",
       "      <td>Much funny.  2 points.  As mentioned in the...</td>\n",
       "      <td>2294</td>\n",
       "    </tr>\n",
       "    <tr>\n",
       "      <th>1</th>\n",
       "      <td>589736</td>\n",
       "      <td>male</td>\n",
       "      <td>35</td>\n",
       "      <td>Technology</td>\n",
       "      <td>Aries</td>\n",
       "      <td>05,August,2004</td>\n",
       "      <td>Harpers, Harpers, everywhere.  Harpers, Har...</td>\n",
       "      <td>2294</td>\n",
       "    </tr>\n",
       "    <tr>\n",
       "      <th>2</th>\n",
       "      <td>589736</td>\n",
       "      <td>male</td>\n",
       "      <td>35</td>\n",
       "      <td>Technology</td>\n",
       "      <td>Aries</td>\n",
       "      <td>05,August,2004</td>\n",
       "      <td>In an earlier post, Johnathan said:   'And ...</td>\n",
       "      <td>2294</td>\n",
       "    </tr>\n",
       "    <tr>\n",
       "      <th>3</th>\n",
       "      <td>589736</td>\n",
       "      <td>male</td>\n",
       "      <td>35</td>\n",
       "      <td>Technology</td>\n",
       "      <td>Aries</td>\n",
       "      <td>05,August,2004</td>\n",
       "      <td>I'd post this on the RTG Blog, but I can't...</td>\n",
       "      <td>2294</td>\n",
       "    </tr>\n",
       "    <tr>\n",
       "      <th>4</th>\n",
       "      <td>589736</td>\n",
       "      <td>male</td>\n",
       "      <td>35</td>\n",
       "      <td>Technology</td>\n",
       "      <td>Aries</td>\n",
       "      <td>05,August,2004</td>\n",
       "      <td>The answer to the first question lies with ...</td>\n",
       "      <td>2294</td>\n",
       "    </tr>\n",
       "  </tbody>\n",
       "</table>\n",
       "</div>"
      ],
      "text/plain": [
       "       id gender  age       topic   sign            date  \\\n",
       "0  589736   male   35  Technology  Aries  05,August,2004   \n",
       "1  589736   male   35  Technology  Aries  05,August,2004   \n",
       "2  589736   male   35  Technology  Aries  05,August,2004   \n",
       "3  589736   male   35  Technology  Aries  05,August,2004   \n",
       "4  589736   male   35  Technology  Aries  05,August,2004   \n",
       "\n",
       "                                                text  text_count  \n",
       "0     Much funny.  2 points.  As mentioned in the...        2294  \n",
       "1     Harpers, Harpers, everywhere.  Harpers, Har...        2294  \n",
       "2     In an earlier post, Johnathan said:   'And ...        2294  \n",
       "3      I'd post this on the RTG Blog, but I can't...        2294  \n",
       "4     The answer to the first question lies with ...        2294  "
      ]
     },
     "execution_count": 7,
     "metadata": {},
     "output_type": "execute_result"
    }
   ],
   "source": [
    "#Retreive only the top 10 authors in a new dataframe\n",
    "top_authors = author_counts.head(10)\n",
    "\n",
    "df_top_authors = df.copy()\n",
    "\n",
    "#Merge the top authors with the original dataframe\n",
    "df_top_authors = pd.merge(df_top_authors, top_authors, on='id', how='inner')\n",
    "\n",
    "df_top_authors.head()"
   ]
  },
  {
   "cell_type": "code",
   "execution_count": 8,
   "metadata": {},
   "outputs": [
    {
     "name": "stdout",
     "output_type": "stream",
     "text": [
      "Train set shape: (20, 8)\n",
      "\n",
      "Sample of the train set (first few rows):\n"
     ]
    },
    {
     "data": {
      "text/html": [
       "<div>\n",
       "<style scoped>\n",
       "    .dataframe tbody tr th:only-of-type {\n",
       "        vertical-align: middle;\n",
       "    }\n",
       "\n",
       "    .dataframe tbody tr th {\n",
       "        vertical-align: top;\n",
       "    }\n",
       "\n",
       "    .dataframe thead th {\n",
       "        text-align: right;\n",
       "    }\n",
       "</style>\n",
       "<table border=\"1\" class=\"dataframe\">\n",
       "  <thead>\n",
       "    <tr style=\"text-align: right;\">\n",
       "      <th></th>\n",
       "      <th>id</th>\n",
       "      <th>gender</th>\n",
       "      <th>age</th>\n",
       "      <th>topic</th>\n",
       "      <th>sign</th>\n",
       "      <th>date</th>\n",
       "      <th>text</th>\n",
       "      <th>text_count</th>\n",
       "    </tr>\n",
       "  </thead>\n",
       "  <tbody>\n",
       "    <tr>\n",
       "      <th>0</th>\n",
       "      <td>449628</td>\n",
       "      <td>male</td>\n",
       "      <td>34</td>\n",
       "      <td>indUnk</td>\n",
       "      <td>Aries</td>\n",
       "      <td>05,June,2003</td>\n",
       "      <td>urlLink A Day in the Country 20...</td>\n",
       "      <td>4221</td>\n",
       "    </tr>\n",
       "    <tr>\n",
       "      <th>1</th>\n",
       "      <td>449628</td>\n",
       "      <td>male</td>\n",
       "      <td>34</td>\n",
       "      <td>indUnk</td>\n",
       "      <td>Aries</td>\n",
       "      <td>20,February,2003</td>\n",
       "      <td>urlLink DE Japan : Resources : Career...</td>\n",
       "      <td>4221</td>\n",
       "    </tr>\n",
       "    <tr>\n",
       "      <th>2</th>\n",
       "      <td>734562</td>\n",
       "      <td>female</td>\n",
       "      <td>24</td>\n",
       "      <td>Arts</td>\n",
       "      <td>Libra</td>\n",
       "      <td>03,August,2004</td>\n",
       "      <td>You ain't fat!  You ain't nothin'! ...</td>\n",
       "      <td>2301</td>\n",
       "    </tr>\n",
       "    <tr>\n",
       "      <th>3</th>\n",
       "      <td>734562</td>\n",
       "      <td>female</td>\n",
       "      <td>24</td>\n",
       "      <td>Arts</td>\n",
       "      <td>Libra</td>\n",
       "      <td>03,August,2004</td>\n",
       "      <td>so no one was amused by the old JLS...</td>\n",
       "      <td>2301</td>\n",
       "    </tr>\n",
       "    <tr>\n",
       "      <th>4</th>\n",
       "      <td>589736</td>\n",
       "      <td>male</td>\n",
       "      <td>35</td>\n",
       "      <td>Technology</td>\n",
       "      <td>Aries</td>\n",
       "      <td>05,August,2004</td>\n",
       "      <td>i'm sorry that i didn't let the gro...</td>\n",
       "      <td>2294</td>\n",
       "    </tr>\n",
       "  </tbody>\n",
       "</table>\n",
       "</div>"
      ],
      "text/plain": [
       "       id  gender  age       topic   sign              date  \\\n",
       "0  449628    male   34      indUnk  Aries      05,June,2003   \n",
       "1  449628    male   34      indUnk  Aries  20,February,2003   \n",
       "2  734562  female   24        Arts  Libra    03,August,2004   \n",
       "3  734562  female   24        Arts  Libra    03,August,2004   \n",
       "4  589736    male   35  Technology  Aries    05,August,2004   \n",
       "\n",
       "                                                text  text_count  \n",
       "0                 urlLink A Day in the Country 20...        4221  \n",
       "1           urlLink DE Japan : Resources : Career...        4221  \n",
       "2             You ain't fat!  You ain't nothin'! ...        2301  \n",
       "3             so no one was amused by the old JLS...        2301  \n",
       "4             i'm sorry that i didn't let the gro...        2294  "
      ]
     },
     "metadata": {},
     "output_type": "display_data"
    },
    {
     "name": "stdout",
     "output_type": "stream",
     "text": [
      "\n",
      "Test set shape: (23514, 8)\n"
     ]
    }
   ],
   "source": [
    "# Create a train set with two texts from each author\n",
    "train_set = pd.DataFrame()\n",
    "\n",
    "# For each author ID in our top authors\n",
    "for author_id in top_authors['id']:\n",
    "    # Get all texts from this author\n",
    "    author_texts = df_top_authors[df_top_authors['id'] == author_id]\n",
    "    \n",
    "    # Randomly select 2 texts from this author\n",
    "    # Using sample with random_state for reproducibility\n",
    "    author_sample = author_texts.sample(n=2, random_state=42)\n",
    "    \n",
    "    # Add these texts to our train set\n",
    "    train_set = pd.concat([train_set, author_sample])\n",
    "\n",
    "# Reset the index of the train set\n",
    "train_set = train_set.reset_index(drop=True)\n",
    "\n",
    "# Display the first few rows of the train set\n",
    "print(\"Train set shape:\", train_set.shape)\n",
    "print(\"\\nSample of the train set (first few rows):\")\n",
    "display(train_set.head())\n",
    "\n",
    "# Create a test set with the remaining texts\n",
    "test_set = df_top_authors[~df_top_authors.index.isin(train_set.index)]\n",
    "test_set = test_set.reset_index(drop=True)\n",
    "\n",
    "print(\"\\nTest set shape:\", test_set.shape)\n",
    "\n",
    "\n"
   ]
  },
  {
   "cell_type": "code",
   "execution_count": 9,
   "metadata": {},
   "outputs": [
    {
     "name": "stdout",
     "output_type": "stream",
     "text": [
      "Train set also saved to 'train_set.pkl'\n",
      "Test set also saved to 'test_set.pkl'\n"
     ]
    }
   ],
   "source": [
    "# Save as pickle files for preserving data types\n",
    "train_set.to_pickle('train_set.pkl')\n",
    "test_set.to_pickle('test_set.pkl')\n",
    "\n",
    "print(\"Train set also saved to 'train_set.pkl'\")\n",
    "print(\"Test set also saved to 'test_set.pkl'\")\n"
   ]
  }
 ],
 "metadata": {
  "kernelspec": {
   "display_name": "cup",
   "language": "python",
   "name": "python3"
  },
  "language_info": {
   "codemirror_mode": {
    "name": "ipython",
    "version": 3
   },
   "file_extension": ".py",
   "mimetype": "text/x-python",
   "name": "python",
   "nbconvert_exporter": "python",
   "pygments_lexer": "ipython3",
   "version": "3.12.7"
  }
 },
 "nbformat": 4,
 "nbformat_minor": 4
}
